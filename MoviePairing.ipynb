{
 "cells": [
  {
   "cell_type": "code",
   "execution_count": 191,
   "outputs": [],
   "source": [
    "import pandas as pd\n",
    "import numpy as np\n",
    "import plotly.express as px # data visualisation\n",
    "from sklearn.model_selection import train_test_split\n"
   ],
   "metadata": {
    "collapsed": false,
    "ExecuteTime": {
     "end_time": "2024-07-07T17:35:56.230219800Z",
     "start_time": "2024-07-07T17:35:53.355795700Z"
    }
   },
   "id": "initial_id"
  },
  {
   "cell_type": "markdown",
   "source": [
    "# Import the dataset MovieLens"
   ],
   "metadata": {
    "collapsed": false
   },
   "id": "8faceaa26de97c86"
  },
  {
   "cell_type": "code",
   "execution_count": 13,
   "outputs": [],
   "source": [
    "def clean_movie_title(movie_title):\n",
    "    \"\"\"\n",
    "    Cleans up a movie title string by removing unnecessary characters and formatting.\n",
    "    \n",
    "    This function performs several operations on the input movie title:\n",
    "    \n",
    "    1. Removes the year enclosed in parentheses at the end of the title if present.\n",
    "    2. Corrects the capitalization of articles ('The', 'A') when they precede the main title.\n",
    "    3. Converts the entire title to lowercase to ensure consistency in case sensitivity.\n",
    "    \n",
    "    Parameters:\n",
    "    - movie_title (str): The original movie title string that needs cleaning.\n",
    "    \n",
    "    Returns:\n",
    "    - str: The cleaned-up movie title string.\n",
    "    \"\"\"\n",
    "    if movie_title.split(\" \")[-1].startswith(\"(\"):\n",
    "        # remove year from the title, e.g. Toy Story (1995) --> Toy Story\n",
    "        movie_title = (\" \".join(movie_title.split(\" \")[:-1])).strip()\n",
    "\n",
    "    if movie_title.title().split(',')[-1].strip() in ['The', 'A']:\n",
    "        # article + movie title, e.g. Saint, The --> The Saint\n",
    "        movie_title = (movie_title.title().split(',')[-1].strip() + \" \" + \" \".join(movie_title.title().split(',')[:-1])).strip()\n",
    "\n",
    "    # otherwise, it was converting The Devil's Advocate to The Devil'S Advocate\n",
    "    movie_title = movie_title.lower()\n",
    "    return movie_title"
   ],
   "metadata": {
    "collapsed": false,
    "ExecuteTime": {
     "start_time": "2024-07-06T15:46:59.186801600Z"
    }
   },
   "id": "5ccd13e349ec200d"
  },
  {
   "cell_type": "code",
   "execution_count": 66,
   "outputs": [],
   "source": [
    "unames = ['user_id', 'gender', 'age', 'occupation', 'zip']\n",
    "users = pd.read_table('data/ml-1m/users.dat', sep='::',\n",
    "                      header=None, names=unames, engine='python')\n",
    "\n",
    "rnames = ['user_id', 'movie_id', 'rating', 'timestamp']\n",
    "ratings = pd.read_table('data/ml-1m/ratings.dat', sep='::',\n",
    " header=None, names=rnames, engine='python')\n",
    "\n",
    "mnames = ['movie_id', 'title', 'genres']\n",
    "movies = pd.read_table('data/ml-1m/movies.dat', sep='::',\n",
    " header=None, names=mnames, engine='python', encoding='latin-1')\n",
    "\n",
    "movies[\"release\"] = movies[\"title\"].apply(lambda row: row.split(\"(\")[-1].strip(\")\"))\n",
    "movies[\"title\"] = movies[\"title\"].apply(lambda row : clean_movie_title(row))"
   ],
   "metadata": {
    "collapsed": false,
    "ExecuteTime": {
     "start_time": "2024-07-06T16:30:21.983801600Z"
    }
   },
   "id": "6abc4cf66036d368"
  },
  {
   "cell_type": "code",
   "execution_count": 68,
   "outputs": [
    {
     "data": {
      "text/plain": "   movie_id                        title                        genres release\n0         1                    toy story   Animation|Children's|Comedy    1995\n1         2                      jumanji  Adventure|Children's|Fantasy    1995\n2         3             grumpier old men                Comedy|Romance    1995\n3         4            waiting to exhale                  Comedy|Drama    1995\n4         5  father of the bride part ii                        Comedy    1995",
      "text/html": "<div>\n<style scoped>\n    .dataframe tbody tr th:only-of-type {\n        vertical-align: middle;\n    }\n\n    .dataframe tbody tr th {\n        vertical-align: top;\n    }\n\n    .dataframe thead th {\n        text-align: right;\n    }\n</style>\n<table border=\"1\" class=\"dataframe\">\n  <thead>\n    <tr style=\"text-align: right;\">\n      <th></th>\n      <th>movie_id</th>\n      <th>title</th>\n      <th>genres</th>\n      <th>release</th>\n    </tr>\n  </thead>\n  <tbody>\n    <tr>\n      <th>0</th>\n      <td>1</td>\n      <td>toy story</td>\n      <td>Animation|Children's|Comedy</td>\n      <td>1995</td>\n    </tr>\n    <tr>\n      <th>1</th>\n      <td>2</td>\n      <td>jumanji</td>\n      <td>Adventure|Children's|Fantasy</td>\n      <td>1995</td>\n    </tr>\n    <tr>\n      <th>2</th>\n      <td>3</td>\n      <td>grumpier old men</td>\n      <td>Comedy|Romance</td>\n      <td>1995</td>\n    </tr>\n    <tr>\n      <th>3</th>\n      <td>4</td>\n      <td>waiting to exhale</td>\n      <td>Comedy|Drama</td>\n      <td>1995</td>\n    </tr>\n    <tr>\n      <th>4</th>\n      <td>5</td>\n      <td>father of the bride part ii</td>\n      <td>Comedy</td>\n      <td>1995</td>\n    </tr>\n  </tbody>\n</table>\n</div>"
     },
     "execution_count": 68,
     "metadata": {},
     "output_type": "execute_result"
    }
   ],
   "source": [
    "print(movies)"
   ],
   "metadata": {
    "collapsed": false,
    "ExecuteTime": {
     "start_time": "2024-07-06T16:30:59.962840600Z"
    }
   },
   "id": "b9ddae2ee0636abe"
  },
  {
   "cell_type": "code",
   "execution_count": 67,
   "outputs": [],
   "source": [
    "data = pd.merge(pd.merge(ratings, users), movies)"
   ],
   "metadata": {
    "collapsed": false,
    "ExecuteTime": {
     "start_time": "2024-07-06T16:30:29.627373400Z"
    }
   },
   "id": "a4deacb250f507d9"
  },
  {
   "cell_type": "code",
   "execution_count": 22,
   "outputs": [
    {
     "data": {
      "text/plain": "   user_id  movie_id  rating  timestamp gender  age  occupation    zip  \\\n0        1      1193       5  978300760      F    1          10  48067   \n1        2      1193       5  978298413      M   56          16  70072   \n2       12      1193       4  978220179      M   25          12  32793   \n3       15      1193       4  978199279      M   25           7  22903   \n4       17      1193       5  978158471      M   50           1  95350   \n\n                             title genres  \n0  one flew over the cuckoo's nest  Drama  \n1  one flew over the cuckoo's nest  Drama  \n2  one flew over the cuckoo's nest  Drama  \n3  one flew over the cuckoo's nest  Drama  \n4  one flew over the cuckoo's nest  Drama  ",
      "text/html": "<div>\n<style scoped>\n    .dataframe tbody tr th:only-of-type {\n        vertical-align: middle;\n    }\n\n    .dataframe tbody tr th {\n        vertical-align: top;\n    }\n\n    .dataframe thead th {\n        text-align: right;\n    }\n</style>\n<table border=\"1\" class=\"dataframe\">\n  <thead>\n    <tr style=\"text-align: right;\">\n      <th></th>\n      <th>user_id</th>\n      <th>movie_id</th>\n      <th>rating</th>\n      <th>timestamp</th>\n      <th>gender</th>\n      <th>age</th>\n      <th>occupation</th>\n      <th>zip</th>\n      <th>title</th>\n      <th>genres</th>\n    </tr>\n  </thead>\n  <tbody>\n    <tr>\n      <th>0</th>\n      <td>1</td>\n      <td>1193</td>\n      <td>5</td>\n      <td>978300760</td>\n      <td>F</td>\n      <td>1</td>\n      <td>10</td>\n      <td>48067</td>\n      <td>one flew over the cuckoo's nest</td>\n      <td>Drama</td>\n    </tr>\n    <tr>\n      <th>1</th>\n      <td>2</td>\n      <td>1193</td>\n      <td>5</td>\n      <td>978298413</td>\n      <td>M</td>\n      <td>56</td>\n      <td>16</td>\n      <td>70072</td>\n      <td>one flew over the cuckoo's nest</td>\n      <td>Drama</td>\n    </tr>\n    <tr>\n      <th>2</th>\n      <td>12</td>\n      <td>1193</td>\n      <td>4</td>\n      <td>978220179</td>\n      <td>M</td>\n      <td>25</td>\n      <td>12</td>\n      <td>32793</td>\n      <td>one flew over the cuckoo's nest</td>\n      <td>Drama</td>\n    </tr>\n    <tr>\n      <th>3</th>\n      <td>15</td>\n      <td>1193</td>\n      <td>4</td>\n      <td>978199279</td>\n      <td>M</td>\n      <td>25</td>\n      <td>7</td>\n      <td>22903</td>\n      <td>one flew over the cuckoo's nest</td>\n      <td>Drama</td>\n    </tr>\n    <tr>\n      <th>4</th>\n      <td>17</td>\n      <td>1193</td>\n      <td>5</td>\n      <td>978158471</td>\n      <td>M</td>\n      <td>50</td>\n      <td>1</td>\n      <td>95350</td>\n      <td>one flew over the cuckoo's nest</td>\n      <td>Drama</td>\n    </tr>\n  </tbody>\n</table>\n</div>"
     },
     "execution_count": 22,
     "metadata": {},
     "output_type": "execute_result"
    }
   ],
   "source": [
    "data.head()"
   ],
   "metadata": {
    "collapsed": false,
    "ExecuteTime": {
     "end_time": "2024-07-06T15:51:54.548539500Z",
     "start_time": "2024-07-06T15:51:54.519182200Z"
    }
   },
   "id": "c4cb1445e2efe944"
  },
  {
   "cell_type": "markdown",
   "source": [
    "# Import Dataset IMDb"
   ],
   "metadata": {
    "collapsed": false
   },
   "id": "e75a97064f99870b"
  },
  {
   "cell_type": "code",
   "execution_count": 69,
   "outputs": [
    {
     "name": "stderr",
     "output_type": "stream",
     "text": [
      "C:\\Users\\IGPap\\AppData\\Local\\Temp\\ipykernel_13684\\1911749083.py:3: DtypeWarning: Columns (4) have mixed types. Specify dtype option on import or set low_memory=False.\n",
      "  imdb_movies = pd.read_table('data/title.basics.tsv')\n"
     ]
    }
   ],
   "source": [
    "imdb_name = pd.read_table('data/name.basics.tsv')\n",
    "imdb_movies = pd.read_table('data/title.basics.tsv')"
   ],
   "metadata": {
    "collapsed": false,
    "ExecuteTime": {
     "end_time": "2024-07-06T16:34:39.962065300Z",
     "start_time": "2024-07-06T16:34:02.637573100Z"
    }
   },
   "id": "afdb94dba52ca60e"
  },
  {
   "cell_type": "code",
   "execution_count": 70,
   "outputs": [
    {
     "data": {
      "text/plain": "        tconst                          title release runtimeMinutes  \\\n8    tt0000009                     miss jerry    1894             45   \n144  tt0000147  the corbett-fitzsimmons fight    1897            100   \n498  tt0000502                       bohemios    1905            100   \n570  tt0000574    the story of the kelly gang    1906             70   \n587  tt0000591              l'enfant prodigue    1907             90   \n\n                         genres  \n8                       Romance  \n144      Documentary,News,Sport  \n498                          \\N  \n570  Action,Adventure,Biography  \n587                       Drama  ",
      "text/html": "<div>\n<style scoped>\n    .dataframe tbody tr th:only-of-type {\n        vertical-align: middle;\n    }\n\n    .dataframe tbody tr th {\n        vertical-align: top;\n    }\n\n    .dataframe thead th {\n        text-align: right;\n    }\n</style>\n<table border=\"1\" class=\"dataframe\">\n  <thead>\n    <tr style=\"text-align: right;\">\n      <th></th>\n      <th>tconst</th>\n      <th>title</th>\n      <th>release</th>\n      <th>runtimeMinutes</th>\n      <th>genres</th>\n    </tr>\n  </thead>\n  <tbody>\n    <tr>\n      <th>8</th>\n      <td>tt0000009</td>\n      <td>miss jerry</td>\n      <td>1894</td>\n      <td>45</td>\n      <td>Romance</td>\n    </tr>\n    <tr>\n      <th>144</th>\n      <td>tt0000147</td>\n      <td>the corbett-fitzsimmons fight</td>\n      <td>1897</td>\n      <td>100</td>\n      <td>Documentary,News,Sport</td>\n    </tr>\n    <tr>\n      <th>498</th>\n      <td>tt0000502</td>\n      <td>bohemios</td>\n      <td>1905</td>\n      <td>100</td>\n      <td>\\N</td>\n    </tr>\n    <tr>\n      <th>570</th>\n      <td>tt0000574</td>\n      <td>the story of the kelly gang</td>\n      <td>1906</td>\n      <td>70</td>\n      <td>Action,Adventure,Biography</td>\n    </tr>\n    <tr>\n      <th>587</th>\n      <td>tt0000591</td>\n      <td>l'enfant prodigue</td>\n      <td>1907</td>\n      <td>90</td>\n      <td>Drama</td>\n    </tr>\n  </tbody>\n</table>\n</div>"
     },
     "execution_count": 70,
     "metadata": {},
     "output_type": "execute_result"
    }
   ],
   "source": [
    "imdb_movies = imdb_movies[imdb_movies['titleType'] == 'movie']\n",
    "imdb_movies.drop('endYear',axis = 1,inplace = True)\n",
    "imdb_movies.drop('titleType',axis = 1,inplace = True)\n",
    "imdb_movies.drop('isAdult',axis = 1,inplace = True)\n",
    "imdb_movies.drop('primaryTitle',axis = 1,inplace = True)\n",
    "imdb_movies.rename(columns={\"originalTitle\": \"title\"}, inplace=True)\n",
    "imdb_movies.rename(columns={\"startYear\": \"release\"}, inplace=True)\n",
    "imdb_movies[\"title\"] = imdb_movies[\"title\"].astype(str)\n",
    "imdb_movies[\"title\"] = imdb_movies[\"title\"].apply(lambda row : row.lower())\n",
    "\n",
    "imdb_movies.head()"
   ],
   "metadata": {
    "collapsed": false,
    "ExecuteTime": {
     "end_time": "2024-07-06T16:36:15.847483900Z",
     "start_time": "2024-07-06T16:36:13.987632600Z"
    }
   },
   "id": "67965f09a538bf3a"
  },
  {
   "cell_type": "code",
   "execution_count": 71,
   "outputs": [
    {
     "name": "stdout",
     "output_type": "stream",
     "text": [
      "(685520, 5)\n",
      "(1000209, 11)\n"
     ]
    }
   ],
   "source": [
    "print(imdb_movies.shape)\n",
    "print(data.shape)"
   ],
   "metadata": {
    "collapsed": false,
    "ExecuteTime": {
     "end_time": "2024-07-06T16:36:45.413070900Z",
     "start_time": "2024-07-06T16:36:45.405663900Z"
    }
   },
   "id": "dcb0e5975bd036d5"
  },
  {
   "cell_type": "markdown",
   "source": [
    "# Merge Datasets"
   ],
   "metadata": {
    "collapsed": false
   },
   "id": "3d8dcf04a8c32a73"
  },
  {
   "cell_type": "code",
   "execution_count": 72,
   "outputs": [],
   "source": [
    "df_movies = pd.merge(imdb_movies, movies, on=[\"title\", \"release\"])"
   ],
   "metadata": {
    "collapsed": false,
    "ExecuteTime": {
     "end_time": "2024-07-06T16:36:51.645806800Z",
     "start_time": "2024-07-06T16:36:51.501298500Z"
    }
   },
   "id": "b11cf98de51f2d63"
  },
  {
   "cell_type": "code",
   "execution_count": 210,
   "outputs": [
    {
     "data": {
      "text/plain": "      tconst                      title release runtimeMinutes  \\\n0  tt0010418            male and female    1919            116   \n1  tt0011652                the saphead    1920             77   \n2  tt0012349                    the kid    1921             68   \n3  tt0013662  tess of the storm country    1922            137   \n4  tt0015693                      cobra    1925             70   \n\n                 genres  movie_id  \n0       Adventure,Drama      2821  \n1  Comedy,Drama,Romance      3231  \n2   Comedy,Drama,Family      3310  \n3         Drama,Romance      3195  \n4         Drama,Romance      2777  ",
      "text/html": "<div>\n<style scoped>\n    .dataframe tbody tr th:only-of-type {\n        vertical-align: middle;\n    }\n\n    .dataframe tbody tr th {\n        vertical-align: top;\n    }\n\n    .dataframe thead th {\n        text-align: right;\n    }\n</style>\n<table border=\"1\" class=\"dataframe\">\n  <thead>\n    <tr style=\"text-align: right;\">\n      <th></th>\n      <th>tconst</th>\n      <th>title</th>\n      <th>release</th>\n      <th>runtimeMinutes</th>\n      <th>genres</th>\n      <th>movie_id</th>\n    </tr>\n  </thead>\n  <tbody>\n    <tr>\n      <th>0</th>\n      <td>tt0010418</td>\n      <td>male and female</td>\n      <td>1919</td>\n      <td>116</td>\n      <td>Adventure,Drama</td>\n      <td>2821</td>\n    </tr>\n    <tr>\n      <th>1</th>\n      <td>tt0011652</td>\n      <td>the saphead</td>\n      <td>1920</td>\n      <td>77</td>\n      <td>Comedy,Drama,Romance</td>\n      <td>3231</td>\n    </tr>\n    <tr>\n      <th>2</th>\n      <td>tt0012349</td>\n      <td>the kid</td>\n      <td>1921</td>\n      <td>68</td>\n      <td>Comedy,Drama,Family</td>\n      <td>3310</td>\n    </tr>\n    <tr>\n      <th>3</th>\n      <td>tt0013662</td>\n      <td>tess of the storm country</td>\n      <td>1922</td>\n      <td>137</td>\n      <td>Drama,Romance</td>\n      <td>3195</td>\n    </tr>\n    <tr>\n      <th>4</th>\n      <td>tt0015693</td>\n      <td>cobra</td>\n      <td>1925</td>\n      <td>70</td>\n      <td>Drama,Romance</td>\n      <td>2777</td>\n    </tr>\n  </tbody>\n</table>\n</div>"
     },
     "execution_count": 210,
     "metadata": {},
     "output_type": "execute_result"
    }
   ],
   "source": [
    "#df_movies.drop('genres_y',axis = 1,inplace = True)\n",
    "df_movies.rename(columns={\"genres_x\": \"genres\"}, inplace=True)\n",
    "df_movies.head()"
   ],
   "metadata": {
    "collapsed": false,
    "ExecuteTime": {
     "end_time": "2024-07-07T18:45:35.506330400Z",
     "start_time": "2024-07-07T18:45:34.787551Z"
    }
   },
   "id": "73bc17f23eb70822"
  },
  {
   "cell_type": "code",
   "execution_count": 211,
   "outputs": [
    {
     "data": {
      "text/plain": "(3075, 6)"
     },
     "execution_count": 211,
     "metadata": {},
     "output_type": "execute_result"
    }
   ],
   "source": [
    "df_movies.shape"
   ],
   "metadata": {
    "collapsed": false,
    "ExecuteTime": {
     "end_time": "2024-07-07T18:45:46.310027200Z",
     "start_time": "2024-07-07T18:45:45.620023900Z"
    }
   },
   "id": "f908d2825bb1a640"
  },
  {
   "cell_type": "markdown",
   "source": [
    "# Data Visualisation"
   ],
   "metadata": {
    "collapsed": false
   },
   "id": "1c40d01450292d59"
  },
  {
   "cell_type": "code",
   "execution_count": 212,
   "outputs": [
    {
     "data": {
      "text/plain": "    year  num_of_films\n1   1995           263\n2   1997           253\n3   1998           251\n4   1999           232\n5   1994           181\n..   ...           ...\n75  1928             3\n76  1920             1\n77  1922             1\n78  1921             1\n79  1919             1\n\n[79 rows x 2 columns]",
      "text/html": "<div>\n<style scoped>\n    .dataframe tbody tr th:only-of-type {\n        vertical-align: middle;\n    }\n\n    .dataframe tbody tr th {\n        vertical-align: top;\n    }\n\n    .dataframe thead th {\n        text-align: right;\n    }\n</style>\n<table border=\"1\" class=\"dataframe\">\n  <thead>\n    <tr style=\"text-align: right;\">\n      <th></th>\n      <th>year</th>\n      <th>num_of_films</th>\n    </tr>\n  </thead>\n  <tbody>\n    <tr>\n      <th>1</th>\n      <td>1995</td>\n      <td>263</td>\n    </tr>\n    <tr>\n      <th>2</th>\n      <td>1997</td>\n      <td>253</td>\n    </tr>\n    <tr>\n      <th>3</th>\n      <td>1998</td>\n      <td>251</td>\n    </tr>\n    <tr>\n      <th>4</th>\n      <td>1999</td>\n      <td>232</td>\n    </tr>\n    <tr>\n      <th>5</th>\n      <td>1994</td>\n      <td>181</td>\n    </tr>\n    <tr>\n      <th>...</th>\n      <td>...</td>\n      <td>...</td>\n    </tr>\n    <tr>\n      <th>75</th>\n      <td>1928</td>\n      <td>3</td>\n    </tr>\n    <tr>\n      <th>76</th>\n      <td>1920</td>\n      <td>1</td>\n    </tr>\n    <tr>\n      <th>77</th>\n      <td>1922</td>\n      <td>1</td>\n    </tr>\n    <tr>\n      <th>78</th>\n      <td>1921</td>\n      <td>1</td>\n    </tr>\n    <tr>\n      <th>79</th>\n      <td>1919</td>\n      <td>1</td>\n    </tr>\n  </tbody>\n</table>\n<p>79 rows × 2 columns</p>\n</div>"
     },
     "execution_count": 212,
     "metadata": {},
     "output_type": "execute_result"
    }
   ],
   "source": [
    "year = df_movies['release'].value_counts().sort_values(ascending = False).to_frame()\n",
    "year.reset_index(inplace = True)\n",
    "year.columns.values[0] = 'year'\n",
    "year.columns.values[1] = 'num_of_films'\n",
    "year = year.drop(0)\n",
    "year"
   ],
   "metadata": {
    "collapsed": false,
    "ExecuteTime": {
     "end_time": "2024-07-07T18:46:08.464921400Z",
     "start_time": "2024-07-07T18:46:08.426138600Z"
    }
   },
   "id": "b19eb882d58c05dc"
  },
  {
   "cell_type": "code",
   "execution_count": 213,
   "outputs": [
    {
     "data": {
      "application/vnd.plotly.v1+json": {
       "data": [
        {
         "alignmentgroup": "True",
         "hovertemplate": "Release Year=%{x}<br>Total Movies=%{marker.color}<extra></extra>",
         "legendgroup": "",
         "marker": {
          "color": [
           263,
           253,
           251,
           232,
           181,
           134,
           127,
           85,
           84,
           63,
           57,
           56,
           55,
           54,
           50,
           46,
           37,
           36,
           35,
           32,
           27,
           26,
           22,
           21,
           19,
           18,
           18,
           18,
           18,
           17,
           17,
           17,
           16,
           16,
           16,
           16,
           15,
           15,
           14,
           14,
           14,
           14,
           13,
           13,
           13,
           13,
           12,
           11,
           11,
           11,
           11,
           10,
           10,
           10,
           10,
           9,
           9,
           8,
           8,
           8,
           7,
           7,
           7,
           6,
           6,
           6,
           6,
           6,
           5,
           5,
           5,
           5,
           5,
           3,
           3,
           1,
           1,
           1,
           1
          ],
          "coloraxis": "coloraxis",
          "pattern": {
           "shape": ""
          }
         },
         "name": "",
         "offsetgroup": "",
         "orientation": "v",
         "showlegend": false,
         "textposition": "auto",
         "x": [
          "1995",
          "1997",
          "1998",
          "1999",
          "1994",
          "2000",
          "1993",
          "1986",
          "1992",
          "1990",
          "1988",
          "1987",
          "1985",
          "1984",
          "1991",
          "1989",
          "1982",
          "1981",
          "1980",
          "1983",
          "1979",
          "1978",
          "1973",
          "1971",
          "1967",
          "1968",
          "1955",
          "1974",
          "1972",
          "1958",
          "1940",
          "1977",
          "1959",
          "1962",
          "1976",
          "1975",
          "1957",
          "1963",
          "1969",
          "1956",
          "1953",
          "1961",
          "1964",
          "1944",
          "1965",
          "1947",
          "1950",
          "1942",
          "1941",
          "1946",
          "1939",
          "1970",
          "1954",
          "1948",
          "1960",
          "1952",
          "1951",
          "1937",
          "1936",
          "1945",
          "1949",
          "1966",
          "1943",
          "1938",
          "1934",
          "1933",
          "1932",
          "1926",
          "1931",
          "1930",
          "1935",
          "1925",
          "1927",
          "1929",
          "1928",
          "1920",
          "1922",
          "1921",
          "1919"
         ],
         "xaxis": "x",
         "y": [
          263,
          253,
          251,
          232,
          181,
          134,
          127,
          85,
          84,
          63,
          57,
          56,
          55,
          54,
          50,
          46,
          37,
          36,
          35,
          32,
          27,
          26,
          22,
          21,
          19,
          18,
          18,
          18,
          18,
          17,
          17,
          17,
          16,
          16,
          16,
          16,
          15,
          15,
          14,
          14,
          14,
          14,
          13,
          13,
          13,
          13,
          12,
          11,
          11,
          11,
          11,
          10,
          10,
          10,
          10,
          9,
          9,
          8,
          8,
          8,
          7,
          7,
          7,
          6,
          6,
          6,
          6,
          6,
          5,
          5,
          5,
          5,
          5,
          3,
          3,
          1,
          1,
          1,
          1
         ],
         "yaxis": "y",
         "type": "bar"
        }
       ],
       "layout": {
        "template": {
         "data": {
          "pie": [
           {
            "automargin": true,
            "type": "pie"
           }
          ],
          "scatter3d": [
           {
            "line": {
             "width": 3
            },
            "marker": {
             "size": 9
            },
            "type": "scatter3d"
           }
          ],
          "scattergeo": [
           {
            "line": {
             "width": 3
            },
            "marker": {
             "size": 9
            },
            "type": "scattergeo"
           }
          ],
          "scattergl": [
           {
            "line": {
             "width": 3
            },
            "marker": {
             "size": 9
            },
            "type": "scattergl"
           }
          ],
          "scatterpolargl": [
           {
            "line": {
             "width": 3
            },
            "marker": {
             "size": 9
            },
            "type": "scatterpolargl"
           }
          ],
          "scatterpolar": [
           {
            "line": {
             "width": 3
            },
            "marker": {
             "size": 9
            },
            "type": "scatterpolar"
           }
          ],
          "scatter": [
           {
            "line": {
             "width": 3
            },
            "marker": {
             "size": 9
            },
            "type": "scatter"
           }
          ],
          "scatterternary": [
           {
            "line": {
             "width": 3
            },
            "marker": {
             "size": 9
            },
            "type": "scatterternary"
           }
          ],
          "table": [
           {
            "cells": {
             "height": 30
            },
            "header": {
             "height": 36
            },
            "type": "table"
           }
          ]
         },
         "layout": {
          "font": {
           "size": 18
          },
          "xaxis": {
           "title": {
            "standoff": 15
           }
          },
          "yaxis": {
           "title": {
            "standoff": 15
           }
          }
         }
        },
        "xaxis": {
         "anchor": "y",
         "domain": [
          0.0,
          1.0
         ],
         "title": {
          "text": "Release Year"
         }
        },
        "yaxis": {
         "anchor": "x",
         "domain": [
          0.0,
          1.0
         ],
         "title": {
          "text": "Total Movies"
         }
        },
        "coloraxis": {
         "colorbar": {
          "title": {
           "text": "Total Movies"
          }
         },
         "colorscale": [
          [
           0.0,
           "#440154"
          ],
          [
           0.1111111111111111,
           "#482878"
          ],
          [
           0.2222222222222222,
           "#3e4989"
          ],
          [
           0.3333333333333333,
           "#31688e"
          ],
          [
           0.4444444444444444,
           "#26828e"
          ],
          [
           0.5555555555555556,
           "#1f9e89"
          ],
          [
           0.6666666666666666,
           "#35b779"
          ],
          [
           0.7777777777777778,
           "#6ece58"
          ],
          [
           0.8888888888888888,
           "#b5de2b"
          ],
          [
           1.0,
           "#fde725"
          ]
         ]
        },
        "legend": {
         "tracegroupgap": 0
        },
        "title": {
         "text": "Distribution of Movies by Release Year"
        },
        "barmode": "relative"
       },
       "config": {
        "plotlyServerURL": "https://plot.ly"
       }
      },
      "text/html": "<div>                            <div id=\"40bcfcb0-d728-4a4d-ad55-d28bb303b7bf\" class=\"plotly-graph-div\" style=\"height:525px; width:100%;\"></div>            <script type=\"text/javascript\">                require([\"plotly\"], function(Plotly) {                    window.PLOTLYENV=window.PLOTLYENV || {};                                    if (document.getElementById(\"40bcfcb0-d728-4a4d-ad55-d28bb303b7bf\")) {                    Plotly.newPlot(                        \"40bcfcb0-d728-4a4d-ad55-d28bb303b7bf\",                        [{\"alignmentgroup\":\"True\",\"hovertemplate\":\"Release Year=%{x}<br>Total Movies=%{marker.color}<extra></extra>\",\"legendgroup\":\"\",\"marker\":{\"color\":[263,253,251,232,181,134,127,85,84,63,57,56,55,54,50,46,37,36,35,32,27,26,22,21,19,18,18,18,18,17,17,17,16,16,16,16,15,15,14,14,14,14,13,13,13,13,12,11,11,11,11,10,10,10,10,9,9,8,8,8,7,7,7,6,6,6,6,6,5,5,5,5,5,3,3,1,1,1,1],\"coloraxis\":\"coloraxis\",\"pattern\":{\"shape\":\"\"}},\"name\":\"\",\"offsetgroup\":\"\",\"orientation\":\"v\",\"showlegend\":false,\"textposition\":\"auto\",\"x\":[\"1995\",\"1997\",\"1998\",\"1999\",\"1994\",\"2000\",\"1993\",\"1986\",\"1992\",\"1990\",\"1988\",\"1987\",\"1985\",\"1984\",\"1991\",\"1989\",\"1982\",\"1981\",\"1980\",\"1983\",\"1979\",\"1978\",\"1973\",\"1971\",\"1967\",\"1968\",\"1955\",\"1974\",\"1972\",\"1958\",\"1940\",\"1977\",\"1959\",\"1962\",\"1976\",\"1975\",\"1957\",\"1963\",\"1969\",\"1956\",\"1953\",\"1961\",\"1964\",\"1944\",\"1965\",\"1947\",\"1950\",\"1942\",\"1941\",\"1946\",\"1939\",\"1970\",\"1954\",\"1948\",\"1960\",\"1952\",\"1951\",\"1937\",\"1936\",\"1945\",\"1949\",\"1966\",\"1943\",\"1938\",\"1934\",\"1933\",\"1932\",\"1926\",\"1931\",\"1930\",\"1935\",\"1925\",\"1927\",\"1929\",\"1928\",\"1920\",\"1922\",\"1921\",\"1919\"],\"xaxis\":\"x\",\"y\":[263,253,251,232,181,134,127,85,84,63,57,56,55,54,50,46,37,36,35,32,27,26,22,21,19,18,18,18,18,17,17,17,16,16,16,16,15,15,14,14,14,14,13,13,13,13,12,11,11,11,11,10,10,10,10,9,9,8,8,8,7,7,7,6,6,6,6,6,5,5,5,5,5,3,3,1,1,1,1],\"yaxis\":\"y\",\"type\":\"bar\"}],                        {\"template\":{\"data\":{\"pie\":[{\"automargin\":true,\"type\":\"pie\"}],\"scatter3d\":[{\"line\":{\"width\":3},\"marker\":{\"size\":9},\"type\":\"scatter3d\"}],\"scattergeo\":[{\"line\":{\"width\":3},\"marker\":{\"size\":9},\"type\":\"scattergeo\"}],\"scattergl\":[{\"line\":{\"width\":3},\"marker\":{\"size\":9},\"type\":\"scattergl\"}],\"scatterpolargl\":[{\"line\":{\"width\":3},\"marker\":{\"size\":9},\"type\":\"scatterpolargl\"}],\"scatterpolar\":[{\"line\":{\"width\":3},\"marker\":{\"size\":9},\"type\":\"scatterpolar\"}],\"scatter\":[{\"line\":{\"width\":3},\"marker\":{\"size\":9},\"type\":\"scatter\"}],\"scatterternary\":[{\"line\":{\"width\":3},\"marker\":{\"size\":9},\"type\":\"scatterternary\"}],\"table\":[{\"cells\":{\"height\":30},\"header\":{\"height\":36},\"type\":\"table\"}]},\"layout\":{\"font\":{\"size\":18},\"xaxis\":{\"title\":{\"standoff\":15}},\"yaxis\":{\"title\":{\"standoff\":15}}}},\"xaxis\":{\"anchor\":\"y\",\"domain\":[0.0,1.0],\"title\":{\"text\":\"Release Year\"}},\"yaxis\":{\"anchor\":\"x\",\"domain\":[0.0,1.0],\"title\":{\"text\":\"Total Movies\"}},\"coloraxis\":{\"colorbar\":{\"title\":{\"text\":\"Total Movies\"}},\"colorscale\":[[0.0,\"#440154\"],[0.1111111111111111,\"#482878\"],[0.2222222222222222,\"#3e4989\"],[0.3333333333333333,\"#31688e\"],[0.4444444444444444,\"#26828e\"],[0.5555555555555556,\"#1f9e89\"],[0.6666666666666666,\"#35b779\"],[0.7777777777777778,\"#6ece58\"],[0.8888888888888888,\"#b5de2b\"],[1.0,\"#fde725\"]]},\"legend\":{\"tracegroupgap\":0},\"title\":{\"text\":\"Distribution of Movies by Release Year\"},\"barmode\":\"relative\"},                        {\"responsive\": true}                    ).then(function(){\n                            \nvar gd = document.getElementById('40bcfcb0-d728-4a4d-ad55-d28bb303b7bf');\nvar x = new MutationObserver(function (mutations, observer) {{\n        var display = window.getComputedStyle(gd).display;\n        if (!display || display === 'none') {{\n            console.log([gd, 'removed!']);\n            Plotly.purge(gd);\n            observer.disconnect();\n        }}\n}});\n\n// Listen for the removal of the full notebook cells\nvar notebookContainer = gd.closest('#notebook-container');\nif (notebookContainer) {{\n    x.observe(notebookContainer, {childList: true});\n}}\n\n// Listen for the clearing of the current output cell\nvar outputEl = gd.closest('.output');\nif (outputEl) {{\n    x.observe(outputEl, {childList: true});\n}}\n\n                        })                };                });            </script>        </div>"
     },
     "metadata": {},
     "output_type": "display_data"
    }
   ],
   "source": [
    "# ploting the data \n",
    "px.bar(year, x= 'year', y='num_of_films',color = 'num_of_films',\n",
    "              labels={'year': 'Release Year', 'num_of_films': 'Total Movies'},\n",
    "              title='Distribution of Movies by Release Year',template = 'presentation')"
   ],
   "metadata": {
    "collapsed": false,
    "ExecuteTime": {
     "end_time": "2024-07-07T18:46:09.949265600Z",
     "start_time": "2024-07-07T18:46:09.882549900Z"
    }
   },
   "id": "e7d6088d4bdc06f6"
  },
  {
   "cell_type": "code",
   "execution_count": 214,
   "outputs": [],
   "source": [
    "df_ratings = pd.merge(ratings, df_movies, on=['movie_id'])"
   ],
   "metadata": {
    "collapsed": false,
    "ExecuteTime": {
     "end_time": "2024-07-07T18:46:21.986171400Z",
     "start_time": "2024-07-07T18:46:21.605827100Z"
    }
   },
   "id": "798b6bf3c1a250dd"
  },
  {
   "cell_type": "markdown",
   "source": [
    "# Model Building"
   ],
   "metadata": {
    "collapsed": false
   },
   "id": "11f9dd825d9c3eb8"
  },
  {
   "cell_type": "code",
   "execution_count": 218,
   "outputs": [
    {
     "name": "stdout",
     "output_type": "stream",
     "text": [
      "(716048, 9)\n",
      "(179012, 9)\n"
     ]
    }
   ],
   "source": [
    "df_train, df_test = train_test_split(df_ratings, test_size=0.2, random_state=42)\n",
    "\n",
    "print(df_train.shape)\n",
    "print(df_test.shape)"
   ],
   "metadata": {
    "collapsed": false,
    "ExecuteTime": {
     "end_time": "2024-07-07T18:48:55.784073700Z",
     "start_time": "2024-07-07T18:48:55.318044100Z"
    }
   },
   "id": "528cc3dc0bb5dea6"
  },
  {
   "cell_type": "code",
   "execution_count": 199,
   "outputs": [],
   "source": [
    "df_matrix_train = df_train.pivot_table(values='rating', columns='movie_id', index='user_id').fillna(0)\n",
    "df_matrix_test = df_test.pivot_table(values='rating', columns='movie_id', index='user_id').fillna(0)"
   ],
   "metadata": {
    "collapsed": false,
    "ExecuteTime": {
     "end_time": "2024-07-07T17:37:57.757027900Z",
     "start_time": "2024-07-07T17:37:56.052250700Z"
    }
   },
   "id": "2380bb63dca07522"
  },
  {
   "cell_type": "code",
   "execution_count": 200,
   "outputs": [
    {
     "name": "stdout",
     "output_type": "stream",
     "text": [
      "(6040, 2941)\n",
      "(6034, 2825)\n"
     ]
    }
   ],
   "source": [
    "print(df_matrix_train.shape)\n",
    "print(df_matrix_test.shape)"
   ],
   "metadata": {
    "collapsed": false,
    "ExecuteTime": {
     "end_time": "2024-07-07T17:38:01.561757600Z",
     "start_time": "2024-07-07T17:38:01.520773300Z"
    }
   },
   "id": "94cf2868c74f6a33"
  },
  {
   "cell_type": "markdown",
   "source": [
    "# Data combination for couple user"
   ],
   "metadata": {
    "collapsed": false
   },
   "id": "629b8efbf20a2b8"
  },
  {
   "cell_type": "code",
   "execution_count": 223,
   "outputs": [],
   "source": [
    "def combine_user(user_id, user_id2, matrix):\n",
    "    combine = [0] * matrix.shape[1]\n",
    "    for i in range(matrix.shape[1]):\n",
    "        if matrix[user_id][i] == 0:\n",
    "            combine[i] = matrix[user_id2][i]\n",
    "        elif matrix[user_id2][i] == 0:\n",
    "            combine[i] = matrix[user_id][i]\n",
    "        else:\n",
    "            combine[i] = (matrix[user_id][i] + matrix[user_id2]) / 2\n",
    "    return combine"
   ],
   "metadata": {
    "collapsed": false,
    "ExecuteTime": {
     "end_time": "2024-07-07T18:53:34.773617300Z",
     "start_time": "2024-07-07T18:53:34.750361600Z"
    }
   },
   "id": "7e1b0d8a8c7d51f7"
  },
  {
   "cell_type": "code",
   "execution_count": 228,
   "outputs": [
    {
     "data": {
      "text/plain": "2941"
     },
     "execution_count": 228,
     "metadata": {},
     "output_type": "execute_result"
    }
   ],
   "source": [
    "user_couple = combine_user(1, 2, df_matrix_train.values)\n",
    "len(user_couple)"
   ],
   "metadata": {
    "collapsed": false,
    "ExecuteTime": {
     "end_time": "2024-07-07T18:55:24.361295800Z",
     "start_time": "2024-07-07T18:55:24.169081500Z"
    }
   },
   "id": "6249bca26a5d1b3f"
  },
  {
   "cell_type": "markdown",
   "source": [
    "# Matrix factorization recommendation"
   ],
   "metadata": {
    "collapsed": false
   },
   "id": "c36d03360bc6b8db"
  },
  {
   "cell_type": "code",
   "execution_count": 202,
   "outputs": [
    {
     "name": "stdout",
     "output_type": "stream",
     "text": [
      "User Features:\n",
      " [[ 0.14766394  0.0551009   0.42189477 ...  0.27383483 -0.21708234\n",
      "   0.38855082]\n",
      " [ 0.09093568  0.34615196 -0.3271519  ... -0.27428747 -0.15292649\n",
      "   0.22284294]\n",
      " [ 0.02866594  0.16613097  0.19028363 ... -0.11904295 -0.15148862\n",
      "   0.18457103]\n",
      " ...\n",
      " [-0.08450423  0.06432483  0.10649798 ... -0.0475926   0.02319975\n",
      "   0.08081976]\n",
      " [-0.87980083 -0.24072826  0.34616324 ...  0.54805643  0.24940402\n",
      "   0.12707459]\n",
      " [ 0.09582926  0.32561052 -1.04348941 ...  0.77080014  0.30585507\n",
      "  -0.07428837]]\n",
      "Item Features:\n",
      " [[ 0.19562775  1.64904839  0.27643938 ...  0.25879943  0.788741\n",
      "   0.88418251]\n",
      " [ 0.11681521  0.05223485  0.06435617 ... -0.18655685  0.56171388\n",
      "   0.17473464]\n",
      " [-0.19620932  0.11720268  0.22090584 ... -0.34530425  0.3221862\n",
      "   0.03941749]\n",
      " ...\n",
      " [-0.00501933  0.07941186  0.01870306 ...  0.03007644  0.01158929\n",
      "  -0.05586295]\n",
      " [ 0.02470086  0.0171268   0.02719511 ...  0.0413527   0.02848263\n",
      "   0.02405479]\n",
      " [ 0.149952    0.47248314  0.24593368 ...  0.10367926 -0.04312796\n",
      "  -0.10207342]]\n"
     ]
    }
   ],
   "source": [
    "def als(\n",
    "    user_item_matrix: np.ndarray, num_features: int, lambda_: float, iterations: int\n",
    ") -> tuple:\n",
    "    \"\"\"\n",
    "    Perform matrix factorization using Alternating Least Squares (ALS).\n",
    "\n",
    "    Parameters\n",
    "    ----------\n",
    "    user_item_matrix : np.ndarray\n",
    "        User-item rating matrix with users as rows and items as columns.\n",
    "    num_features : int\n",
    "        Number of latent features.\n",
    "    lambda_ : float\n",
    "        Regularization parameter.\n",
    "    iterations : int\n",
    "        Number of iterations to run the algorithm.\n",
    "\n",
    "    Returns\n",
    "    -------\n",
    "    tuple\n",
    "        Tuple of user_features and item_features matrices.\n",
    "    \"\"\"\n",
    "    num_users, num_items = user_item_matrix.shape\n",
    "    user_features = np.random.normal(\n",
    "        scale=1.0 / num_features, size=(num_users, num_features)\n",
    "    )\n",
    "    item_features = np.random.normal(\n",
    "        scale=1.0 / num_features, size=(num_items, num_features)\n",
    "    )\n",
    "\n",
    "    # Create a mask of observed entries\n",
    "    observed = ~np.isnan(user_item_matrix)\n",
    "    user_item_matrix = np.nan_to_num(user_item_matrix)\n",
    "\n",
    "    # Precompute Iλ (λ times the identity matrix of dimension k x k)\n",
    "    Iλ = lambda_ * np.eye(num_features)\n",
    "\n",
    "    for _ in range(iterations):\n",
    "        # Update user features\n",
    "        for i in range(num_users):\n",
    "            Vj = item_features[observed[i], :]  # Filter to only items rated by user i\n",
    "            YTY = np.dot(Vj.T, Vj)  # Vj.T * Vj\n",
    "            user_features[i] = np.linalg.solve(\n",
    "                YTY + Iλ, np.dot(Vj.T, user_item_matrix[i, observed[i]])\n",
    "            )\n",
    "\n",
    "        # Update item features\n",
    "        for j in range(num_items):\n",
    "            Ui = user_features[\n",
    "                observed[:, j], :\n",
    "            ]  # Filter to only users that rated item j\n",
    "            UTU = np.dot(Ui.T, Ui)  # Ui.T * Ui\n",
    "            item_features[j] = np.linalg.solve(\n",
    "                UTU + Iλ, np.dot(Ui.T, user_item_matrix[observed[:, j], j])\n",
    "            )\n",
    "\n",
    "    return user_features, item_features\n",
    "\n",
    "user_features, item_features = als(df_matrix_train.values, num_features=20, lambda_=0.1, iterations=10)\n",
    "print(\"User Features:\\n\", user_features)\n",
    "print(\"Item Features:\\n\", item_features)"
   ],
   "metadata": {
    "collapsed": false,
    "ExecuteTime": {
     "end_time": "2024-07-07T17:39:07.188232800Z",
     "start_time": "2024-07-07T17:38:29.843910400Z"
    }
   },
   "id": "3c879488c64bf52"
  },
  {
   "cell_type": "code",
   "execution_count": 206,
   "outputs": [
    {
     "name": "stdout",
     "output_type": "stream",
     "text": [
      "Recommendations (user: [items]): {1: [2316, 281, 0, 475, 469], 2: [91, 1481, 421, 245, 471], 3: [2125, 91, 922, 1481, 875], 4: [876, 874, 886, 906, 630], 5: [2228, 2125, 2198, 1937, 1773], 6: [1774, 2534, 2792, 274, 2316], 7: [91, 470, 379, 1918, 358], 8: [91, 2125, 1481, 1255, 245], 9: [245, 421, 1255, 473, 44], 10: [763, 672, 770, 667, 653], 11: [2125, 245, 232, 484, 1255], 12: [630, 872, 92, 484, 912], 13: [876, 874, 1481, 91, 886], 14: [2125, 2228, 2056, 1774, 1937], 15: [2056, 2663, 2342, 2125, 2793], 16: [1741, 2316, 2056, 2009, 2000], 17: [435, 676, 1155, 1918, 470], 18: [91, 875, 281, 1481, 908], 19: [1016, 876, 949, 2056, 939], 20: [91, 1481, 470, 2125, 379], 21: [2316, 1741, 0, 2055, 874], 22: [2125, 232, 875, 872, 922], 23: [1278, 435, 877, 676, 889], 24: [245, 2125, 922, 421, 875], 25: [1918, 874, 886, 470, 2823], 26: [477, 433, 468, 10, 259], 27: [665, 666, 675, 915, 661], 28: [665, 875, 245, 876, 895], 29: [630, 889, 876, 1016, 906], 30: [245, 473, 484, 2125, 232], 31: [2079, 2725, 930, 939, 801], 32: [2056, 473, 44, 1186, 484], 33: [891, 1456, 1016, 2583, 921], 34: [960, 274, 477, 433, 2175], 35: [665, 672, 912, 653, 884], 36: [1918, 470, 2316, 1741, 771], 37: [665, 1774, 875, 433, 274], 38: [433, 477, 274, 1994, 1798], 39: [2228, 2125, 2056, 2198, 1937], 40: [876, 874, 421, 908, 886], 41: [886, 874, 876, 1481, 1918], 42: [1005, 1004, 991, 1883, 250], 43: [2056, 1774, 2228, 2125, 1937], 44: [875, 672, 876, 818, 2056], 45: [433, 275, 477, 620, 1994], 46: [1445, 1456, 921, 1031, 985], 47: [421, 245, 872, 484, 888], 48: [421, 672, 245, 665, 274], 49: [1918, 470, 1481, 876, 358], 50: [2125, 2590, 2663, 2897, 2793], 51: [2316, 2792, 1774, 0, 421], 52: [91, 561, 379, 470, 358], 53: [2198, 1724, 2056, 2168, 1721], 54: [902, 899, 2502, 939, 2725], 55: [245, 473, 421, 44, 1255], 56: [421, 0, 2316, 1481, 29], 57: [2663, 2897, 2590, 2354, 2823], 58: [2228, 877, 2125, 1774, 2206], 59: [666, 665, 657, 661, 653], 60: [2056, 2364, 1918, 0, 926], 61: [2793, 2897, 2663, 2613, 2936], 62: [665, 661, 2480, 805, 915], 63: [2228, 2198, 181, 1937, 2009], 64: [91, 1481, 2663, 876, 874], 65: [358, 1179, 379, 876, 91], 66: [91, 2125, 1481, 2793, 2663], 67: [872, 884, 912, 675, 1420], 68: [2228, 1774, 1937, 875, 2125], 69: [2125, 1255, 245, 484, 421], 70: [2056, 2228, 1774, 1937, 1741], 71: [2663, 2125, 2793, 2534, 2823], 72: [421, 274, 2125, 1774, 1481], 73: [91, 379, 1918, 1151, 922], 74: [1186, 44, 484, 473, 232], 75: [2316, 0, 1380, 1741, 2055], 76: [245, 2125, 484, 44, 473], 77: [2125, 2228, 2198, 2663, 1937], 78: [0, 1774, 2316, 469, 394], 79: [1186, 44, 2056, 473, 435], 80: [421, 1481, 245, 274, 0], 81: [665, 915, 630, 675, 666], 82: [91, 245, 1255, 118, 2342], 83: [2056, 2018, 2364, 1741, 833], 84: [91, 470, 874, 886, 1481], 85: [2663, 2125, 2793, 2534, 2354], 86: [2056, 1774, 2316, 1918, 2364], 87: [91, 470, 876, 874, 1918], 88: [421, 245, 872, 665, 884], 89: [421, 1481, 91, 245, 908], 90: [44, 1186, 245, 2056, 232], 91: [1774, 875, 926, 899, 960], 92: [475, 2316, 469, 1741, 281], 93: [876, 949, 1918, 936, 906], 94: [1445, 921, 1456, 1453, 1686], 95: [245, 358, 1481, 1179, 473], 96: [421, 245, 473, 1481, 1255], 97: [2555, 657, 887, 675, 928], 98: [421, 1481, 245, 91, 2125], 99: [2897, 2793, 421, 2663, 2792], 100: [876, 630, 874, 1481, 421], 101: [876, 949, 1918, 874, 991], 102: [666, 2228, 2056, 2125, 1774], 103: [379, 91, 561, 1151, 991], 104: [2125, 2228, 2056, 2009, 2000], 105: [876, 630, 874, 906, 878], 106: [16, 665, 673, 1774, 875], 107: [657, 675, 665, 884, 656], 108: [2125, 2079, 2590, 91, 379], 109: [875, 876, 672, 939, 931], 110: [2125, 2590, 2897, 2663, 232], 111: [1297, 274, 245, 926, 1205], 112: [2316, 2055, 475, 474, 469], 113: [2793, 2663, 2897, 2823, 2590], 114: [760, 474, 475, 1539, 764], 115: [2793, 2590, 2125, 2663, 2897], 116: [874, 886, 2663, 876, 2823], 117: [1005, 486, 2018, 1434, 991], 118: [875, 91, 949, 2663, 1459], 119: [2316, 1741, 0, 2055, 1772], 120: [872, 630, 2125, 245, 484], 121: [889, 435, 878, 676, 874], 122: [886, 876, 874, 1918, 91], 123: [811, 924, 1614, 954, 2499], 124: [2125, 245, 421, 484, 473], 125: [91, 2663, 2192, 2793, 630], 126: [2125, 661, 875, 719, 665], 127: [470, 379, 1918, 473, 91], 128: [2125, 91, 379, 2079, 770], 129: [630, 44, 1186, 810, 5], 130: [2192, 2191, 91, 1179, 2193], 131: [196, 876, 895, 129, 1262], 132: [2175, 2316, 947, 0, 801], 133: [2056, 245, 473, 2342, 274], 134: [379, 1151, 91, 2125, 470], 135: [2056, 2228, 2125, 2018, 2198], 136: [675, 672, 703, 884, 891], 137: [2056, 1774, 274, 473, 2057], 138: [44, 484, 232, 1186, 2125], 139: [875, 876, 874, 91, 672], 140: [661, 665, 876, 675, 630], 141: [661, 91, 2125, 2663, 2079], 142: [245, 2125, 473, 2056, 1481], 143: [91, 2125, 1481, 1774, 274], 144: [421, 2793, 2663, 245, 1481], 145: [2125, 2228, 181, 2198, 1937], 146: [770, 667, 930, 1415, 653], 147: [1481, 91, 421, 1918, 245], 148: [2793, 1863, 421, 2316, 1465], 149: [1384, 196, 630, 5, 597], 150: [872, 245, 2125, 2168, 895], 151: [2590, 2125, 1186, 875, 2897], 152: [2018, 2316, 875, 2175, 2087], 153: [2125, 2228, 2056, 2198, 181], 154: [2125, 2228, 2198, 181, 1937], 155: [630, 872, 874, 665, 1481], 156: [1774, 433, 477, 275, 274], 157: [91, 1481, 1151, 20, 799], 158: [665, 915, 675, 928, 630], 159: [2663, 2056, 2316, 2534, 1741], 160: [2125, 2663, 2793, 2590, 2897], 161: [884, 895, 421, 954, 665], 162: [2316, 2663, 1918, 91, 1741], 163: [1481, 2125, 2290, 2056, 421], 164: [665, 421, 630, 719, 914], 165: [889, 630, 676, 435, 883], 166: [891, 921, 657, 883, 889], 167: [2793, 2897, 2663, 2613, 2534], 168: [2316, 2056, 0, 245, 2018], 169: [703, 2079, 880, 2876, 1110], 170: [874, 886, 470, 91, 630], 171: [421, 630, 484, 2897, 1186], 172: [666, 2555, 944, 928, 887], 173: [2555, 887, 944, 913, 666], 174: [470, 1918, 91, 2663, 1179], 175: [2168, 2125, 2228, 2198, 1724], 176: [2175, 801, 2087, 2648, 1023], 177: [874, 1918, 886, 435, 906], 178: [763, 672, 667, 770, 1415], 179: [435, 874, 878, 906, 886], 180: [2125, 2897, 484, 2590, 44], 181: [91, 922, 811, 1435, 893], 182: [274, 1481, 91, 2125, 245], 183: [666, 657, 915, 928, 665], 184: [0, 475, 281, 2316, 469], 185: [91, 379, 470, 1481, 1151], 186: [2056, 1741, 2316, 2198, 2018], 187: [2168, 1362, 1201, 1262, 451], 188: [666, 833, 2056, 2009, 2663], 189: [2125, 245, 421, 473, 232], 190: [630, 2125, 232, 473, 44], 191: [2009, 2000, 1110, 1864, 181], 192: [1718, 2198, 44, 15, 585], 193: [663, 665, 1774, 899, 484], 194: [274, 433, 0, 1393, 1297], 195: [421, 245, 675, 881, 884], 196: [44, 1186, 484, 473, 232], 197: [245, 922, 2125, 473, 484], 198: [949, 1110, 892, 1179, 1553], 199: [91, 379, 1481, 470, 1151], 200: [1741, 2316, 2009, 2000, 2056], 201: [421, 274, 245, 1774, 2897], 202: [630, 274, 477, 1016, 433], 203: [1255, 245, 421, 91, 1481], 204: [1863, 421, 876, 118, 1481], 205: [915, 899, 1186, 902, 958], 206: [470, 1918, 889, 874, 878], 207: [2663, 2793, 470, 2897, 2823], 208: [889, 630, 473, 891, 1016], 209: [2009, 2000, 2056, 1774, 2125], 210: [561, 9, 1134, 267, 1739], 211: [2793, 2663, 379, 91, 470], 212: [922, 2079, 2087, 1481, 470], 213: [2316, 0, 1741, 469, 274], 214: [2590, 2228, 2792, 1937, 2897], 215: [1918, 931, 874, 886, 818], 216: [937, 2257, 2725, 2502, 914], 217: [2125, 44, 2590, 473, 2663], 218: [2663, 2534, 1774, 1724, 666], 219: [2125, 2663, 2228, 2354, 2534], 220: [875, 2316, 421, 0, 876], 221: [44, 473, 891, 1186, 657], 222: [874, 886, 876, 875, 922], 223: [886, 274, 91, 876, 949], 224: [421, 245, 875, 922, 2897], 225: [1262, 196, 129, 197, 2168], 226: [876, 875, 2087, 895, 960], 227: [2056, 2228, 2198, 181, 2125], 228: [2663, 2793, 2897, 2125, 2590], 229: [2897, 2125, 2354, 2663, 245], 230: [818, 931, 1481, 1918, 470], 231: [875, 876, 931, 906, 874], 232: [2125, 2228, 1937, 1773, 1393], 233: [475, 281, 770, 667, 763], 234: [421, 245, 872, 876, 895], 235: [899, 903, 947, 909, 2590], 236: [876, 874, 886, 630, 906], 237: [274, 931, 875, 876, 0], 238: [951, 895, 1705, 31, 954], 239: [421, 1481, 2125, 1774, 91], 240: [1481, 876, 1918, 874, 470], 241: [435, 889, 878, 906, 676], 242: [2125, 2228, 2663, 1151, 2272], 243: [2175, 2087, 2079, 960, 875], 244: [1186, 665, 875, 630, 960], 245: [916, 2378, 923, 914, 933], 246: [2316, 0, 1741, 1481, 469], 247: [421, 245, 1255, 1481, 872], 248: [874, 876, 470, 886, 91], 249: [2056, 771, 876, 358, 1179], 250: [470, 379, 91, 1151, 1918], 251: [91, 470, 379, 1151, 1918], 252: [91, 470, 379, 2125, 2663], 253: [2125, 2228, 1774, 484, 421], 254: [1016, 891, 1456, 921, 889], 255: [1155, 435, 2583, 2056, 1918], 256: [470, 91, 630, 906, 1918], 257: [91, 1481, 2125, 274, 473], 258: [91, 1481, 358, 1179, 1918], 259: [2125, 421, 484, 232, 245], 260: [949, 876, 771, 561, 1918], 261: [245, 421, 872, 675, 884], 262: [874, 435, 1918, 991, 1476], 263: [875, 926, 2125, 245, 1774], 264: [1840, 1005, 821, 911, 1783], 265: [672, 665, 2125, 630, 661], 266: [421, 665, 245, 872, 2125], 267: [2125, 421, 245, 1774, 274], 268: [477, 433, 1994, 886, 1798], 269: [2125, 2534, 2228, 1774, 2792], 270: [2125, 630, 872, 2663, 1481], 271: [443, 469, 91, 475, 2079], 272: [2663, 2018, 2175, 181, 2823], 273: [2663, 2056, 1918, 91, 886], 274: [2056, 666, 2198, 2228, 872], 275: [922, 2175, 931, 960, 875], 276: [2125, 91, 2079, 379, 922], 277: [1918, 470, 379, 91, 1151], 278: [1445, 985, 1456, 983, 718], 279: [91, 1481, 421, 811, 893], 280: [2316, 899, 947, 2639, 939], 281: [2125, 484, 232, 245, 421], 282: [2056, 358, 473, 1179, 44], 283: [1481, 91, 421, 274, 874], 284: [875, 886, 874, 2823, 876], 285: [872, 630, 92, 484, 888], 286: [484, 44, 473, 232, 1186], 287: [1724, 1774, 2125, 421, 245], 288: [876, 949, 1918, 771, 874], 289: [630, 889, 1016, 906, 876], 290: [421, 245, 274, 1481, 473], 291: [665, 895, 884, 421, 673], 292: [2125, 470, 91, 1918, 379], 293: [421, 118, 245, 1863, 31], 294: [0, 1393, 926, 2316, 29], 295: [2663, 630, 2056, 2125, 886], 296: [1456, 939, 1588, 974, 891], 297: [2125, 630, 2228, 872, 876], 298: [2125, 2590, 2897, 2663, 91], 299: [421, 872, 245, 665, 2125], 300: [2087, 2175, 876, 922, 245], 301: [1393, 0, 1110, 274, 1481], 302: [1393, 1110, 2228, 1864, 2272], 303: [20, 2540, 1205, 196, 1687], 304: [2555, 666, 944, 928, 915], 305: [1445, 1456, 983, 891, 974], 306: [44, 2175, 2342, 245, 2793], 307: [675, 665, 2555, 884, 657], 308: [2191, 675, 939, 2526, 630], 309: [245, 473, 421, 1481, 44], 310: [421, 274, 245, 886, 0], 311: [876, 874, 886, 949, 875], 312: [484, 872, 888, 232, 245], 313: [2590, 2079, 2897, 2663, 2793], 314: [657, 703, 884, 656, 880], 315: [661, 665, 657, 675, 630], 316: [676, 435, 991, 916, 1918], 317: [895, 872, 818, 672, 876], 318: [1774, 2316, 2056, 1741, 1724], 319: [899, 2607, 909, 2233, 1424], 320: [91, 2125, 2663, 2793, 1481], 321: [2125, 2056, 473, 1918, 2198], 322: [1481, 421, 91, 1774, 274], 323: [666, 2056, 1186, 1774, 435], 324: [44, 2056, 358, 1186, 475], 325: [433, 477, 1798, 1994, 274], 326: [939, 960, 931, 895, 2087], 327: [665, 675, 915, 884, 881], 328: [91, 470, 379, 1918, 1151], 329: [2364, 2056, 2316, 2792, 2228], 330: [421, 665, 630, 2663, 2897], 331: [1326, 2233, 597, 1384, 16], 332: [421, 1481, 245, 1774, 2125], 333: [653, 652, 703, 884, 672], 334: [665, 421, 673, 1774, 16], 335: [630, 872, 958, 876, 902], 336: [676, 991, 916, 435, 1155], 337: [1481, 91, 1918, 379, 1151], 338: [771, 931, 960, 358, 1179], 339: [872, 421, 895, 245, 884], 340: [672, 657, 653, 661, 665], 341: [2125, 91, 922, 379, 2079], 342: [874, 1918, 886, 931, 470], 343: [931, 2583, 818, 676, 1151], 344: [1481, 421, 1774, 91, 2316], 345: [630, 872, 484, 888, 473], 346: [960, 665, 394, 2175, 703], 347: [665, 421, 245, 884, 912], 348: [91, 914, 1481, 881, 923], 349: [1481, 91, 630, 876, 2663], 350: [1918, 358, 1151, 2056, 379], 351: [91, 876, 949, 1179, 358], 352: [2198, 1718, 423, 2168, 1926], 353: [44, 1186, 484, 473, 630], 354: [2125, 2663, 2228, 2056, 2018], 355: [2125, 2198, 2663, 2823, 872], 356: [2056, 2316, 2018, 2364, 2290], 357: [676, 872, 883, 245, 895], 358: [421, 630, 665, 876, 1481], 359: [470, 1918, 874, 435, 886], 360: [876, 421, 874, 2316, 875], 361: [2125, 2897, 2590, 2354, 2907], 362: [91, 2793, 2663, 470, 379], 363: [2590, 2897, 2663, 2793, 2079], 364: [2125, 2228, 1774, 1937, 1186], 365: [1774, 2056, 433, 274, 477], 366: [914, 872, 946, 719, 933], 367: [665, 719, 673, 912, 652], 368: [1255, 245, 1670, 2342, 993], 369: [0, 2316, 926, 960, 342], 370: [2009, 2663, 2056, 1741, 2000], 371: [2125, 2228, 484, 232, 899], 372: [379, 1918, 1481, 1954, 876], 373: [1918, 470, 874, 876, 886], 374: [630, 44, 876, 875, 484], 375: [2125, 872, 245, 232, 630], 376: [2056, 2534, 2316, 1774, 2663], 377: [630, 232, 44, 876, 874], 378: [2056, 245, 2316, 473, 421], 379: [673, 665, 16, 274, 1774], 380: [2316, 2590, 2079, 1937, 181], 381: [889, 878, 906, 435, 676], 382: [1774, 2125, 960, 875, 2228], 383: [2125, 2228, 2056, 1774, 2198], 384: [630, 473, 484, 872, 902], 385: [1918, 876, 771, 358, 875], 386: [2125, 2228, 2590, 1773, 181], 387: [1774, 421, 875, 16, 665], 388: [2175, 2087, 931, 1429, 900], 389: [118, 0, 274, 2316, 379], 390: [891, 921, 1456, 1445, 1588], 391: [666, 915, 928, 2555, 944], 392: [1110, 2175, 2418, 675, 703], 393: [899, 630, 909, 484, 915], 394: [358, 771, 1918, 2056, 561], 395: [2125, 2228, 1774, 1937, 181], 396: [926, 421, 1774, 899, 665], 397: [876, 875, 874, 906, 886], 398: [44, 1186, 2228, 1918, 2590], 399: [2056, 2316, 1741, 2228, 2018], 400: [1481, 875, 922, 421, 876], 401: [91, 470, 1918, 2125, 379], 402: [1393, 1937, 1023, 2228, 926], 403: [2793, 2663, 2911, 2613, 2534], 404: [2125, 245, 421, 232, 484], 405: [902, 2502, 960, 958, 2725], 406: [245, 931, 1429, 2175, 908], 407: [630, 484, 2125, 44, 232], 408: [630, 915, 44, 675, 1186], 409: [921, 245, 1233, 1255, 1718], 410: [2079, 2175, 1393, 2648, 801], 411: [1427, 770, 2534, 2283, 1774], 412: [960, 10, 1297, 433, 275], 413: [421, 245, 1481, 1255, 118], 414: [421, 665, 1481, 914, 666], 415: [661, 657, 899, 663, 2079], 416: [2056, 2228, 2125, 1774, 1937], 417: [2316, 0, 469, 2055, 475], 418: [358, 876, 1918, 771, 2056], 419: [665, 421, 2663, 1481, 876], 420: [939, 958, 899, 0, 2316], 421: [2056, 876, 1918, 771, 886], 422: [435, 676, 889, 1918, 906], 423: [2056, 2009, 1724, 2228, 2663], 424: [1972, 1968, 1445, 974, 478], 425: [0, 274, 906, 2648, 1393], 426: [2125, 2663, 2228, 2198, 876], 427: [91, 2125, 379, 2079, 470], 428: [1774, 421, 2125, 2228, 665], 429: [2663, 2534, 630, 2897, 2823], 430: [433, 477, 275, 1774, 274], 431: [1918, 874, 886, 1481, 470], 432: [433, 1774, 477, 275, 16], 433: [1774, 274, 2125, 421, 926], 434: [2125, 2897, 2590, 899, 2792], 435: [1179, 2421, 267, 358, 374], 436: [1918, 874, 91, 1481, 886], 437: [1481, 421, 91, 914, 881], 438: [874, 886, 0, 2055, 1864], 439: [1481, 91, 274, 421, 2793], 440: [91, 274, 358, 1179, 1481], 441: [470, 1918, 874, 379, 1151], 442: [2087, 875, 895, 2175, 665], 443: [44, 630, 245, 888, 421], 444: [2125, 484, 421, 899, 1774], 445: [2823, 2613, 2663, 2364, 379], 446: [91, 1481, 874, 470, 886], 447: [672, 895, 245, 884, 818], 448: [1774, 2056, 1724, 2125, 2228], 449: [889, 1686, 921, 1827, 1456], 450: [872, 630, 473, 245, 421], 451: [884, 665, 421, 872, 675], 452: [91, 2125, 379, 1481, 232], 453: [872, 675, 914, 937, 630], 454: [2228, 2125, 2590, 2354, 1773], 455: [2125, 630, 958, 876, 872], 456: [421, 1481, 886, 245, 274], 457: [232, 2198, 810, 245, 473], 458: [91, 2125, 2079, 661, 379], 459: [2056, 1774, 1724, 2009, 2663], 460: [2079, 2175, 801, 2087, 2725], 461: [421, 1481, 811, 908, 923], 462: [1918, 874, 886, 379, 470], 463: [2079, 2125, 2175, 922, 2725], 464: [484, 2125, 872, 245, 44], 465: [2125, 2228, 484, 232, 872], 466: [666, 2555, 919, 947, 944], 467: [274, 421, 245, 1481, 473], 468: [1774, 91, 274, 16, 421], 469: [630, 665, 872, 912, 675], 470: [2316, 763, 0, 469, 475], 471: [874, 1481, 421, 435, 886], 472: [676, 435, 473, 484, 1918], 473: [770, 661, 653, 2663, 2897], 474: [181, 2125, 91, 1393, 1481], 475: [922, 875, 2079, 2175, 91], 476: [931, 875, 1784, 2725, 435], 477: [876, 949, 771, 1553, 9], 478: [1774, 421, 2125, 245, 484], 479: [245, 2087, 118, 1429, 421], 480: [2125, 91, 2897, 245, 2793], 481: [902, 958, 2502, 2725, 630], 482: [924, 885, 811, 1233, 630], 483: [245, 473, 421, 44, 484], 484: [2663, 2009, 2125, 91, 2056], 485: [2018, 2056, 2534, 2316, 2079], 486: [2316, 29, 1774, 421, 2056], 487: [2125, 661, 2056, 2228, 1774], 488: [874, 886, 878, 889, 906], 489: [630, 872, 876, 245, 421], 490: [475, 1918, 874, 818, 281], 491: [91, 2125, 1481, 421, 274], 492: [2125, 2228, 2056, 2198, 181], 493: [993, 421, 245, 1255, 484], 494: [1151, 379, 931, 295, 2079], 495: [1481, 874, 1918, 886, 91], 496: [2663, 2823, 2079, 1918, 931], 497: [91, 874, 922, 886, 1481], 498: [2125, 666, 1186, 44, 665], 499: [673, 16, 421, 665, 895], 500: [2125, 672, 245, 484, 2792], 501: [91, 2125, 2663, 2079, 2793], 502: [421, 1481, 245, 91, 473], 503: [1186, 915, 666, 928, 657], 504: [661, 470, 922, 435, 91], 505: [2125, 379, 1151, 91, 1481], 506: [2056, 2009, 2228, 2000, 2198], 507: [665, 2125, 872, 484, 675], 508: [435, 878, 906, 874, 889], 509: [2198, 1391, 935, 1035, 585], 510: [1918, 991, 2364, 874, 886], 511: [1774, 2056, 2228, 1724, 2018], 512: [1186, 661, 44, 657, 666], 513: [2079, 931, 2018, 2087, 274], 514: [2056, 2228, 2125, 2198, 1937], 515: [484, 872, 899, 630, 665], 516: [2364, 2056, 931, 1151, 2316], 517: [2125, 922, 2079, 1435, 91], 518: [665, 673, 1774, 2125, 16], 519: [2316, 0, 274, 1741, 2792], 520: [1186, 2125, 630, 473, 44], 521: [1186, 44, 657, 915, 473], 522: [906, 874, 1918, 878, 889], 523: [958, 876, 630, 875, 1016], 524: [898, 843, 2736, 129, 447], 525: [630, 2125, 899, 876, 661], 526: [876, 874, 630, 906, 771], 527: [2125, 922, 2079, 2087, 245], 528: [433, 477, 2793, 1994, 274], 529: [630, 872, 92, 888, 484], 530: [435, 906, 874, 878, 889], 531: [2634, 2534, 1919, 2615, 809], 532: [874, 1918, 470, 886, 435], 533: [921, 2125, 232, 939, 1016], 534: [665, 875, 1774, 421, 673], 535: [2316, 2056, 1741, 2364, 1774], 536: [878, 1016, 889, 876, 906], 537: [665, 872, 630, 421, 675], 538: [421, 1481, 630, 876, 872], 539: [91, 876, 1918, 878, 949], 540: [2125, 245, 232, 2198, 888], 541: [0, 2316, 469, 1741, 29], 542: [91, 2125, 2663, 2793, 2590], 543: [271, 1007, 1462, 1464, 1594], 544: [672, 874, 630, 474, 719], 545: [2125, 2056, 1774, 2228, 1741], 546: [2125, 1774, 1937, 2228, 34], 547: [1918, 91, 470, 874, 886], 548: [1588, 1456, 889, 2897, 1445], 549: [913, 928, 1610, 944, 887], 550: [29, 2607, 1687, 0, 868], 551: [421, 1774, 29, 16, 118], 552: [91, 470, 379, 1918, 1481], 553: [1774, 1205, 275, 926, 1393], 554: [2125, 2228, 2056, 2198, 1724], 555: [2792, 2897, 2316, 2663, 2534], 556: [1525, 763, 667, 760, 653], 557: [435, 878, 906, 1918, 889], 558: [245, 421, 872, 1255, 895], 559: [2056, 473, 44, 1186, 245], 560: [876, 1918, 991, 874, 886], 561: [2897, 2534, 2663, 2613, 2792], 562: [630, 1016, 876, 874, 889], 563: [2055, 1278, 435, 2364, 955], 564: [665, 421, 630, 872, 245], 565: [2125, 91, 2079, 922, 2663], 566: [1918, 892, 1151, 875, 1098], 567: [876, 874, 875, 949, 886], 568: [1481, 421, 473, 245, 630], 569: [874, 886, 274, 1294, 433], 570: [91, 2793, 421, 1481, 2663], 571: [1918, 470, 243, 473, 2056], 572: [2663, 2793, 2897, 2534, 2823], 573: [44, 473, 1186, 484, 1918], 574: [2125, 245, 421, 484, 232], 575: [2056, 2364, 2663, 2823, 1918], 576: [931, 1918, 874, 818, 886], 577: [44, 358, 810, 484, 1179], 578: [2125, 484, 232, 245, 888], 579: [875, 2056, 2018, 931, 1918], 580: [421, 811, 914, 881, 908], 581: [274, 433, 1774, 477, 1994], 582: [2056, 2009, 2018, 2000, 2198], 583: [770, 473, 91, 44, 245], 584: [2125, 245, 421, 473, 484], 585: [1918, 2792, 2316, 2823, 470], 586: [470, 874, 886, 1918, 889], 587: [947, 1512, 1023, 2079, 1773], 588: [675, 657, 899, 884, 678], 589: [2125, 2228, 245, 2079, 2056], 590: [2897, 2792, 2907, 2590, 2354], 591: [665, 657, 915, 676, 435], 592: [630, 876, 874, 875, 2663], 593: [2125, 31, 245, 421, 1255], 594: [652, 960, 275, 899, 2283], 595: [274, 245, 1255, 118, 1297], 596: [2793, 91, 2663, 2590, 2079], 597: [2228, 181, 2009, 2198, 2000], 598: [2125, 2663, 91, 2793, 2534], 599: [2125, 872, 245, 421, 484], 600: [2125, 2228, 2056, 181, 1937], 601: [2125, 2198, 181, 232, 810], 602: [676, 916, 955, 435, 2583], 603: [2793, 91, 274, 1481, 2663], 604: [2663, 833, 2823, 876, 1918], 605: [2056, 2316, 1741, 1774, 1481], 606: [2316, 0, 875, 2792, 2087], 607: [2125, 245, 484, 473, 232], 608: [91, 1481, 274, 2793, 470], 609: [1918, 470, 1481, 874, 91], 610: [874, 435, 1481, 886, 818], 611: [2125, 1481, 2056, 421, 274], 612: [91, 2125, 379, 2079, 470], 613: [2316, 421, 0, 1481, 245], 614: [2316, 475, 281, 1380, 0], 615: [630, 876, 1016, 889, 906], 616: [91, 470, 379, 2793, 2663], 617: [2125, 91, 1481, 922, 2663], 618: [91, 2125, 922, 2079, 2663], 619: [2125, 630, 2228, 875, 872], 620: [2228, 1393, 1773, 1937, 1272], 621: [718, 2125, 2290, 2012, 889], 622: [872, 484, 421, 245, 888], 623: [630, 2590, 1918, 874, 2125], 624: [811, 435, 922, 927, 2079], 625: [2125, 484, 245, 473, 232], 626: [1481, 874, 886, 91, 1918], 627: [435, 874, 877, 875, 2823], 628: [2316, 1774, 0, 1741, 1393], 629: [1380, 1539, 760, 475, 2001], 630: [1774, 960, 875, 665, 16], 631: [118, 2056, 245, 473, 0], 632: [991, 1918, 1151, 379, 243], 633: [2125, 2228, 2663, 2354, 2198], 634: [475, 1380, 281, 2316, 469], 635: [2125, 899, 484, 663, 661], 636: [1918, 874, 878, 470, 889], 637: [946, 1016, 908, 0, 933], 638: [2175, 922, 875, 2087, 1435], 639: [770, 667, 1912, 1179, 821], 640: [484, 473, 44, 245, 232], 641: [421, 245, 1481, 875, 876], 642: [2056, 473, 245, 931, 818], 643: [2056, 2228, 1774, 1937, 1741], 644: [2663, 435, 666, 2823, 874], 645: [421, 2316, 0, 29, 245], 646: [1481, 91, 421, 471, 908], 647: [1151, 295, 2125, 561, 1918], 648: [2663, 2354, 2228, 2897, 2590], 649: [470, 889, 1918, 874, 906], 650: [470, 91, 379, 922, 2079], 651: [885, 2725, 937, 630, 923], 652: [2056, 44, 473, 1918, 358], 653: [1774, 2125, 1724, 2056, 2228], 654: [245, 2056, 44, 473, 1255], 655: [899, 868, 1687, 2545, 1651], 656: [675, 884, 657, 665, 891], 657: [2228, 2056, 2198, 1937, 1724], 658: [2125, 2228, 181, 2079, 2009], 659: [421, 245, 1429, 1255, 911], 660: [1670, 421, 933, 1297, 993], 661: [630, 876, 1481, 872, 874], 662: [91, 470, 379, 1918, 2125], 663: [91, 379, 2125, 1481, 470], 664: [2897, 2792, 2590, 2125, 2079], 665: [921, 1016, 891, 1456, 1445], 666: [1774, 926, 16, 29, 275], 667: [91, 379, 1588, 470, 889], 668: [44, 473, 1186, 2056, 484], 669: [790, 1393, 2316, 181, 1098], 670: [675, 665, 884, 657, 661], 671: [630, 872, 899, 92, 915], 672: [91, 470, 1481, 379, 630], 673: [2125, 2354, 1233, 2168, 585], 674: [470, 1918, 435, 906, 473], 675: [2228, 2125, 2056, 181, 2009], 676: [274, 245, 87, 1255, 1297], 677: [872, 2125, 245, 484, 421], 678: [2353, 1589, 1434, 1572, 763], 679: [874, 876, 886, 421, 1481], 680: [2056, 2018, 1774, 1741, 2228], 681: [2316, 0, 2055, 475, 2792], 682: [630, 872, 876, 421, 665], 683: [91, 470, 358, 1179, 379], 684: [2125, 2009, 2000, 2663, 2198], 685: [922, 2079, 875, 931, 91], 686: [91, 1481, 2125, 421, 245], 687: [2125, 484, 1186, 473, 1918], 688: [421, 1481, 914, 881, 908], 689: [274, 433, 1151, 1155, 889], 690: [44, 473, 435, 818, 2056], 691: [1186, 0, 484, 2316, 44], 692: [44, 2233, 1326, 1193, 1769], 693: [876, 906, 874, 931, 1918], 694: [2125, 2228, 2198, 181, 1937], 695: [922, 2663, 2793, 91, 2079], 696: [2792, 1186, 44, 435, 877], 697: [875, 876, 2018, 960, 931], 698: [883, 2125, 232, 676, 1918], 699: [245, 473, 484, 44, 888], 700: [435, 470, 1918, 878, 666], 701: [421, 245, 274, 1255, 1481], 702: [914, 2725, 2257, 937, 923], 703: [2125, 661, 630, 91, 922], 704: [666, 2009, 1724, 2056, 2000], 705: [91, 470, 1481, 379, 2125], 706: [31, 2168, 2233, 1255, 776], 707: [1918, 2056, 906, 470, 889], 708: [91, 2079, 379, 922, 2125], 709: [921, 939, 1453, 2087, 891], 710: [1278, 1193, 1391, 44, 810], 711: [473, 657, 44, 872, 2056], 712: [91, 1918, 1481, 470, 2663], 713: [2663, 886, 876, 949, 1005], 714: [1481, 281, 1918, 1741, 2005], 715: [875, 876, 874, 922, 2087], 716: [44, 810, 232, 888, 5], 717: [91, 2793, 379, 2079, 2663], 718: [358, 1179, 2792, 0, 2316], 719: [2316, 1481, 0, 421, 274], 720: [2663, 1481, 91, 2793, 886], 721: [2056, 268, 292, 2534, 1186], 722: [421, 245, 274, 2316, 0], 723: [2009, 2198, 181, 2000, 2056], 724: [1186, 1774, 292, 16, 2264], 725: [484, 232, 872, 44, 630], 726: [1774, 433, 477, 275, 274], 727: [421, 274, 245, 665, 960], 728: [245, 1255, 421, 91, 31], 729: [1918, 470, 874, 906, 878], 730: [91, 2125, 922, 470, 1481], 731: [2125, 652, 705, 2590, 899], 732: [811, 44, 888, 245, 232], 733: [484, 0, 29, 245, 473], 734: [2056, 2009, 1741, 2000, 2018], 735: [2056, 931, 2018, 2175, 1453], 736: [2125, 2663, 2056, 2228, 91], 737: [675, 630, 661, 872, 665], 738: [2793, 2663, 2897, 2650, 2613], 739: [358, 1179, 876, 771, 1918], 740: [91, 2125, 2663, 2793, 2590], 741: [1445, 921, 1456, 985, 1453], 742: [874, 1918, 906, 886, 878], 743: [2228, 2125, 899, 1937, 2590], 744: [874, 886, 2663, 91, 435], 745: [2897, 2590, 2907, 2936, 2469], 746: [2663, 2342, 2793, 245, 1481], 747: [470, 1918, 874, 2823, 2663], 748: [874, 470, 1918, 886, 889], 749: [811, 933, 924, 1016, 2611], 750: [245, 484, 872, 421, 2125], 751: [91, 470, 379, 2663, 2079], 752: [2168, 1262, 2233, 735, 2204], 753: [2316, 0, 1741, 1918, 469], 754: [2534, 2056, 2663, 2793, 421], 755: [421, 245, 473, 1481, 895], 756: [630, 876, 874, 889, 1016], 757: [2056, 358, 561, 1193, 44], 758: [245, 421, 1255, 1481, 473], 759: [433, 477, 620, 275, 16], 760: [2125, 872, 245, 484, 473], 761: [470, 1918, 2663, 379, 2823], 762: [874, 876, 886, 1918, 949], 763: [876, 630, 1016, 872, 874], 764: [672, 876, 763, 874, 474], 765: [421, 274, 0, 245, 926], 766: [2175, 960, 922, 1023, 801], 767: [657, 358, 470, 661, 771], 768: [421, 1481, 1774, 2663, 2316], 769: [630, 665, 915, 876, 881], 770: [1864, 254, 87, 44, 1110], 771: [91, 2125, 379, 661, 922], 772: [1918, 2364, 2056, 833, 991], 773: [2056, 1918, 886, 833, 874], 774: [44, 245, 2056, 473, 1918], 775: [2125, 91, 2663, 2793, 1481], 776: [931, 2316, 2364, 2018, 0], 777: [118, 1387, 243, 1863, 245], 778: [876, 630, 1481, 875, 91], 779: [2009, 2056, 2000, 1741, 2018], 780: [991, 1025, 1574, 936, 1002], 781: [1918, 874, 886, 2009, 470], 782: [2897, 2590, 2793, 2792, 2663], 783: [1918, 470, 91, 2823, 1481], 784: [2125, 2663, 2056, 91, 1481], 785: [91, 1481, 2125, 1918, 876], 786: [874, 1918, 886, 991, 435], 787: [2663, 2198, 2354, 2534, 2125], 788: [435, 1575, 874, 1155, 991], 789: [2018, 2009, 833, 2056, 2000], 790: [470, 1918, 874, 886, 379], 791: [876, 875, 939, 358, 672], 792: [2125, 2663, 2823, 470, 2354], 793: [2056, 473, 672, 245, 872], 794: [960, 1023, 2125, 875, 801], 795: [1774, 1297, 29, 421, 1937], 796: [914, 923, 881, 719, 933], 797: [16, 1774, 433, 673, 620], 798: [421, 886, 875, 91, 874], 799: [2897, 2793, 2663, 2590, 2936], 800: [672, 653, 942, 874, 875], 801: [630, 484, 895, 954, 1475], 802: [435, 1186, 44, 2648, 810], 803: [470, 1918, 876, 874, 91], 804: [2228, 2125, 872, 245, 484], 805: [433, 477, 1774, 274, 1994], 806: [2125, 661, 665, 663, 899], 807: [91, 379, 470, 2663, 2793], 808: [1016, 889, 1481, 876, 921], 809: [91, 1151, 379, 274, 470], 810: [1918, 876, 358, 1481, 875], 811: [421, 630, 665, 872, 245], 812: [2009, 2056, 1741, 2000, 2663], 813: [274, 0, 1393, 1297, 926], 814: [875, 91, 874, 922, 886], 815: [2009, 2000, 2125, 181, 2228], 816: [939, 2056, 657, 891, 676], 817: [0, 2316, 2175, 1918, 875], 818: [2125, 232, 2198, 44, 91], 819: [91, 470, 379, 1918, 358], 820: [435, 1918, 470, 676, 878], 821: [2897, 2792, 2907, 2936, 2793], 822: [2316, 0, 469, 2792, 1526], 823: [2125, 947, 2228, 1023, 1687], 824: [872, 630, 884, 899, 912], 825: [665, 675, 884, 657, 672], 826: [2897, 2590, 2907, 2469, 2792], 827: [665, 676, 630, 435, 872], 828: [2534, 2056, 1774, 2663, 2009], 829: [665, 630, 661, 915, 675], 830: [889, 1588, 1827, 1456, 1686], 831: [484, 232, 2125, 44, 473], 832: [1393, 2316, 2079, 0, 2590], 833: [2125, 245, 473, 2056, 872], 834: [16, 1774, 673, 91, 274], 835: [676, 916, 1987, 435, 955], 836: [475, 760, 770, 1539, 474], 837: [630, 1481, 958, 2125, 484], 838: [2663, 2823, 2534, 2354, 2613], 839: [894, 2152, 597, 196, 2055], 840: [0, 2087, 672, 2316, 763], 841: [2897, 2793, 2663, 2590, 2613], 842: [2125, 2228, 2198, 2354, 2168], 843: [274, 2087, 2079, 1393, 922], 844: [44, 665, 473, 1186, 435], 845: [2125, 245, 232, 484, 473], 846: [630, 876, 872, 1016, 958], 847: [2125, 2018, 2228, 2079, 1774], 848: [876, 875, 874, 886, 421], 849: [1393, 274, 926, 2175, 342], 850: [1588, 891, 1456, 1972, 974], 851: [470, 2823, 2663, 379, 91], 852: [2175, 2079, 801, 2648, 947], 853: [991, 876, 949, 1918, 875], 854: [477, 433, 274, 16, 1994], 855: [1060, 1689, 451, 1651, 394], 856: [2125, 2897, 2590, 2354, 2907], 857: [665, 663, 675, 899, 2555], 858: [889, 939, 1980, 1686, 878], 859: [2793, 379, 2897, 2590, 1588], 860: [891, 1456, 1445, 921, 1016], 861: [2079, 2175, 1023, 922, 801], 862: [2897, 630, 872, 899, 2125], 863: [876, 470, 874, 906, 771], 864: [657, 661, 891, 665, 675], 865: [876, 630, 874, 1918, 886], 866: [2316, 2663, 2792, 1481, 2534], 867: [2125, 661, 630, 2590, 922], 868: [1445, 1456, 921, 891, 983], 869: [1031, 443, 1919, 2290, 1864], 870: [2125, 872, 2079, 2228, 245], 871: [2056, 2009, 2000, 1741, 2018], 872: [874, 1918, 886, 876, 470], 873: [881, 665, 914, 719, 954], 874: [891, 657, 1016, 630, 656], 875: [2897, 2663, 2613, 2936, 2534], 876: [1918, 906, 470, 878, 874], 877: [1098, 44, 926, 447, 0], 878: [2823, 470, 1918, 2792, 2590], 879: [899, 666, 1774, 2228, 2125], 880: [1918, 470, 2364, 2316, 379], 881: [2125, 1278, 1391, 524, 2272], 882: [1918, 435, 470, 2823, 874], 883: [2897, 2793, 2663, 2590, 2936], 884: [473, 245, 2125, 421, 1481], 885: [874, 1918, 421, 435, 2316], 886: [2897, 2590, 2907, 2792, 2936], 887: [484, 1186, 473, 44, 245], 888: [91, 1481, 470, 379, 1918], 889: [944, 2555, 693, 682, 913], 890: [874, 1918, 0, 876, 281], 891: [1741, 2316, 1774, 2055, 1724], 892: [874, 889, 906, 876, 886], 893: [2897, 2590, 2907, 2663, 2936], 894: [1918, 876, 771, 906, 473], 895: [1774, 1937, 2228, 1741, 2316], 896: [2534, 2663, 2613, 2793, 2056], 897: [473, 245, 274, 1255, 2342], 898: [874, 876, 1481, 421, 886], 899: [16, 394, 1774, 620, 1689], 900: [2228, 2056, 1774, 1937, 2125], 901: [2125, 2793, 2590, 2897, 2663], 902: [2056, 2018, 1741, 666, 2009], 903: [2056, 666, 1774, 2228, 1724], 904: [470, 889, 1016, 1686, 358], 905: [676, 470, 1918, 435, 883], 906: [470, 1918, 91, 379, 886], 907: [630, 665, 915, 874, 435], 908: [473, 2056, 245, 484, 2125], 909: [2897, 2590, 661, 2907, 2125], 910: [91, 914, 471, 274, 719], 911: [703, 118, 1670, 951, 956], 912: [2125, 2228, 872, 2897, 2590], 913: [876, 874, 931, 949, 886], 914: [665, 245, 872, 484, 473], 915: [91, 379, 470, 1481, 2125], 916: [875, 922, 931, 2087, 876], 917: [1481, 421, 245, 473, 630], 918: [118, 0, 274, 29, 1481], 919: [922, 2125, 2079, 895, 1435], 920: [2056, 2125, 2009, 2198, 833], 921: [421, 1481, 245, 91, 922], 922: [421, 884, 675, 245, 2663], 923: [2228, 2125, 1937, 1773, 181], 924: [2125, 245, 484, 1774, 421], 925: [469, 475, 770, 274, 763], 926: [2316, 1741, 2055, 2364, 2056], 927: [433, 477, 1994, 274, 1774], 928: [484, 899, 884, 872, 776], 929: [2648, 892, 927, 893, 1223], 930: [44, 232, 484, 888, 810], 931: [2555, 653, 666, 682, 1610], 932: [2125, 245, 421, 232, 484], 933: [421, 1481, 245, 118, 91], 934: [433, 1863, 477, 10, 53], 935: [2125, 2056, 2342, 2663, 922], 936: [1481, 91, 2793, 2316, 2663], 937: [2663, 876, 2823, 922, 875], 938: [2125, 2663, 2590, 875, 2228], 939: [2897, 922, 2590, 876, 630], 940: [2125, 2228, 2198, 2663, 181], 941: [2125, 2228, 2198, 181, 2354], 942: [2125, 484, 245, 232, 473], 943: [421, 245, 16, 1255, 1774], 944: [2125, 2228, 2056, 2198, 1937], 945: [274, 1774, 1481, 421, 1263], 946: [421, 1481, 245, 91, 2125], 947: [875, 960, 1651, 1783, 876], 948: [881, 914, 923, 916, 666], 949: [991, 1985, 1005, 916, 2192], 950: [1918, 470, 379, 1151, 2173], 951: [2316, 0, 2792, 469, 1741], 952: [2125, 1205, 2228, 1297, 1937], 953: [91, 661, 1481, 470, 1186], 954: [421, 245, 29, 0, 2316], 955: [484, 960, 1186, 993, 245], 956: [0, 1918, 2316, 475, 2792], 957: [421, 2897, 2204, 196, 31], 958: [915, 665, 675, 1186, 899], 959: [91, 274, 2793, 1481, 1263], 960: [2125, 232, 2228, 484, 872], 961: [2663, 2793, 2613, 2534, 2125], 962: [473, 44, 245, 2056, 2342], 963: [908, 876, 2316, 2152, 421], 964: [2590, 2125, 2792, 2897, 1774], 965: [44, 484, 473, 245, 232], 966: [2897, 421, 2125, 2354, 31], 967: [274, 1393, 433, 477, 926], 968: [2125, 2228, 484, 232, 1186], 969: [245, 2125, 484, 421, 473], 970: [2143, 2057, 2663, 2793, 771], 971: [874, 889, 876, 878, 1918], 972: [91, 2079, 922, 2125, 2590], 973: [421, 16, 245, 29, 1774], 974: [876, 874, 875, 630, 886], 975: [1186, 630, 2125, 2663, 1481], 976: [2009, 2000, 2056, 666, 181], 977: [921, 891, 1456, 889, 1016], 978: [2125, 2228, 2198, 181, 2168], 979: [876, 771, 358, 949, 1016], 980: [876, 1016, 630, 874, 949], 981: [44, 947, 232, 810, 1186], 982: [16, 665, 1774, 875, 421], 983: [875, 874, 876, 886, 421], 984: [933, 923, 2257, 916, 2502], 985: [1918, 906, 44, 470, 876], 986: [2897, 2793, 2663, 2590, 1481], 987: [931, 895, 818, 874, 960], 988: [2125, 922, 2079, 1481, 875], 989: [657, 666, 2555, 887, 1610], 990: [91, 1918, 1151, 470, 1179], 991: [665, 16, 652, 673, 719], 992: [274, 2125, 2663, 1297, 1774], 993: [1481, 421, 630, 245, 91], 994: [876, 630, 874, 1016, 886], 995: [433, 16, 1774, 275, 477], 996: [44, 1186, 878, 927, 435], 997: [1481, 91, 421, 245, 1918], 998: [29, 421, 1774, 2125, 245], 999: [91, 1481, 2310, 245, 2663], 1000: [876, 771, 470, 949, 874], 1001: [2897, 2534, 2792, 2469, 2907], 1002: [245, 2125, 484, 421, 1255], 1003: [630, 876, 874, 421, 872], 1004: [469, 892, 1741, 2316, 2526], 1005: [876, 875, 630, 958, 2316], 1006: [2663, 2228, 2056, 2823, 2534], 1007: [2125, 2079, 922, 875, 2087], 1008: [2125, 2228, 2056, 2018, 1937], 1009: [2897, 2663, 2590, 2534, 2793], 1010: [810, 898, 888, 816, 927], 1011: [874, 876, 886, 630, 875], 1012: [876, 875, 960, 874, 818], 1013: [1774, 2316, 0, 2228, 926], 1014: [876, 874, 421, 630, 665], 1015: [1588, 678, 720, 836, 197], 1016: [1774, 421, 16, 29, 926], 1017: [1456, 1445, 921, 983, 939], 1018: [876, 949, 874, 91, 908], 1019: [2776, 944, 913, 860, 2555], 1020: [91, 1481, 470, 2125, 1918], 1021: [881, 665, 915, 675, 630], 1022: [1724, 2168, 1721, 2198, 1427], 1023: [661, 2125, 2079, 872, 473], 1024: [665, 16, 673, 719, 912], 1025: [2125, 2228, 2198, 181, 2663], 1026: [944, 928, 666, 913, 2555], 1027: [2125, 91, 1481, 421, 245], 1028: [484, 245, 888, 872, 232], 1029: [2079, 2125, 763, 770, 947], 1030: [876, 949, 936, 91, 1179], 1031: [991, 1005, 250, 1002, 2752], 1032: [2316, 0, 29, 421, 2792], 1033: [91, 1481, 2663, 2793, 922], 1034: [2663, 666, 2534, 719, 653], 1035: [1481, 421, 91, 245, 872], 1036: [484, 44, 473, 232, 872], 1037: [2897, 2793, 2590, 2936, 2613], 1038: [2056, 421, 245, 1774, 473], 1039: [2056, 2018, 2009, 2000, 2228], 1040: [895, 2087, 872, 912, 2175], 1041: [675, 666, 899, 665, 884], 1042: [874, 818, 886, 875, 1575], 1043: [2125, 484, 232, 888, 44], 1044: [876, 906, 878, 874, 875], 1045: [1774, 2316, 0, 274, 926], 1046: [875, 876, 874, 931, 886], 1047: [874, 1918, 886, 470, 1481], 1048: [421, 484, 245, 2125, 232], 1049: [421, 245, 484, 2125, 1481], 1050: [1718, 2366, 1241, 1297, 497], 1051: [281, 0, 475, 2634, 1031], 1052: [665, 666, 912, 652, 653], 1053: [666, 771, 2191, 2057, 2193], 1054: [0, 2316, 1918, 1151, 2364], 1055: [2316, 1774, 1741, 2018, 2056], 1056: [91, 1481, 470, 379, 274], 1057: [2792, 2316, 435, 2055, 0], 1058: [2228, 2125, 2663, 630, 2823], 1059: [872, 585, 630, 92, 895], 1060: [379, 91, 470, 2793, 2663], 1061: [2316, 0, 1741, 875, 2087], 1062: [899, 902, 663, 937, 484], 1063: [470, 1918, 91, 379, 1481], 1064: [2663, 91, 2897, 2125, 2793], 1065: [2125, 1774, 16, 275, 433], 1066: [661, 665, 2125, 1774, 960], 1067: [2125, 484, 473, 232, 872], 1068: [2125, 2198, 44, 232, 473], 1069: [1262, 776, 257, 1201, 375], 1070: [91, 1481, 2663, 2793, 470], 1071: [1774, 2125, 2663, 673, 421], 1072: [2056, 1774, 421, 245, 665], 1073: [665, 1774, 666, 673, 16], 1074: [118, 703, 274, 880, 0], 1075: [665, 421, 657, 675, 928], 1076: [0, 2316, 274, 1741, 469], 1077: [915, 891, 92, 630, 2736], 1078: [16, 2125, 864, 1774, 620], 1079: [2125, 1186, 44, 473, 484], 1080: [379, 91, 2125, 1151, 470], 1081: [2125, 2228, 484, 232, 473], 1082: [91, 470, 1481, 379, 1918], 1083: [876, 949, 630, 719, 874], 1084: [44, 1186, 358, 1481, 5], 1085: [473, 44, 245, 630, 484], 1086: [2663, 2823, 1918, 2079, 949], 1087: [770, 672, 763, 1415, 2056], 1088: [666, 682, 678, 2555, 680], 1089: [473, 2056, 889, 1918, 470], 1090: [245, 473, 2056, 2125, 1255], 1091: [91, 379, 470, 1151, 561], 1092: [770, 475, 760, 1539, 474], 1093: [876, 91, 1481, 630, 874], 1094: [421, 665, 245, 673, 1774], 1095: [421, 245, 1481, 665, 471], 1096: [2125, 1918, 245, 2056, 473], 1097: [2125, 1393, 274, 1297, 91], 1098: [630, 958, 1016, 872, 876], 1099: [2125, 232, 484, 2228, 888], 1100: [443, 2526, 2316, 1060, 2077], 1101: [2125, 872, 2228, 883, 676], 1102: [44, 473, 993, 484, 232], 1103: [889, 1016, 891, 274, 921], 1104: [2125, 484, 232, 245, 888], 1105: [473, 2056, 630, 872, 44], 1106: [470, 91, 379, 922, 1918], 1107: [1774, 433, 0, 274, 477], 1108: [2125, 91, 379, 2079, 470], 1109: [421, 245, 872, 473, 1481], 1110: [2125, 2228, 2056, 1724, 2198], 1111: [770, 672, 379, 630, 763], 1112: [2056, 891, 703, 1241, 281], 1113: [810, 1272, 44, 232, 181], 1114: [1774, 16, 433, 477, 620], 1115: [421, 245, 872, 473, 484], 1116: [947, 1023, 875, 801, 2175], 1117: [1864, 790, 1773, 371, 1391], 1118: [470, 379, 91, 1151, 1918], 1119: [916, 676, 2583, 955, 1985], 1120: [942, 763, 2353, 2526, 767], 1121: [484, 1186, 2540, 20, 275], 1122: [676, 435, 916, 2583, 955], 1123: [2793, 2663, 2897, 91, 2650], 1124: [2725, 2079, 937, 885, 2087], 1125: [2534, 2342, 2056, 2366, 1863], 1126: [91, 1481, 421, 2125, 245], 1127: [2663, 91, 874, 876, 2823], 1128: [884, 895, 1420, 675, 954], 1129: [886, 931, 875, 874, 876], 1130: [630, 884, 665, 914, 872], 1131: [665, 915, 675, 630, 421], 1132: [1918, 874, 906, 878, 435], 1133: [1481, 91, 421, 232, 811], 1134: [665, 630, 421, 872, 232], 1135: [435, 676, 1155, 916, 1214], 1136: [44, 473, 1186, 810, 484], 1137: [2534, 657, 2613, 656, 2792], 1138: [2125, 2663, 2897, 2534, 2354], 1139: [1255, 118, 245, 421, 1297], 1140: [891, 881, 719, 1746, 914], 1141: [653, 2792, 657, 672, 763], 1142: [2125, 2342, 473, 2056, 245], 1143: [630, 876, 872, 874, 672], 1144: [91, 470, 379, 1481, 922], 1145: [2125, 245, 484, 473, 29], 1146: [1031, 891, 1445, 2586, 1588], 1147: [944, 2555, 661, 913, 887], 1148: [2079, 2125, 2228, 2175, 947], 1149: [2056, 2018, 2228, 2198, 2663], 1150: [2461, 944, 2555, 678, 913], 1151: [1918, 878, 875, 906, 874], 1152: [1918, 470, 889, 379, 874], 1153: [2056, 2228, 2534, 2198, 1724], 1154: [2897, 2792, 2907, 2663, 2590], 1155: [91, 1481, 447, 5, 232], 1156: [433, 477, 1994, 1145, 259], 1157: [91, 470, 379, 1151, 1481], 1158: [433, 477, 16, 274, 1774], 1159: [1918, 470, 435, 874, 676], 1160: [2663, 2198, 2009, 1741, 2056], 1161: [661, 922, 2897, 665, 2590], 1162: [665, 421, 912, 884, 895], 1163: [2793, 2663, 2650, 379, 2823], 1164: [16, 864, 1724, 410, 405], 1165: [1918, 435, 1186, 2056, 2823], 1166: [2125, 91, 379, 2079, 470], 1167: [421, 245, 1774, 274, 118], 1168: [1393, 1297, 926, 34, 1205], 1169: [2079, 2725, 2125, 939, 947], 1170: [2125, 719, 666, 899, 665], 1171: [2897, 2793, 2613, 2663, 2936], 1172: [477, 433, 1994, 1239, 665], 1173: [2897, 2663, 2793, 2354, 2613], 1174: [2125, 2590, 2897, 661, 2663], 1175: [433, 477, 1994, 1798, 259], 1176: [876, 630, 874, 872, 875], 1177: [91, 2125, 1481, 274, 421], 1178: [1186, 44, 915, 666, 665], 1179: [889, 876, 906, 874, 1918], 1180: [421, 665, 245, 630, 876], 1181: [2776, 944, 917, 2581, 887], 1182: [675, 872, 676, 630, 884], 1183: [666, 435, 665, 931, 661], 1184: [875, 886, 433, 876, 874], 1185: [274, 2056, 245, 2342, 1297], 1186: [891, 1588, 889, 939, 661], 1187: [274, 0, 2056, 469, 1297], 1188: [470, 876, 874, 91, 1918], 1189: [875, 16, 1774, 394, 926], 1190: [91, 2125, 379, 470, 1918], 1191: [2555, 1610, 887, 944, 657], 1192: [421, 245, 29, 1774, 872], 1193: [274, 2316, 1481, 1741, 2793], 1194: [2343, 911, 2303, 404, 932], 1195: [2316, 2056, 2018, 2290, 1016], 1196: [245, 421, 872, 876, 895], 1197: [44, 1186, 484, 473, 232], 1198: [2663, 91, 2793, 1481, 470], 1199: [118, 960, 2175, 931, 1863], 1200: [2125, 2198, 2228, 2056, 2663], 1201: [2056, 1741, 2228, 181, 2018], 1202: [421, 245, 1155, 902, 1863], 1203: [2469, 2937, 2897, 2204, 2168], 1204: [2125, 2663, 91, 2009, 2823], 1205: [1774, 16, 275, 433, 274], 1206: [676, 916, 955, 435, 877], 1207: [470, 1918, 91, 281, 0], 1208: [2897, 2590, 2125, 2354, 2907], 1209: [906, 771, 922, 1459, 876], 1210: [1918, 874, 876, 906, 886], 1211: [915, 913, 928, 883, 129], 1212: [44, 810, 1186, 484, 232], 1213: [665, 657, 661, 891, 1774], 1214: [676, 435, 881, 958, 923], 1215: [676, 435, 883, 1918, 877], 1216: [630, 1421, 958, 923, 2188], 1217: [876, 2590, 630, 2663, 875], 1218: [2125, 421, 1481, 484, 245], 1219: [1918, 470, 358, 2823, 561], 1220: [0, 2316, 876, 469, 274], 1221: [931, 1151, 1468, 1469, 874], 1222: [2056, 2125, 2228, 473, 44], 1223: [2079, 661, 944, 2590, 922], 1224: [703, 884, 880, 2498, 1234], 1225: [2125, 484, 232, 630, 888], 1226: [2897, 2907, 2590, 2469, 2936], 1227: [2125, 2168, 2228, 1774, 484], 1228: [245, 484, 473, 1481, 421], 1229: [484, 2125, 473, 44, 232], 1230: [2364, 2823, 2056, 2018, 833], 1231: [630, 473, 421, 245, 232], 1232: [2125, 2228, 2590, 484, 2897], 1233: [676, 889, 874, 435, 906], 1234: [91, 2125, 1481, 874, 2663], 1235: [421, 245, 1255, 473, 484], 1236: [876, 949, 906, 771, 874], 1237: [470, 358, 1918, 379, 2079], 1238: [2228, 2125, 1774, 1724, 1937], 1239: [245, 421, 29, 1255, 484], 1240: [2663, 2897, 2793, 2590, 2534], 1241: [2897, 2590, 2792, 2907, 2936], 1242: [868, 1060, 899, 266, 451], 1243: [799, 958, 899, 676, 2583], 1244: [1384, 2590, 2897, 2170, 2700], 1245: [906, 878, 889, 435, 874], 1246: [421, 935, 524, 2792, 2823], 1247: [2663, 2793, 2897, 2613, 661], 1248: [44, 1186, 484, 810, 232], 1249: [435, 906, 874, 878, 889], 1250: [2125, 2228, 2354, 2897, 2590], 1251: [2228, 2125, 181, 1937, 2198], 1252: [872, 2125, 630, 421, 2897], 1253: [29, 2316, 1774, 0, 1937], 1254: [16, 665, 673, 433, 620], 1255: [2125, 2228, 2168, 2354, 2198], 1256: [44, 1186, 915, 630, 657], 1257: [875, 876, 874, 949, 886], 1258: [1186, 44, 915, 484, 928], 1259: [470, 91, 379, 1918, 1151], 1260: [811, 2174, 2304, 927, 924], 1261: [2663, 2009, 2823, 2793, 2125], 1262: [922, 2079, 91, 2897, 2590], 1263: [2009, 181, 2000, 1864, 2228], 1264: [421, 893, 435, 811, 1428], 1265: [2228, 2897, 2125, 2590, 2907], 1266: [475, 2897, 281, 2907, 770], 1267: [630, 874, 665, 435, 676], 1268: [630, 2125, 661, 958, 915], 1269: [2056, 1774, 2316, 1724, 2228], 1270: [2897, 2613, 2590, 2936, 2907], 1271: [2316, 0, 29, 2792, 926], 1272: [421, 1774, 0, 29, 2316], 1273: [899, 663, 909, 919, 652], 1274: [944, 2555, 881, 887, 719], 1275: [421, 1481, 665, 914, 881], 1276: [2079, 801, 947, 1023, 2087], 1277: [2125, 1456, 921, 891, 473], 1278: [876, 874, 875, 421, 886], 1279: [895, 16, 421, 245, 1863], 1280: [2125, 2663, 1481, 2056, 91], 1281: [31, 2125, 484, 245, 1233], 1282: [2125, 922, 91, 2079, 1481], 1283: [0, 2316, 469, 281, 475], 1284: [993, 1186, 484, 497, 44], 1285: [2380, 1456, 1705, 924, 910], 1286: [2125, 2228, 1774, 1724, 1937], 1287: [44, 245, 473, 421, 1186], 1288: [2125, 872, 2168, 2228, 484], 1289: [876, 874, 421, 630, 886], 1290: [2125, 2056, 2228, 1774, 2663], 1291: [899, 903, 872, 939, 630], 1292: [2125, 91, 2663, 2590, 2354], 1293: [245, 421, 484, 232, 44], 1294: [899, 1060, 2590, 903, 947], 1295: [666, 661, 944, 928, 665], 1296: [245, 473, 421, 484, 2056], 1297: [883, 2198, 1391, 1272, 1278], 1298: [703, 675, 2583, 884, 880], 1299: [889, 470, 1918, 630, 876], 1300: [2290, 2018, 2012, 2125, 2228], 1301: [421, 91, 1481, 875, 2663], 1302: [1918, 470, 379, 1151, 2173], 1303: [883, 921, 877, 891, 1456], 1304: [906, 1918, 874, 876, 470], 1305: [872, 421, 245, 884, 630], 1306: [2897, 2590, 1186, 2792, 435], 1307: [91, 470, 874, 1481, 886], 1308: [1481, 91, 1918, 2663, 470], 1309: [2793, 2663, 2534, 2897, 2613], 1310: [876, 874, 818, 908, 906], 1311: [874, 886, 876, 672, 630], 1312: [435, 1918, 878, 676, 889], 1313: [91, 470, 379, 1481, 2793], 1314: [874, 876, 886, 818, 875], 1315: [665, 630, 421, 899, 915], 1316: [2125, 2056, 666, 2018, 2663], 1317: [770, 2583, 1456, 974, 939], 1318: [2897, 2590, 2663, 2936, 2907], 1319: [2125, 2663, 2590, 2228, 91], 1320: [630, 771, 358, 1016, 470], 1321: [2175, 2087, 1023, 960, 922], 1322: [930, 652, 653, 666, 663], 1323: [665, 661, 719, 652, 673], 1324: [872, 630, 2056, 473, 421], 1325: [2316, 2792, 0, 876, 958], 1326: [2125, 1774, 245, 2056, 421], 1327: [1481, 91, 421, 274, 908], 1328: [876, 949, 771, 874, 886], 1329: [2056, 2663, 2175, 2342, 2823], 1330: [665, 421, 666, 1186, 1774], 1331: [884, 665, 421, 666, 675], 1332: [2316, 0, 2087, 29, 939], 1333: [915, 928, 944, 1421, 1186], 1334: [2125, 2228, 2056, 2198, 1937], 1335: [899, 2125, 872, 630, 92], 1336: [421, 245, 2316, 1481, 0], 1337: [475, 2316, 281, 1380, 0], 1338: [630, 91, 876, 2663, 1481], 1339: [2125, 245, 484, 473, 44], 1340: [470, 473, 891, 358, 379], 1341: [1031, 921, 1445, 2603, 985], 1342: [91, 470, 379, 1481, 1918], 1343: [899, 939, 902, 799, 958], 1344: [245, 421, 473, 818, 872], 1345: [274, 0, 433, 926, 477], 1346: [1016, 891, 630, 889, 2897], 1347: [2125, 91, 2897, 274, 2793], 1348: [475, 281, 474, 760, 1380], 1349: [876, 630, 1016, 874, 771], 1350: [421, 245, 473, 484, 29], 1351: [875, 44, 1186, 876, 473], 1352: [232, 484, 44, 888, 1186], 1353: [2316, 0, 2055, 469, 475], 1354: [2125, 2663, 2897, 2590, 1689], 1355: [665, 673, 1774, 421, 16], 1356: [232, 810, 2125, 2198, 888], 1357: [1445, 1456, 891, 921, 983], 1358: [991, 243, 1918, 2173, 906], 1359: [2316, 1741, 2055, 0, 475], 1360: [245, 2125, 2056, 1481, 421], 1361: [2125, 665, 672, 661, 872], 1362: [2897, 2823, 2590, 661, 435], 1363: [2228, 1937, 2125, 2590, 1773], 1364: [939, 1016, 891, 1456, 921], 1365: [874, 876, 435, 886, 818], 1366: [2056, 2018, 2228, 2009, 2663], 1367: [0, 926, 931, 274, 342], 1368: [875, 899, 665, 1774, 960], 1369: [939, 926, 435, 2079, 947], 1370: [2125, 2056, 473, 2663, 1186], 1371: [421, 2897, 245, 1481, 2793], 1372: [2663, 2125, 91, 2793, 379], 1373: [470, 435, 1918, 889, 676], 1374: [245, 484, 872, 888, 421], 1375: [1774, 2228, 2056, 2125, 1937], 1376: [2125, 2056, 1724, 1774, 2228], 1377: [875, 874, 908, 1459, 876], 1378: [2555, 666, 657, 682, 1610], 1379: [2125, 91, 2354, 2228, 2079], 1380: [1918, 2364, 2316, 991, 874], 1381: [421, 245, 665, 630, 2897], 1382: [666, 2555, 887, 1610, 675], 1383: [657, 652, 1234, 899, 960], 1384: [91, 2125, 470, 379, 2663], 1385: [2125, 91, 2079, 379, 470], 1386: [484, 2125, 872, 232, 245], 1387: [665, 2555, 661, 653, 663], 1388: [44, 2056, 1186, 473, 810], 1389: [421, 118, 471, 908, 0], 1390: [1016, 771, 2534, 2056, 876], 1391: [1774, 926, 2316, 0, 394], 1392: [1016, 876, 630, 1481, 274], 1393: [421, 1481, 245, 91, 232], 1394: [2079, 91, 2125, 379, 2590], 1395: [2590, 1278, 2897, 877, 2823], 1396: [2125, 2228, 2079, 232, 484], 1397: [889, 874, 676, 906, 435], 1398: [661, 2125, 91, 665, 922], 1399: [44, 1918, 470, 473, 2823], 1400: [245, 232, 484, 421, 888], 1401: [421, 484, 245, 872, 473], 1402: [245, 421, 2125, 473, 1481], 1403: [1918, 874, 470, 435, 886], 1404: [926, 2725, 2316, 1774, 274], 1405: [630, 872, 484, 899, 473], 1406: [245, 421, 484, 473, 2125], 1407: [2792, 2897, 29, 421, 1774], 1408: [470, 561, 358, 374, 379], 1409: [2125, 484, 2228, 875, 1918], 1410: [889, 874, 435, 878, 676], 1411: [2125, 2228, 1937, 1724, 2198], 1412: [2056, 2228, 1918, 833, 666], 1413: [1186, 630, 44, 876, 915], 1414: [561, 379, 91, 470, 1918], 1415: [872, 630, 421, 245, 665], 1416: [2056, 2198, 2009, 1724, 181], 1417: [2897, 2793, 2663, 2936, 2590], 1418: [876, 833, 1918, 2056, 949], 1419: [2125, 91, 379, 2079, 2590], 1420: [91, 893, 1481, 232, 421], 1421: [2228, 872, 1937, 899, 675], 1422: [2316, 0, 939, 118, 2725], 1423: [2590, 2125, 2897, 899, 2228], 1424: [1031, 421, 2603, 921, 1481], 1425: [675, 2907, 2937, 891, 2897], 1426: [908, 281, 1670, 1179, 1614], 1427: [91, 1481, 922, 470, 2663], 1428: [91, 2125, 2079, 379, 470], 1429: [661, 922, 91, 2079, 2590], 1430: [2228, 181, 2125, 1773, 630], 1431: [2125, 91, 630, 922, 470], 1432: [2056, 2018, 1741, 2364, 2228], 1433: [1918, 561, 379, 1151, 243], 1434: [0, 274, 2316, 1016, 1741], 1435: [2125, 2590, 91, 2079, 2897], 1436: [2056, 1774, 2228, 1724, 2125], 1437: [872, 630, 473, 665, 484], 1438: [2125, 2228, 2056, 2009, 181], 1439: [666, 2555, 944, 928, 915], 1440: [872, 630, 473, 232, 484], 1441: [2125, 91, 1151, 2570, 274], 1442: [676, 435, 883, 877, 2583], 1443: [872, 421, 630, 245, 665], 1444: [2897, 2793, 2663, 2590, 2936], 1445: [630, 874, 886, 1918, 876], 1446: [661, 2125, 665, 915, 675], 1447: [675, 891, 421, 884, 657], 1448: [2304, 2860, 1552, 497, 1233], 1449: [898, 92, 2581, 1413, 888], 1450: [2125, 274, 91, 1481, 1774], 1451: [951, 1428, 908, 954, 894], 1452: [2897, 421, 2907, 2792, 665], 1453: [2009, 2000, 181, 2125, 2056], 1454: [91, 1481, 421, 274, 471], 1455: [91, 1481, 470, 274, 16], 1456: [2663, 2897, 44, 2590, 630], 1457: [1255, 245, 118, 993, 423], 1458: [421, 245, 2125, 872, 232], 1459: [2125, 2228, 1774, 1937, 1773], 1460: [91, 470, 379, 1151, 2793], 1461: [2125, 661, 91, 2079, 379], 1462: [91, 2125, 379, 2079, 922], 1463: [886, 874, 1918, 1155, 906], 1464: [91, 1481, 470, 876, 875], 1465: [703, 1515, 933, 2380, 946], 1466: [630, 2125, 876, 5, 447], 1467: [2009, 2056, 2663, 2198, 2125], 1468: [876, 771, 949, 1918, 358], 1469: [899, 663, 902, 958, 939], 1470: [2793, 91, 2663, 922, 1481], 1471: [2079, 2125, 922, 91, 2590], 1472: [876, 949, 875, 936, 771], 1473: [2192, 876, 630, 946, 2191], 1474: [2228, 2125, 883, 877, 874], 1475: [421, 665, 912, 245, 872], 1476: [0, 2316, 29, 421, 281], 1477: [661, 676, 2897, 675, 657], 1478: [421, 245, 232, 484, 888], 1479: [2125, 665, 661, 912, 630], 1480: [2897, 2590, 2936, 2793, 2907], 1481: [475, 0, 281, 245, 91], 1482: [2056, 2228, 2198, 2534, 1724], 1483: [665, 435, 421, 874, 232], 1484: [196, 2152, 597, 0, 1773], 1485: [245, 2056, 2087, 473, 2175], 1486: [2056, 2663, 1741, 2316, 2823], 1487: [2897, 2590, 2663, 2793, 2613], 1488: [876, 630, 874, 889, 906], 1489: [657, 672, 630, 915, 656], 1490: [2191, 2192, 771, 2193, 1179], 1491: [29, 421, 1774, 0, 2228], 1492: [1918, 435, 874, 470, 883], 1493: [1774, 2316, 0, 421, 29], 1494: [91, 2125, 379, 470, 922], 1495: [2316, 2792, 2055, 0, 2364], 1496: [443, 524, 939, 1686, 486], 1497: [91, 2192, 470, 379, 2125], 1498: [421, 1481, 245, 91, 232], 1499: [379, 1918, 2793, 2823, 2663], 1500: [2125, 2228, 2590, 2079, 2354], 1501: [469, 2316, 0, 1380, 763], 1502: [1481, 91, 379, 561, 1918], 1503: [91, 274, 1481, 421, 914], 1504: [1918, 875, 358, 876, 1179], 1505: [899, 947, 799, 903, 2079], 1506: [876, 874, 886, 949, 908], 1507: [2079, 2125, 91, 470, 379], 1508: [421, 1481, 245, 630, 872], 1509: [1918, 470, 2823, 379, 1151], 1510: [91, 2125, 379, 922, 2079], 1511: [876, 630, 881, 874, 665], 1512: [91, 2125, 2079, 2590, 922], 1513: [665, 719, 1481, 673, 874], 1514: [630, 872, 874, 484, 2125], 1515: [91, 2125, 1481, 922, 379], 1516: [1110, 1393, 2009, 1481, 274], 1517: [484, 232, 2125, 245, 872], 1518: [874, 906, 889, 878, 1918], 1519: [2125, 2228, 2056, 245, 473], 1520: [91, 2125, 379, 470, 922], 1521: [44, 484, 473, 232, 1186], 1522: [676, 435, 889, 878, 906], 1523: [91, 892, 958, 876, 1481], 1524: [2663, 91, 886, 874, 875], 1525: [899, 2792, 903, 484, 1186], 1526: [665, 884, 421, 912, 895], 1527: [630, 421, 874, 1481, 876], 1528: [2056, 2018, 2125, 2228, 2009], 1529: [379, 91, 561, 1918, 1151], 1530: [877, 883, 790, 1110, 1060], 1531: [91, 379, 470, 2079, 922], 1532: [2125, 181, 1773, 2228, 1937], 1533: [2056, 2534, 2663, 2018, 1774], 1534: [245, 421, 473, 872, 1255], 1535: [902, 899, 2502, 958, 903], 1536: [1016, 876, 421, 1481, 874], 1537: [91, 2125, 2079, 922, 379], 1538: [2228, 1774, 1297, 274, 181], 1539: [666, 2555, 887, 665, 1610], 1540: [435, 1186, 875, 666, 665], 1541: [630, 872, 473, 421, 876], 1542: [91, 1481, 1918, 1179, 471], 1543: [2056, 358, 1918, 561, 470], 1544: [2663, 2823, 2354, 2613, 2534], 1545: [881, 435, 676, 630, 914], 1546: [2316, 2175, 2342, 0, 118], 1547: [872, 665, 421, 245, 2125], 1548: [1774, 2228, 2125, 2056, 1724], 1549: [2125, 91, 379, 2079, 470], 1550: [2125, 245, 484, 473, 232], 1551: [630, 665, 915, 912, 872], 1552: [245, 118, 1255, 29, 0], 1553: [2316, 1741, 0, 1774, 875], 1554: [630, 1186, 44, 665, 435], 1555: [421, 874, 1481, 245, 886], 1556: [675, 672, 657, 2792, 884], 1557: [2125, 91, 922, 2079, 379], 1558: [470, 1918, 874, 886, 91], 1559: [435, 676, 1186, 889, 44], 1560: [2663, 875, 876, 1774, 886], 1561: [2125, 245, 1724, 2228, 2056], 1562: [1031, 2603, 921, 1445, 1456], 1563: [2125, 2663, 91, 2354, 2793], 1564: [2650, 561, 2700, 510, 379], 1565: [1774, 2228, 1937, 2125, 1205], 1566: [91, 2793, 2663, 1481, 2125], 1567: [435, 676, 883, 889, 915], 1568: [2316, 0, 29, 2056, 245], 1569: [421, 872, 245, 884, 2125], 1570: [666, 928, 657, 915, 887], 1571: [473, 922, 245, 44, 484], 1572: [2056, 2009, 2663, 2534, 2232], 1573: [2897, 2793, 2792, 2590, 2663], 1574: [0, 2316, 469, 475, 1741], 1575: [874, 876, 886, 1481, 91], 1576: [16, 433, 1774, 960, 477], 1577: [1918, 2056, 470, 1774, 2316], 1578: [874, 876, 906, 889, 878], 1579: [703, 1718, 933, 885, 880], 1580: [891, 657, 661, 665, 656], 1581: [2316, 1774, 1741, 2056, 1937], 1582: [2125, 91, 1481, 2009, 2663], 1583: [2056, 1724, 2228, 1774, 2198], 1584: [2590, 1060, 1384, 2907, 1687], 1585: [926, 960, 421, 484, 1774], 1586: [958, 942, 0, 474, 1523], 1587: [1233, 770, 1689, 661, 2125], 1588: [2079, 939, 2792, 2316, 2087], 1589: [470, 379, 889, 676, 883], 1590: [876, 874, 818, 895, 1429], 1591: [1738, 922, 801, 2283, 1023], 1592: [939, 2079, 2725, 902, 899], 1593: [2603, 91, 1031, 1456, 274], 1594: [2079, 2590, 947, 899, 903], 1595: [922, 874, 876, 931, 886], 1596: [2056, 2018, 1774, 1741, 2316], 1597: [2354, 2823, 2897, 2590, 2663], 1598: [916, 676, 955, 470, 379], 1599: [818, 1429, 956, 2583, 118], 1600: [939, 902, 2502, 2725, 1697], 1601: [2663, 1481, 2823, 91, 1918], 1602: [2056, 2125, 245, 2018, 2228], 1603: [2125, 2056, 2534, 2228, 1186], 1604: [421, 245, 888, 232, 484], 1605: [809, 770, 206, 425, 2860], 1606: [2056, 2057, 2364, 2010, 1918], 1607: [2168, 2639, 1724, 666, 1937], 1608: [2056, 1724, 1741, 1774, 2316], 1609: [1774, 274, 433, 2534, 1205], 1610: [44, 810, 473, 1186, 470], 1611: [44, 473, 2125, 2198, 232], 1612: [91, 470, 1481, 379, 2793], 1613: [44, 281, 703, 2198, 1718], 1614: [991, 243, 379, 561, 2823], 1615: [2897, 2590, 2907, 2936, 2469], 1616: [91, 1481, 2663, 274, 908], 1617: [2056, 2364, 2823, 2125, 1918], 1618: [421, 872, 245, 884, 484], 1619: [884, 675, 872, 665, 912], 1620: [44, 1186, 810, 484, 232], 1621: [2793, 2897, 2663, 2613, 2534], 1622: [421, 1481, 91, 874, 908], 1623: [435, 889, 676, 1918, 906], 1624: [2192, 936, 2663, 2193, 2191], 1625: [2228, 2125, 2663, 666, 2198], 1626: [2897, 2354, 1233, 2907, 2590], 1627: [91, 2125, 470, 379, 2793], 1628: [196, 1718, 1918, 245, 790], 1629: [91, 470, 379, 2663, 1918], 1630: [1918, 470, 1278, 1214, 1155], 1631: [958, 899, 2725, 1774, 663], 1632: [894, 890, 881, 877, 1428], 1633: [2125, 91, 2079, 922, 379], 1634: [0, 274, 29, 2316, 926], 1635: [942, 675, 1574, 935, 913], 1636: [2125, 2198, 2228, 2168, 1724], 1637: [379, 470, 1151, 1918, 91], 1638: [2897, 2590, 2125, 2907, 630], 1639: [1456, 1016, 1233, 2603, 91], 1640: [2125, 91, 2663, 379, 470], 1641: [470, 1481, 91, 1918, 473], 1642: [630, 958, 1421, 1016, 872], 1643: [889, 891, 1016, 657, 906], 1644: [2056, 1774, 2125, 421, 245], 1645: [2175, 2005, 1919, 875, 931], 1646: [2897, 2793, 2590, 2663, 2936], 1647: [703, 254, 281, 2342, 2256], 1648: [1186, 915, 899, 44, 902], 1649: [630, 872, 473, 484, 665], 1650: [2316, 0, 421, 1741, 2055], 1651: [886, 1481, 874, 91, 878], 1652: [91, 379, 470, 922, 2079], 1653: [2125, 2663, 2228, 2354, 2590], 1654: [2125, 630, 872, 484, 232], 1655: [91, 2125, 2079, 1110, 2663], 1656: [2663, 2793, 2823, 2613, 2534], 1657: [2316, 0, 475, 469, 281], 1658: [877, 435, 874, 883, 1918], 1659: [91, 379, 470, 2793, 1151], 1660: [2125, 421, 245, 484, 232], 1661: [421, 245, 1481, 484, 232], 1662: [2125, 91, 1481, 245, 473], 1663: [91, 421, 245, 1481, 2125], 1664: [2125, 274, 1774, 91, 1481], 1665: [435, 878, 889, 676, 874], 1666: [1481, 91, 630, 5, 274], 1667: [2278, 2719, 2188, 1481, 923], 1668: [245, 421, 473, 484, 665], 1669: [2125, 1774, 2228, 1937, 1773], 1670: [245, 421, 1255, 473, 118], 1671: [799, 916, 868, 903, 678], 1672: [1481, 630, 876, 874, 886], 1673: [991, 874, 1918, 931, 2364], 1674: [1774, 29, 0, 2316, 2125], 1675: [1686, 889, 1947, 486, 1594], 1676: [2316, 2055, 1741, 1772, 0], 1677: [2663, 2056, 2534, 1741, 2316], 1678: [2663, 2823, 2792, 2534, 2793], 1679: [2009, 2125, 2056, 181, 2000], 1680: [426, 983, 2244, 1445, 985], 1681: [876, 874, 906, 878, 435], 1682: [630, 876, 1016, 872, 889], 1683: [922, 2175, 960, 1435, 1738], 1684: [2792, 421, 2897, 2316, 245], 1685: [2079, 1705, 895, 1424, 922], 1686: [2125, 91, 2663, 2590, 379], 1687: [2079, 2725, 2590, 801, 2876], 1688: [2056, 2228, 2316, 2364, 1774], 1689: [1918, 876, 874, 886, 875], 1690: [2056, 2228, 2534, 1774, 2316], 1691: [876, 875, 874, 630, 906], 1692: [884, 675, 898, 92, 915], 1693: [666, 657, 2316, 915, 2555], 1694: [875, 876, 630, 665, 2228], 1695: [1918, 2364, 2316, 878, 874], 1696: [91, 1179, 1422, 2421, 1614], 1697: [281, 475, 0, 118, 469], 1698: [129, 843, 1060, 910, 2170], 1699: [944, 2555, 661, 913, 928], 1700: [2897, 2590, 2793, 2663, 2936], 1701: [1724, 2534, 2343, 1255, 245], 1702: [2056, 1481, 245, 1918, 91], 1703: [470, 91, 1918, 379, 1481], 1704: [874, 886, 876, 630, 875], 1705: [2125, 91, 379, 1481, 470], 1706: [2590, 899, 947, 2079, 2792], 1707: [421, 245, 2125, 484, 232], 1708: [2125, 2056, 2228, 1774, 2198], 1709: [2725, 939, 2079, 1697, 0], 1710: [2125, 2228, 2663, 2198, 181], 1711: [2125, 2228, 2354, 2590, 2897], 1712: [1429, 2663, 811, 911, 956], 1713: [2793, 2663, 2897, 922, 2079], 1714: [875, 2175, 2364, 953, 181], 1715: [2897, 2793, 2663, 2936, 2792], 1716: [2316, 2056, 0, 1741, 2342], 1717: [676, 883, 435, 877, 661], 1718: [44, 484, 232, 1186, 810], 1719: [2125, 2009, 2228, 181, 2000], 1720: [2125, 91, 2793, 2897, 922], 1721: [0, 2316, 1393, 926, 469], 1722: [889, 1686, 718, 1456, 1987], 1723: [676, 916, 435, 955, 906], 1724: [274, 421, 91, 1481, 245], 1725: [874, 886, 876, 1918, 1481], 1726: [876, 936, 949, 771, 2192], 1727: [958, 892, 2307, 1459, 20], 1728: [2316, 0, 475, 281, 469], 1729: [2897, 2590, 2907, 2936, 2792], 1730: [2125, 91, 379, 470, 922], 1731: [2897, 2590, 2907, 661, 2354], 1732: [2125, 91, 2663, 1481, 2793], 1733: [129, 2234, 921, 913, 2937], 1734: [421, 245, 872, 884, 895], 1735: [181, 2009, 1110, 1393, 1864], 1736: [876, 908, 949, 875, 911], 1737: [1387, 1353, 1594, 1080, 243], 1738: [2125, 2228, 2056, 2198, 2663], 1739: [1774, 421, 2534, 2663, 2125], 1740: [661, 2125, 665, 915, 630], 1741: [881, 894, 890, 665, 916], 1742: [889, 906, 878, 1918, 470], 1743: [661, 922, 2663, 2590, 91], 1744: [245, 2087, 421, 872, 902], 1745: [2056, 2125, 2663, 1774, 1724], 1746: [935, 1575, 1980, 877, 443], 1747: [2125, 2079, 922, 91, 661], 1748: [666, 923, 943, 881, 944], 1749: [2736, 913, 129, 877, 843], 1750: [2897, 2590, 2793, 2663, 2907], 1751: [91, 2125, 379, 470, 1151], 1752: [893, 91, 232, 810, 1918], 1753: [876, 630, 1384, 874, 1918], 1754: [2125, 232, 91, 1233, 888], 1755: [770, 665, 673, 2125, 672], 1756: [2316, 2056, 1741, 1774, 2018], 1757: [1186, 44, 435, 1278, 1025], 1758: [196, 888, 816, 1687, 585], 1759: [1151, 1918, 470, 874, 886], 1760: [274, 433, 477, 275, 1774], 1761: [1476, 991, 916, 1005, 955], 1762: [470, 91, 1918, 379, 1481], 1763: [931, 2079, 875, 922, 1918], 1764: [876, 1947, 1388, 1594, 1674], 1765: [2663, 91, 2125, 1481, 1741], 1766: [91, 379, 470, 922, 2079], 1767: [2792, 2590, 2897, 1481, 1186], 1768: [895, 872, 1738, 954, 2498], 1769: [2228, 2125, 2056, 1937, 2198], 1770: [2175, 2079, 922, 2648, 2389], 1771: [435, 906, 874, 878, 889], 1772: [2125, 2056, 2228, 2018, 1774], 1773: [421, 245, 2125, 232, 484], 1774: [91, 470, 379, 2125, 1151], 1775: [630, 888, 232, 885, 1481], 1776: [1456, 872, 921, 1016, 2583], 1777: [435, 874, 876, 906, 889], 1778: [2009, 2005, 2613, 1919, 2793], 1779: [2125, 181, 2009, 2228, 2000], 1780: [703, 946, 902, 118, 2502], 1781: [421, 1456, 921, 1481, 889], 1782: [2125, 2228, 2056, 1937, 1774], 1783: [2897, 2590, 2907, 2936, 2469], 1784: [245, 1918, 473, 1481, 421], 1785: [2793, 2663, 2897, 2590, 2700], 1786: [2125, 91, 2590, 2663, 2897], 1787: [2125, 2228, 2056, 181, 473], 1788: [2125, 484, 872, 473, 630], 1789: [2125, 2228, 2198, 2663, 2354], 1790: [931, 435, 2648, 906, 1918], 1791: [630, 675, 872, 92, 884], 1792: [2125, 1774, 274, 2534, 2056], 1793: [91, 1481, 245, 2663, 421], 1794: [771, 1614, 949, 821, 908], 1795: [274, 1481, 91, 1918, 874], 1796: [899, 909, 937, 2607, 958], 1797: [665, 2555, 666, 675, 944], 1798: [661, 2125, 2590, 2079, 630], 1799: [232, 484, 2125, 245, 421], 1800: [1481, 91, 630, 876, 874], 1801: [2125, 91, 379, 922, 470], 1802: [891, 661, 421, 473, 245], 1803: [91, 379, 1481, 2125, 1151], 1804: [2056, 874, 886, 876, 245], 1805: [44, 232, 484, 2125, 888], 1806: [118, 2316, 1297, 274, 2056], 1807: [1481, 91, 1918, 470, 876], 1808: [2792, 2316, 2793, 2823, 2663], 1809: [2009, 2056, 2000, 1724, 2198], 1810: [657, 1186, 915, 928, 44], 1811: [2125, 2228, 2056, 1774, 2198], 1812: [1476, 1004, 1005, 2897, 2588], 1813: [2125, 2663, 2534, 2590, 1774], 1814: [470, 1918, 379, 1151, 2173], 1815: [2125, 379, 91, 470, 1918], 1816: [1016, 876, 91, 921, 889], 1817: [470, 1918, 1481, 379, 874], 1818: [2316, 0, 876, 1481, 875], 1819: [889, 874, 470, 630, 886], 1820: [473, 939, 245, 1456, 921], 1821: [665, 2555, 675, 666, 657], 1822: [2125, 922, 2079, 484, 875], 1823: [1774, 421, 274, 16, 1481], 1824: [91, 2793, 2663, 1481, 421], 1825: [118, 1255, 245, 421, 1863], 1826: [435, 470, 1918, 878, 676], 1827: [2125, 2897, 484, 473, 245], 1828: [2125, 181, 2198, 2228, 232], 1829: [44, 484, 232, 473, 1186], 1830: [876, 906, 874, 1918, 771], 1831: [2125, 2198, 2056, 2228, 181], 1832: [31, 16, 2168, 776, 2125], 1833: [2125, 91, 232, 245, 484], 1834: [2316, 0, 1741, 2056, 1016], 1835: [921, 790, 447, 2603, 893], 1836: [1687, 1060, 100, 1512, 947], 1837: [921, 1651, 1686, 421, 2136], 1838: [2897, 2793, 2613, 2590, 2936], 1839: [91, 379, 2125, 470, 2663], 1840: [91, 470, 1481, 435, 878], 1841: [245, 2125, 232, 2342, 421], 1842: [2897, 2354, 1718, 2907, 196], 1843: [630, 2897, 2590, 661, 872], 1844: [2897, 2590, 44, 1186, 2534], 1845: [1687, 451, 585, 1362, 196], 1846: [421, 245, 44, 1481, 875], 1847: [2125, 484, 232, 888, 245], 1848: [2125, 2079, 91, 2354, 2590], 1849: [470, 91, 379, 1918, 1151], 1850: [475, 470, 469, 0, 1918], 1851: [2125, 2663, 2354, 2823, 2198], 1852: [889, 470, 878, 906, 1918], 1853: [926, 0, 2316, 2079, 1393], 1854: [2056, 1774, 1741, 2228, 421], 1855: [91, 1481, 2125, 379, 470], 1856: [676, 435, 916, 955, 1278], 1857: [0, 2316, 475, 469, 281], 1858: [91, 475, 281, 469, 0], 1859: [421, 665, 245, 435, 1186], 1860: [1481, 421, 1918, 91, 470], 1861: [902, 958, 872, 2502, 630], 1862: [2125, 1774, 2228, 1937, 1724], 1863: [675, 630, 915, 899, 665], 1864: [2897, 2590, 2907, 2936, 2700], 1865: [1774, 2534, 2228, 1937, 2168], 1866: [2079, 2056, 931, 2125, 2018], 1867: [421, 1186, 484, 245, 1481], 1868: [665, 630, 881, 719, 666], 1869: [872, 2125, 630, 912, 884], 1870: [274, 1151, 295, 1179, 358], 1871: [958, 939, 0, 892, 2316], 1872: [44, 1186, 484, 473, 232], 1873: [2056, 1179, 358, 274, 2342], 1874: [630, 484, 872, 44, 473], 1875: [1774, 666, 2364, 719, 931], 1876: [2125, 886, 2000, 1481, 2009], 1877: [2897, 2590, 2793, 2663, 2907], 1878: [1918, 470, 379, 1481, 91], 1879: [358, 1179, 44, 245, 1918], 1880: [2853, 2611, 2188, 2725, 933], 1881: [274, 433, 1297, 1393, 477], 1882: [630, 676, 889, 915, 876], 1883: [16, 868, 960, 652, 275], 1884: [944, 2555, 928, 887, 915], 1885: [91, 2125, 2079, 379, 470], 1886: [91, 1481, 379, 470, 2793], 1887: [2056, 891, 630, 1179, 1016], 1888: [991, 1005, 250, 1002, 874], 1889: [911, 2499, 1614, 811, 1718], 1890: [630, 421, 881, 665, 1481], 1891: [421, 2125, 1481, 872, 245], 1892: [630, 92, 872, 915, 899], 1893: [2897, 2590, 2907, 2792, 2936], 1894: [421, 91, 1481, 245, 471], 1895: [630, 876, 874, 875, 1481], 1896: [675, 657, 665, 884, 915], 1897: [909, 817, 2209, 899, 1646], 1898: [1774, 2316, 2125, 421, 2792], 1899: [702, 658, 2461, 2577, 663], 1900: [2056, 1774, 1741, 1724, 666], 1901: [358, 630, 876, 470, 1179], 1902: [1918, 470, 1147, 561, 44], 1903: [630, 876, 473, 958, 672], 1904: [91, 1918, 874, 1481, 886], 1905: [665, 657, 675, 915, 928], 1906: [91, 2125, 379, 2079, 922], 1907: [665, 675, 630, 657, 676], 1908: [421, 245, 2342, 1863, 1255], 1909: [484, 232, 2125, 44, 888], 1910: [2897, 2793, 2663, 2936, 2792], 1911: [872, 245, 884, 675, 473], 1912: [891, 887, 1610, 657, 666], 1913: [435, 874, 889, 1918, 818], 1914: [2125, 1774, 2228, 1937, 421], 1915: [2125, 91, 2079, 379, 922], 1916: [1413, 898, 2776, 1420, 909], 1917: [91, 1481, 470, 1918, 2663], 1918: [2316, 1774, 2056, 0, 1741], 1919: [1031, 1481, 421, 2603, 1445], 1920: [946, 1912, 770, 2188, 91], 1921: [876, 874, 886, 1918, 949], 1922: [0, 2364, 2056, 275, 1186], 1923: [2793, 379, 470, 2897, 2663], 1924: [1774, 433, 16, 275, 274], 1925: [1186, 915, 435, 810, 44], 1926: [818, 895, 2583, 884, 951], 1927: [2079, 922, 661, 2125, 470], 1928: [2056, 44, 358, 245, 2316], 1929: [2125, 2228, 181, 2198, 1937], 1930: [2125, 2079, 875, 872, 2087], 1931: [921, 1445, 1456, 1453, 891], 1932: [484, 232, 44, 888, 245], 1933: [2125, 91, 2590, 2663, 2793], 1934: [2228, 2125, 2009, 181, 2000], 1935: [2897, 2793, 2613, 2792, 2936], 1936: [91, 2125, 2590, 922, 2079], 1937: [875, 960, 665, 1023, 1186], 1938: [876, 2316, 949, 771, 1918], 1939: [676, 435, 665, 1186, 915], 1940: [1481, 421, 91, 274, 908], 1941: [1912, 2729, 667, 694, 2723], 1942: [2125, 91, 2590, 2897, 2354], 1943: [913, 1060, 810, 790, 947], 1944: [2125, 2663, 2228, 2056, 2534], 1945: [1918, 470, 358, 876, 630], 1946: [2125, 630, 872, 2228, 232], 1947: [630, 876, 872, 874, 1016], 1948: [91, 876, 470, 1918, 1481], 1949: [421, 245, 1481, 874, 473], 1950: [1918, 470, 878, 889, 874], 1951: [2125, 1774, 2792, 2897, 2590], 1952: [2590, 2125, 2897, 899, 2907], 1953: [2125, 91, 2793, 2663, 379], 1954: [484, 245, 473, 44, 2125], 1955: [2228, 2009, 2000, 181, 2198], 1956: [2316, 0, 2792, 1741, 2055], 1957: [44, 484, 473, 872, 630], 1958: [2613, 2860, 2634, 477, 2827], 1959: [2125, 922, 872, 91, 1481], 1960: [922, 2087, 960, 2079, 2175], 1961: [630, 876, 1016, 874, 1481], 1962: [477, 274, 433, 1297, 1718], 1963: [1255, 31, 118, 245, 932], 1964: [874, 2590, 875, 2897, 886], 1965: [421, 1774, 2125, 245, 1481], 1966: [630, 891, 1016, 484, 915], 1967: [2125, 2228, 1774, 1724, 1937], 1968: [473, 245, 993, 2056, 484], 1969: [245, 1589, 281, 1464, 1434], 1970: [661, 915, 2555, 913, 944], 1971: [421, 245, 2316, 1774, 1481], 1972: [421, 1481, 872, 245, 665], 1973: [2125, 2590, 2897, 2079, 922], 1974: [2792, 2590, 2897, 799, 2907], 1975: [2316, 1774, 0, 29, 1741], 1976: [2316, 0, 2342, 245, 421], 1977: [666, 1186, 944, 915, 2555], 1978: [2793, 2663, 2823, 931, 2613], 1979: [2897, 2793, 2590, 2613, 2663], 1980: [2204, 2469, 1424, 836, 817], 1981: [2125, 661, 91, 2079, 379], 1982: [2125, 2663, 2056, 2198, 2342], 1983: [2192, 2125, 2193, 958, 2191], 1984: [630, 876, 872, 2125, 875], 1985: [1918, 906, 470, 874, 878], 1986: [1186, 661, 44, 915, 484], 1987: [0, 358, 470, 281, 1918], 1988: [770, 678, 2168, 653, 1415], 1989: [2125, 91, 922, 2079, 379], 1990: [421, 245, 1481, 872, 1255], 1991: [2125, 484, 473, 232, 44], 1992: [2125, 1774, 274, 1393, 2316], 1993: [875, 876, 874, 886, 2228], 1994: [245, 421, 484, 473, 232], 1995: [2079, 379, 2316, 1151, 931], 1996: [876, 1481, 91, 630, 874], 1997: [2316, 1773, 2228, 1937, 0], 1998: [653, 663, 1774, 652, 1415], 1999: [889, 891, 1016, 1456, 921], 2000: [1481, 245, 421, 2316, 91], 2001: [2125, 2228, 2056, 2168, 2198], 2002: [944, 661, 930, 2555, 666], 2003: [1380, 475, 281, 760, 1539], 2004: [676, 916, 991, 1155, 435], 2005: [2125, 2198, 2228, 2009, 181], 2006: [474, 760, 475, 942, 1539], 2007: [874, 630, 876, 872, 886], 2008: [630, 899, 484, 44, 92], 2009: [2125, 484, 473, 232, 44], 2010: [232, 44, 810, 888, 1186], 2011: [2316, 0, 926, 960, 292], 2012: [2526, 936, 1574, 1575, 1613], 2013: [676, 916, 435, 2583, 955], 2014: [874, 875, 886, 922, 876], 2015: [254, 2255, 2876, 87, 2725], 2016: [1151, 379, 1179, 2192, 358], 2017: [358, 561, 1179, 267, 292], 2018: [884, 675, 2298, 880, 703], 2019: [2125, 2228, 1774, 1724, 2663], 2020: [958, 630, 1016, 1393, 2191], 2021: [379, 561, 1947, 1594, 358], 2022: [1918, 470, 358, 1481, 874], 2023: [876, 874, 2316, 2823, 630], 2024: [2079, 2175, 2725, 801, 1393], 2025: [1481, 91, 473, 421, 470], 2026: [916, 676, 435, 666, 944], 2027: [245, 421, 473, 1481, 2056], 2028: [91, 2125, 922, 470, 379], 2029: [1773, 2316, 181, 443, 1110], 2030: [666, 2555, 653, 942, 917], 2031: [2125, 2228, 2354, 1937, 2590], 2032: [1918, 470, 379, 2173, 561], 2033: [2897, 2590, 2663, 2534, 2792], 2034: [899, 909, 958, 903, 630], 2035: [0, 939, 469, 2079, 2125], 2036: [1774, 2228, 926, 1205, 275], 2037: [2897, 2793, 2663, 2590, 421], 2038: [719, 944, 661, 663, 930], 2039: [872, 630, 245, 884, 473], 2040: [2056, 2125, 2228, 1774, 2534], 2041: [653, 770, 667, 1415, 657], 2042: [874, 876, 886, 931, 889], 2043: [2009, 2663, 2056, 2000, 2534], 2044: [875, 960, 876, 0, 1774], 2045: [2316, 0, 281, 1380, 1741], 2046: [2079, 2125, 922, 484, 245], 2047: [2897, 1718, 2907, 245, 1241], 2048: [91, 2125, 470, 379, 1151], 2049: [630, 665, 675, 915, 912], 2050: [2534, 2125, 2663, 2056, 2354], 2051: [91, 1481, 5, 232, 484], 2052: [2125, 2009, 2000, 181, 2198], 2053: [630, 1481, 874, 421, 876], 2054: [2079, 875, 2175, 931, 1918], 2055: [1016, 889, 891, 421, 1481], 2056: [889, 470, 1918, 435, 878], 2057: [2056, 2534, 2125, 1774, 2316], 2058: [2125, 2663, 2534, 2056, 2354], 2059: [421, 914, 1481, 908, 881], 2060: [1393, 1297, 245, 2342, 2056], 2061: [2125, 91, 922, 2079, 2590], 2062: [1481, 888, 630, 232, 811], 2063: [2937, 2535, 2290, 2633, 1464], 2064: [915, 676, 657, 675, 630], 2065: [245, 473, 421, 2056, 484], 2066: [91, 1481, 379, 1151, 2125], 2067: [666, 944, 930, 2018, 435], 2068: [2316, 0, 358, 876, 1179], 2069: [661, 665, 944, 470, 2555], 2070: [2125, 484, 1186, 44, 245], 2071: [2792, 2897, 475, 44, 281], 2072: [666, 665, 657, 682, 673], 2073: [475, 770, 474, 281, 653], 2074: [91, 2125, 1481, 470, 379], 2075: [2125, 2228, 2198, 181, 1937], 2076: [2228, 2354, 2897, 2590, 1937], 2077: [1718, 630, 44, 245, 2342], 2078: [274, 1774, 245, 421, 926], 2079: [1918, 2056, 470, 906, 2173], 2080: [630, 872, 665, 421, 484], 2081: [2897, 2663, 2793, 2590, 2613], 2082: [1481, 2125, 2663, 91, 274], 2083: [1481, 2125, 874, 473, 1918], 2084: [245, 421, 1255, 872, 232], 2085: [2009, 87, 1110, 1393, 1864], 2086: [2056, 2018, 2000, 666, 2009], 2087: [91, 2125, 2590, 2079, 2793], 2088: [916, 955, 1985, 757, 676], 2089: [666, 2056, 1186, 915, 665], 2090: [2175, 1459, 875, 949, 1783], 2091: [886, 1741, 949, 876, 763], 2092: [923, 881, 917, 2378, 943], 2093: [91, 2663, 2125, 470, 2793], 2094: [435, 630, 874, 889, 906], 2095: [2663, 2534, 2125, 2793, 2613], 2096: [875, 876, 874, 2018, 1918], 2097: [2125, 91, 1481, 1918, 232], 2098: [473, 1918, 470, 44, 2056], 2099: [2125, 91, 2793, 2663, 2590], 2100: [475, 469, 281, 0, 1380], 2101: [889, 1456, 1987, 1686, 891], 2102: [421, 872, 630, 924, 954], 2103: [2663, 2823, 2792, 2534, 2613], 2104: [2125, 872, 245, 473, 484], 2105: [44, 810, 232, 1186, 790], 2106: [872, 2168, 2897, 2469, 2937], 2107: [2125, 91, 922, 232, 2354], 2108: [0, 2316, 2056, 473, 44], 2109: [891, 657, 675, 656, 1456], 2110: [875, 1151, 876, 922, 939], 2111: [630, 872, 899, 876, 665], 2112: [118, 274, 0, 245, 421], 2113: [2125, 91, 2079, 379, 922], 2114: [876, 1918, 470, 358, 91], 2115: [0, 274, 1393, 926, 1297], 2116: [2911, 2613, 2634, 2534, 2456], 2117: [2125, 1774, 2056, 2228, 2663], 2118: [2125, 484, 2228, 947, 1023], 2119: [872, 630, 245, 473, 421], 2120: [1918, 1151, 470, 379, 1110], 2121: [944, 661, 2555, 930, 666], 2122: [245, 421, 872, 630, 1481], 2123: [433, 477, 1994, 259, 1798], 2124: [1705, 2079, 1233, 1456, 939], 2125: [470, 91, 1918, 2663, 379], 2126: [889, 878, 470, 435, 906], 2127: [274, 1297, 1393, 477, 433], 2128: [2125, 91, 379, 2079, 470], 2129: [2663, 2823, 2793, 2290, 2534], 2130: [91, 379, 2079, 470, 2793], 2131: [2125, 91, 1481, 379, 1456], 2132: [889, 676, 435, 878, 906], 2133: [2793, 2663, 91, 379, 2650], 2134: [2316, 1393, 2018, 0, 926], 2135: [421, 1774, 2316, 245, 0], 2136: [0, 2316, 274, 29, 1297], 2137: [1155, 1918, 2823, 991, 379], 2138: [1918, 470, 379, 1151, 243], 2139: [2125, 872, 91, 473, 274], 2140: [630, 876, 889, 906, 899], 2141: [2125, 2079, 91, 2590, 922], 2142: [473, 2056, 245, 358, 2342], 2143: [91, 2125, 1918, 470, 1481], 2144: [921, 1456, 2603, 421, 1445], 2145: [2316, 0, 1918, 469, 2364], 2146: [91, 876, 630, 771, 1016], 2147: [475, 281, 0, 44, 2316], 2148: [1151, 875, 469, 1918, 443], 2149: [2079, 2125, 91, 379, 470], 2150: [1016, 921, 876, 891, 1456], 2151: [91, 2079, 470, 661, 379], 2152: [2793, 1016, 2663, 2897, 876], 2153: [1110, 675, 2228, 2255, 2272], 2154: [421, 872, 245, 630, 665], 2155: [1445, 1456, 921, 891, 1031], 2156: [91, 874, 883, 886, 443], 2157: [672, 473, 245, 891, 872], 2158: [245, 473, 1481, 421, 91], 2159: [665, 661, 666, 944, 2555], 2160: [2897, 2590, 2125, 2792, 2907], 2161: [421, 16, 484, 245, 815], 2162: [0, 274, 2087, 875, 931], 2163: [561, 2125, 358, 267, 295], 2164: [1016, 1456, 921, 1445, 876], 2165: [1016, 771, 358, 1481, 1179], 2166: [876, 1918, 561, 949, 931], 2167: [955, 916, 676, 1278, 1214], 2168: [2897, 1773, 1060, 2907, 1937], 2169: [0, 2316, 274, 926, 1481], 2170: [2175, 1738, 2087, 2626, 922], 2171: [630, 872, 665, 484, 92], 2172: [2198, 2228, 630, 232, 2125], 2173: [954, 900, 876, 895, 818], 2174: [2125, 421, 1255, 1774, 245], 2175: [875, 1918, 876, 874, 1481], 2176: [630, 872, 92, 675, 883], 2177: [2316, 0, 2792, 475, 672], 2178: [421, 1481, 1255, 91, 245], 2179: [245, 473, 1255, 993, 2056], 2180: [936, 1613, 2256, 876, 2193], 2181: [2316, 1972, 1987, 939, 1610], 2182: [2897, 2793, 2663, 2613, 2534], 2183: [1774, 2056, 1741, 666, 2228], 2184: [2228, 2056, 1937, 1774, 2198], 2185: [899, 919, 663, 652, 944], 2186: [876, 949, 771, 936, 472], 2187: [2125, 91, 470, 1918, 1481], 2188: [630, 874, 886, 1864, 665], 2189: [2056, 1741, 2018, 2316, 2125], 2190: [2056, 245, 473, 421, 1774], 2191: [1481, 1918, 91, 874, 2316], 2192: [876, 874, 886, 875, 949], 2193: [2663, 2534, 2823, 2316, 2793], 2194: [91, 874, 886, 470, 878], 2195: [991, 876, 243, 874, 1002], 2196: [2125, 2228, 2198, 2663, 2056], 2197: [2663, 2792, 2897, 770, 91], 2198: [0, 2316, 274, 2175, 469], 2199: [2056, 2228, 2009, 2000, 2198], 2200: [991, 243, 1918, 1151, 379], 2201: [876, 874, 630, 676, 2583], 2202: [1774, 274, 2316, 0, 926], 2203: [1783, 2719, 2125, 2278, 958], 2204: [916, 955, 1987, 1985, 676], 2205: [661, 91, 930, 470, 922], 2206: [91, 1481, 421, 274, 2125], 2207: [91, 2125, 379, 922, 470], 2208: [2897, 2590, 2907, 2228, 44], 2209: [2590, 2897, 875, 876, 630], 2210: [2897, 2792, 421, 2907, 872], 2211: [1421, 958, 2502, 933, 719], 2212: [2125, 2009, 2663, 2000, 181], 2213: [2125, 2590, 91, 2079, 2897], 2214: [1774, 875, 926, 960, 29], 2215: [44, 810, 232, 473, 1186], 2216: [2228, 630, 2125, 2897, 2663], 2217: [2125, 91, 379, 2079, 922], 2218: [91, 2125, 2079, 379, 661], 2219: [421, 245, 1255, 872, 1297], 2220: [2125, 2228, 484, 1774, 421], 2221: [1155, 1918, 1214, 1278, 245], 2222: [433, 1297, 274, 10, 477], 2223: [2316, 0, 931, 2056, 469], 2224: [2316, 435, 889, 878, 0], 2225: [908, 923, 875, 892, 2316], 2226: [2125, 2056, 2228, 1918, 473], 2227: [630, 470, 91, 1918, 889], 2228: [470, 379, 1918, 91, 1151], 2229: [0, 274, 926, 342, 1297], 2230: [1255, 421, 245, 31, 932], 2231: [922, 930, 661, 663, 702], 2232: [91, 470, 2897, 1918, 2663], 2233: [245, 2087, 118, 1429, 1297], 2234: [666, 657, 928, 656, 915], 2235: [1393, 274, 1297, 87, 2009], 2236: [2793, 2792, 2897, 2663, 2316], 2237: [932, 1429, 911, 1430, 2343], 2238: [2125, 31, 484, 776, 2168], 2239: [874, 886, 1918, 876, 470], 2240: [1918, 470, 889, 874, 906], 2241: [657, 653, 661, 666, 2555], 2242: [0, 2316, 421, 29, 245], 2243: [421, 245, 665, 884, 872], 2244: [665, 661, 881, 657, 421], 2245: [2897, 2793, 2613, 2936, 2590], 2246: [630, 876, 874, 872, 1481], 2247: [421, 245, 884, 665, 473], 2248: [2056, 44, 657, 473, 770], 2249: [91, 2125, 470, 379, 2079], 2250: [2125, 2663, 2590, 2354, 2897], 2251: [915, 661, 657, 928, 944], 2252: [274, 2316, 2793, 1481, 2663], 2253: [876, 379, 2079, 931, 922], 2254: [470, 906, 878, 876, 91], 2255: [0, 2316, 469, 1526, 763], 2256: [91, 922, 2079, 1481, 379], 2257: [1774, 2793, 2534, 274, 2663], 2258: [875, 672, 1526, 0, 1525], 2259: [2316, 2056, 421, 1774, 29], 2260: [1481, 1774, 2125, 91, 274], 2261: [2056, 1724, 2125, 2198, 245], 2262: [470, 1918, 379, 1151, 358], 2263: [1918, 470, 91, 2056, 473], 2264: [876, 818, 1429, 1016, 771], 2265: [91, 2663, 630, 876, 886], 2266: [245, 421, 1255, 118, 2342], 2267: [922, 2079, 91, 2087, 470], 2268: [2125, 2228, 1774, 1205, 1297], 2269: [2663, 2125, 2534, 2056, 2793], 2270: [2663, 2823, 1918, 379, 470], 2271: [91, 630, 1481, 914, 923], 2272: [2897, 2590, 2663, 875, 44], 2273: [2056, 886, 2018, 833, 876], 2274: [874, 886, 435, 876, 818], 2275: [2056, 1724, 2228, 2198, 2168], 2276: [44, 888, 232, 421, 245], 2277: [2316, 421, 0, 274, 1774], 2278: [2125, 91, 2663, 1481, 379], 2279: [958, 1421, 2258, 2725, 2502], 2280: [2125, 91, 2354, 1481, 2897], 2281: [666, 2056, 2228, 665, 1774], 2282: [1918, 470, 379, 1151, 358], 2283: [2125, 2228, 1774, 1937, 2056], 2284: [435, 676, 889, 906, 878], 2285: [2125, 2056, 245, 473, 1774], 2286: [2125, 2009, 181, 2000, 2198], 2287: [1481, 908, 421, 811, 914], 2288: [675, 913, 885, 881, 1413], 2289: [672, 630, 473, 665, 2125], 2290: [118, 1297, 274, 1429, 1255], 2291: [876, 874, 886, 875, 949], 2292: [91, 470, 1481, 2125, 630], 2293: [665, 719, 666, 2555, 673], 2294: [665, 876, 719, 895, 884], 2295: [630, 889, 906, 874, 876], 2296: [2125, 91, 1481, 922, 2354], 2297: [676, 421, 914, 435, 665], 2298: [2125, 2663, 2009, 2228, 181], 2299: [1918, 470, 874, 991, 379], 2300: [1481, 421, 91, 274, 630], 2301: [2125, 484, 872, 2354, 2590], 2302: [1151, 379, 1918, 470, 1179], 2303: [872, 421, 118, 245, 2342], 2304: [484, 1111, 1481, 2781, 421], 2305: [1774, 1393, 275, 433, 1297], 2306: [665, 673, 16, 1774, 669], 2307: [1481, 2125, 421, 232, 91], 2308: [2056, 1774, 2018, 2228, 1741], 2309: [421, 665, 673, 245, 16], 2310: [2316, 947, 1023, 875, 0], 2311: [2125, 91, 2354, 2590, 2663], 2312: [435, 878, 874, 906, 886], 2313: [676, 435, 889, 906, 2583], 2314: [2125, 2228, 1724, 1937, 1774], 2315: [676, 630, 435, 889, 2583], 2316: [91, 2793, 2663, 1481, 274], 2317: [2125, 2228, 2663, 2198, 181], 2318: [2125, 630, 872, 1481, 91], 2319: [931, 818, 1918, 874, 876], 2320: [433, 477, 1994, 274, 1798], 2321: [274, 1393, 0, 2009, 2316], 2322: [2056, 1774, 245, 2125, 421], 2323: [2125, 1456, 939, 1016, 921], 2324: [421, 245, 872, 1481, 888], 2325: [2125, 2228, 2198, 2354, 181], 2326: [2663, 2793, 2823, 2897, 2700], 2327: [379, 1918, 470, 91, 1151], 2328: [91, 470, 379, 2079, 2125], 2329: [666, 2555, 944, 682, 1610], 2330: [676, 874, 2583, 889, 435], 2331: [2125, 2228, 484, 1774, 1186], 2332: [884, 665, 872, 675, 421], 2333: [274, 421, 1774, 245, 2125], 2334: [673, 719, 1515, 665, 667], 2335: [676, 435, 915, 916, 889], 2336: [91, 1481, 893, 878, 874], 2337: [470, 1918, 358, 379, 1151], 2338: [676, 630, 874, 889, 665], 2339: [876, 1016, 630, 874, 665], 2340: [665, 719, 630, 912, 673], 2341: [2056, 2125, 1774, 2228, 2316], 2342: [630, 889, 874, 435, 906], 2343: [760, 474, 770, 1539, 764], 2344: [2364, 931, 1918, 2018, 2823], 2345: [630, 872, 2125, 912, 484], 2346: [876, 358, 949, 1179, 1918], 2347: [876, 630, 874, 886, 906], 2348: [676, 2583, 889, 630, 883], 2349: [876, 874, 895, 665, 875], 2350: [245, 2056, 473, 1918, 818], 2351: [2125, 484, 232, 630, 2228], 2352: [1445, 1456, 983, 921, 891], 2353: [473, 2056, 421, 665, 673], 2354: [676, 435, 1918, 889, 906], 2355: [657, 653, 665, 675, 663], 2356: [630, 872, 884, 676, 912], 2357: [2793, 2897, 2613, 2663, 2534], 2358: [2056, 2534, 2663, 1724, 2125], 2359: [666, 2316, 2663, 1741, 2534], 2360: [2125, 630, 872, 958, 2079], 2361: [2079, 2175, 922, 801, 1023], 2362: [2125, 2897, 2354, 2590, 2663], 2363: [91, 470, 379, 2125, 1151], 2364: [653, 1415, 770, 667, 763], 2365: [630, 876, 1016, 958, 906], 2366: [358, 561, 1179, 1739, 267], 2367: [274, 358, 1179, 91, 292], 2368: [31, 2303, 1863, 951, 421], 2369: [1918, 906, 2056, 44, 358], 2370: [1481, 421, 630, 914, 91], 2371: [274, 477, 433, 1263, 2534], 2372: [421, 1774, 2125, 245, 29], 2373: [666, 2555, 928, 944, 1610], 2374: [91, 1481, 875, 876, 421], 2375: [2125, 91, 2079, 379, 2663], 2376: [31, 884, 895, 1718, 1255], 2377: [470, 906, 1918, 876, 630], 2378: [1481, 1151, 484, 2125, 473], 2379: [421, 245, 1481, 473, 1255], 2380: [1297, 2793, 274, 2897, 10], 2381: [2125, 2228, 181, 2198, 2056], 2382: [2125, 91, 2663, 1481, 2354], 2383: [875, 394, 2526, 2175, 669], 2384: [2056, 2316, 0, 245, 473], 2385: [245, 421, 1481, 2125, 872], 2386: [475, 281, 469, 0, 1380], 2387: [245, 421, 888, 232, 484], 2388: [630, 1016, 876, 1481, 958], 2389: [2316, 947, 0, 2228, 2055], 2390: [274, 433, 477, 1994, 1798], 2391: [91, 470, 2125, 630, 379], 2392: [2056, 1774, 1741, 1724, 2316], 2393: [630, 872, 676, 874, 876], 2394: [931, 2056, 875, 2018, 1918], 2395: [473, 91, 2125, 2342, 358], 2396: [2125, 484, 473, 245, 232], 2397: [421, 665, 876, 630, 874], 2398: [421, 245, 1255, 118, 872], 2399: [2125, 91, 379, 2079, 484], 2400: [889, 1016, 921, 906, 876], 2401: [91, 2125, 886, 2663, 1481], 2402: [811, 435, 1481, 878, 954], 2403: [470, 1918, 771, 876, 906], 2404: [232, 888, 630, 2125, 44], 2405: [876, 665, 421, 908, 874], 2406: [245, 473, 2056, 1255, 960], 2407: [657, 2555, 915, 666, 928], 2408: [2056, 473, 44, 2342, 2534], 2409: [922, 2087, 876, 1429, 908], 2410: [872, 884, 895, 245, 118], 2411: [1151, 892, 958, 2725, 875], 2412: [630, 91, 1481, 1016, 958], 2413: [1481, 421, 908, 876, 91], 2414: [469, 281, 475, 0, 1526], 2415: [2897, 2590, 2125, 2663, 2793], 2416: [421, 2793, 2897, 2663, 1481], 2417: [2079, 875, 2087, 922, 2018], 2418: [433, 477, 274, 342, 1994], 2419: [2897, 630, 872, 2009, 2613], 2420: [874, 630, 906, 876, 889], 2421: [676, 889, 435, 906, 630], 2422: [2175, 2087, 1023, 801, 2079], 2423: [665, 673, 433, 16, 477], 2424: [470, 1918, 379, 874, 906], 2425: [91, 1481, 421, 274, 245], 2426: [421, 872, 630, 245, 1481], 2427: [1741, 2228, 2316, 2198, 2056], 2428: [960, 1774, 939, 926, 2316], 2429: [245, 931, 2056, 818, 1429], 2430: [2079, 922, 2175, 931, 875], 2431: [876, 630, 874, 886, 872], 2432: [874, 886, 1918, 470, 906], 2433: [91, 2663, 922, 1481, 875], 2434: [91, 922, 470, 1481, 875], 2435: [876, 949, 771, 874, 91], 2436: [1393, 2079, 2648, 1297, 274], 2437: [1481, 91, 874, 470, 876], 2438: [91, 379, 470, 2663, 1918], 2439: [2125, 91, 274, 1263, 433], 2440: [1741, 2009, 2000, 2056, 181], 2441: [44, 1186, 473, 810, 1193], 2442: [770, 667, 1415, 653, 1912], 2443: [274, 433, 477, 931, 1994], 2444: [0, 2316, 281, 469, 1380], 2445: [936, 949, 876, 771, 9], 2446: [181, 2648, 2663, 2009, 790], 2447: [2175, 2079, 2648, 1223, 2389], 2448: [2056, 245, 421, 2316, 1774], 2449: [91, 2125, 470, 379, 922], 2450: [2125, 245, 473, 484, 232], 2451: [876, 2663, 2793, 2897, 958], 2452: [44, 473, 1186, 2056, 2342], 2453: [1670, 2233, 497, 2366, 2343], 2454: [876, 874, 949, 281, 469], 2455: [889, 878, 435, 874, 906], 2456: [875, 2018, 1651, 1023, 2175], 2457: [939, 2018, 892, 1459, 0], 2458: [931, 2079, 2175, 1918, 2018], 2459: [274, 118, 2342, 245, 421], 2460: [876, 886, 874, 1481, 875], 2461: [2125, 91, 2079, 2590, 245], 2462: [0, 818, 939, 672, 931], 2463: [91, 2663, 876, 922, 874], 2464: [421, 245, 872, 484, 473], 2465: [421, 914, 630, 872, 885], 2466: [435, 883, 676, 470, 877], 2467: [886, 874, 1918, 470, 876], 2468: [874, 274, 1481, 886, 876], 2469: [874, 886, 630, 876, 2663], 2470: [473, 245, 872, 484, 630], 2471: [2125, 91, 922, 661, 379], 2472: [872, 2125, 630, 232, 885], 2473: [91, 2125, 379, 2793, 470], 2474: [2125, 91, 1481, 922, 473], 2475: [1016, 921, 1456, 891, 889], 2476: [872, 2125, 245, 484, 473], 2477: [665, 421, 666, 1774, 673], 2478: [675, 914, 891, 661, 881], 2479: [889, 891, 473, 921, 878], 2480: [2125, 2018, 2663, 666, 2056], 2481: [665, 657, 939, 666, 876], 2482: [2125, 2663, 91, 2793, 2534], 2483: [666, 661, 944, 665, 2555], 2484: [2316, 274, 2793, 1481, 1741], 2485: [245, 421, 1481, 1255, 2342], 2486: [2125, 872, 484, 421, 1687], 2487: [421, 245, 872, 665, 876], 2488: [421, 1481, 245, 274, 665], 2489: [245, 473, 484, 2056, 2342], 2490: [2125, 630, 91, 922, 484], 2491: [91, 470, 379, 1918, 1151], 2492: [875, 876, 665, 895, 421], 2493: [435, 878, 676, 906, 889], 2494: [274, 1774, 421, 926, 1297], 2495: [433, 477, 1994, 274, 1774], 2496: [891, 914, 933, 923, 2378], 2497: [2125, 872, 2502, 661, 274], 2498: [666, 928, 915, 657, 2555], 2499: [2056, 2232, 1724, 2018, 2010], 2500: [91, 1481, 2793, 2663, 379], 2501: [2056, 245, 872, 421, 2018], 2502: [2079, 2125, 118, 245, 922], 2503: [2018, 876, 874, 875, 949], 2504: [44, 1186, 2125, 232, 810], 2505: [91, 1481, 470, 379, 922], 2506: [960, 875, 665, 1651, 16], 2507: [843, 890, 894, 2736, 869], 2508: [2663, 2534, 2316, 2793, 1741], 2509: [1481, 91, 876, 874, 630], 2510: [874, 876, 889, 906, 886], 2511: [876, 906, 771, 874, 818], 2512: [421, 245, 884, 872, 665], 2513: [2079, 2125, 947, 922, 1023], 2514: [666, 657, 928, 656, 887], 2515: [676, 2583, 1155, 916, 435], 2516: [2125, 1774, 274, 421, 245], 2517: [245, 2125, 91, 2342, 1481], 2518: [876, 91, 874, 886, 1481], 2519: [1918, 818, 874, 886, 470], 2520: [630, 661, 915, 665, 1186], 2521: [91, 886, 874, 1481, 470], 2522: [876, 949, 874, 771, 630], 2523: [484, 232, 630, 473, 44], 2524: [657, 665, 931, 666, 661], 2525: [931, 2087, 960, 801, 2500], 2526: [676, 916, 666, 657, 665], 2527: [1481, 91, 874, 630, 470], 2528: [44, 1186, 232, 484, 810], 2529: [763, 1589, 1523, 1525, 672], 2530: [2125, 2228, 2198, 2056, 181], 2531: [1774, 665, 16, 673, 652], 2532: [245, 473, 872, 421, 1255], 2533: [433, 274, 477, 1798, 1994], 2534: [2125, 899, 2228, 484, 663], 2535: [2125, 245, 872, 421, 484], 2536: [433, 274, 477, 1994, 1297], 2537: [661, 274, 665, 937, 2725], 2538: [91, 876, 1481, 358, 1179], 2539: [889, 906, 876, 874, 878], 2540: [421, 245, 1255, 274, 473], 2541: [433, 477, 1294, 259, 1145], 2542: [91, 379, 470, 2125, 1151], 2543: [245, 421, 473, 872, 665], 2544: [2461, 944, 860, 2555, 2577], 2545: [876, 421, 874, 1481, 908], 2546: [665, 675, 657, 661, 884], 2547: [665, 661, 675, 484, 2125], 2548: [2056, 2125, 2663, 2198, 1724], 2549: [91, 379, 1151, 358, 470], 2550: [630, 665, 421, 881, 719], 2551: [2228, 181, 2198, 2125, 2056], 2552: [876, 875, 949, 874, 886], 2553: [358, 470, 1179, 771, 1918], 2554: [2125, 421, 245, 2663, 1774], 2555: [657, 630, 665, 891, 675], 2556: [245, 484, 2125, 232, 473], 2557: [484, 232, 44, 1186, 2125], 2558: [874, 886, 1918, 876, 470], 2559: [2056, 1918, 886, 473, 358], 2560: [421, 1255, 245, 91, 118], 2561: [872, 421, 2125, 245, 2228], 2562: [1918, 44, 470, 473, 435], 2563: [245, 91, 232, 1481, 2125], 2564: [2056, 1774, 0, 274, 926], 2565: [118, 245, 274, 1429, 421], 2566: [1918, 1179, 379, 358, 470], 2567: [1186, 630, 44, 232, 435], 2568: [2056, 2125, 2228, 1774, 2018], 2569: [2125, 91, 661, 2079, 922], 2570: [245, 421, 473, 484, 1255], 2571: [2316, 874, 0, 818, 876], 2572: [421, 473, 245, 484, 232], 2573: [1481, 91, 876, 630, 886], 2574: [876, 0, 958, 874, 630], 2575: [2056, 2125, 2057, 2663, 833], 2576: [1918, 874, 878, 876, 906], 2577: [2663, 2125, 2534, 2793, 2613], 2578: [44, 1186, 473, 810, 657], 2579: [665, 915, 675, 630, 484], 2580: [926, 0, 29, 902, 2087], 2581: [657, 656, 665, 891, 884], 2582: [2125, 1481, 421, 484, 29], 2583: [1016, 889, 1456, 1422, 939], 2584: [421, 245, 872, 1255, 1481], 2585: [421, 245, 872, 473, 884], 2586: [484, 2125, 872, 899, 630], 2587: [91, 1481, 379, 470, 1179], 2588: [274, 433, 477, 1297, 2125], 2589: [245, 872, 421, 921, 2228], 2590: [1588, 1827, 379, 1456, 922], 2591: [1481, 421, 874, 630, 876], 2592: [2793, 946, 933, 274, 2342], 2593: [421, 665, 630, 1481, 881], 2594: [1918, 470, 379, 1481, 358], 2595: [1918, 274, 470, 1481, 1151], 2596: [433, 274, 477, 10, 1263], 2597: [665, 1774, 16, 875, 673], 2598: [876, 630, 874, 886, 906], 2599: [470, 889, 878, 906, 1918], 2600: [91, 1481, 421, 2793, 1255], 2601: [91, 1481, 470, 2125, 379], 2602: [421, 872, 245, 884, 895], 2603: [421, 1481, 245, 91, 274], 2604: [2125, 2228, 872, 245, 2056], 2605: [889, 630, 676, 435, 883], 2606: [2125, 899, 902, 939, 958], 2607: [421, 245, 665, 473, 884], 2608: [484, 872, 888, 245, 899], 2609: [44, 1186, 473, 484, 993], 2610: [91, 379, 2125, 2079, 470], 2611: [811, 893, 874, 470, 1429], 2612: [484, 2125, 232, 2228, 1186], 2613: [1774, 2316, 29, 0, 926], 2614: [421, 1481, 914, 91, 274], 2615: [2125, 245, 421, 473, 1481], 2616: [421, 245, 2125, 872, 1481], 2617: [245, 473, 421, 1255, 993], 2618: [91, 470, 379, 2793, 1151], 2619: [630, 1481, 958, 421, 872], 2620: [876, 1918, 1481, 470, 91], 2621: [1481, 421, 874, 886, 91], 2622: [16, 274, 275, 864, 1774], 2623: [274, 433, 477, 1994, 1798], 2624: [875, 421, 719, 665, 876], 2625: [1481, 1016, 91, 421, 1456], 2626: [2056, 1774, 2534, 245, 2228], 2627: [810, 44, 2736, 947, 129], 2628: [2125, 872, 895, 2168, 630], 2629: [1179, 358, 91, 1670, 473], 2630: [2056, 2228, 1724, 2198, 2009], 2631: [663, 899, 939, 652, 903], 2632: [44, 1186, 484, 810, 473], 2633: [2056, 2316, 1741, 2018, 1774], 2634: [29, 1687, 2792, 2590, 926], 2635: [2125, 91, 2079, 379, 922], 2636: [2125, 2228, 1774, 2056, 245], 2637: [2056, 2316, 1774, 2018, 1741], 2638: [1459, 771, 1614, 1453, 2648], 2639: [1774, 421, 2125, 274, 245], 2640: [2364, 2316, 2056, 1741, 886], 2641: [921, 2056, 1016, 1456, 1429], 2642: [473, 245, 2342, 44, 91], 2643: [924, 933, 914, 885, 954], 2644: [2125, 91, 2079, 922, 379], 2645: [274, 960, 1774, 2175, 1435], 2646: [1481, 245, 421, 91, 874], 2647: [630, 2125, 484, 899, 958], 2648: [0, 2316, 889, 435, 1918], 2649: [875, 960, 1651, 2175, 2648], 2650: [421, 245, 118, 2056, 872], 2651: [771, 876, 949, 906, 1422], 2652: [2087, 1023, 939, 0, 902], 2653: [2056, 2228, 2198, 2125, 181], 2654: [1774, 421, 1724, 245, 2056], 2655: [2056, 2009, 1741, 1724, 2125], 2656: [2793, 2663, 91, 661, 379], 2657: [2125, 245, 473, 2056, 1481], 2658: [421, 245, 1774, 274, 1481], 2659: [899, 665, 663, 902, 1186], 2660: [433, 16, 477, 673, 665], 2661: [274, 2725, 0, 2079, 2125], 2662: [2125, 91, 661, 2079, 922], 2663: [421, 245, 274, 1774, 473], 2664: [1422, 1016, 2502, 1459, 2648], 2665: [2611, 933, 939, 2725, 2188], 2666: [421, 245, 29, 484, 1481], 2667: [1774, 421, 665, 16, 926], 2668: [2125, 875, 922, 661, 484], 2669: [473, 630, 872, 245, 421], 2670: [937, 902, 914, 663, 665], 2671: [91, 2125, 379, 1481, 922], 2672: [1481, 91, 908, 874, 470], 2673: [2228, 2125, 2056, 2198, 2663], 2674: [2125, 2590, 484, 232, 922], 2675: [1918, 874, 886, 470, 818], 2676: [421, 872, 954, 895, 1481], 2677: [2056, 44, 358, 473, 1186], 2678: [889, 891, 435, 657, 921], 2679: [2175, 657, 875, 2087, 960], 2680: [666, 2079, 2125, 2018, 181], 2681: [274, 433, 469, 342, 0], 2682: [1918, 2056, 435, 676, 1278], 2683: [2056, 358, 1179, 2342, 245], 2684: [2125, 2228, 484, 2168, 232], 2685: [876, 1016, 958, 1429, 960], 2686: [2056, 1741, 2018, 2316, 2228], 2687: [44, 232, 484, 888, 810], 2688: [1481, 421, 274, 91, 2316], 2689: [2316, 0, 931, 2056, 876], 2690: [484, 473, 888, 245, 421], 2691: [874, 435, 676, 883, 1918], 2692: [91, 1481, 118, 1179, 358], 2693: [665, 884, 914, 657, 675], 2694: [2125, 91, 470, 379, 1481], 2695: [2125, 484, 665, 899, 473], 2696: [44, 1186, 473, 810, 2056], 2697: [2663, 2534, 2613, 2793, 2056], 2698: [2125, 899, 2228, 875, 1774], 2699: [672, 653, 763, 1415, 667], 2700: [44, 232, 484, 810, 473], 2701: [358, 44, 5, 470, 374], 2702: [876, 874, 886, 875, 630], 2703: [1186, 232, 44, 888, 665], 2704: [421, 245, 872, 884, 895], 2705: [1481, 421, 874, 91, 886], 2706: [876, 874, 875, 886, 949], 2707: [421, 1774, 2534, 2316, 1481], 2708: [2009, 2000, 181, 2228, 1864], 2709: [2125, 922, 91, 2079, 232], 2710: [2897, 2590, 2907, 2936, 2793], 2711: [874, 435, 886, 878, 906], 2712: [876, 1918, 949, 771, 358], 2713: [2823, 874, 2663, 1918, 886], 2714: [2125, 91, 379, 1481, 922], 2715: [876, 672, 874, 886, 818], 2716: [630, 665, 876, 874, 672], 2717: [473, 245, 1481, 91, 484], 2718: [0, 274, 469, 2316, 433], 2719: [676, 915, 675, 657, 630], 2720: [91, 1481, 379, 470, 2663], 2721: [1774, 16, 665, 421, 926], 2722: [874, 886, 1918, 470, 818], 2723: [2175, 1023, 2087, 801, 2079], 2724: [1774, 29, 0, 2316, 16], 2725: [91, 2793, 2663, 2079, 470], 2726: [245, 872, 421, 473, 630], 2727: [874, 1918, 886, 906, 876], 2728: [470, 874, 1918, 886, 379], 2729: [1481, 91, 874, 876, 886], 2730: [2079, 931, 470, 2316, 1918], 2731: [2648, 900, 902, 1223, 2087], 2732: [2056, 676, 886, 876, 874], 2733: [421, 245, 872, 888, 1481], 2734: [16, 1774, 667, 2125, 770], 2735: [2056, 2663, 2009, 2198, 2534], 2736: [630, 876, 872, 958, 902], 2737: [2125, 1233, 1205, 2168, 1203], 2738: [421, 245, 1255, 31, 118], 2739: [2056, 2018, 1774, 2125, 833], 2740: [470, 1918, 379, 2173, 991], 2741: [44, 1186, 473, 2056, 484], 2742: [874, 435, 878, 886, 875], 2743: [2342, 473, 245, 497, 1255], 2744: [91, 2125, 2663, 1481, 2793], 2745: [886, 906, 665, 878, 1918], 2746: [274, 926, 1393, 960, 2648], 2747: [0, 2316, 29, 875, 2228], 2748: [435, 1186, 2792, 878, 2316], 2749: [874, 1481, 470, 91, 886], 2750: [2125, 2087, 926, 1023, 2079], 2751: [960, 2175, 2087, 1234, 657], 2752: [1023, 947, 1651, 2545, 1512], 2753: [652, 658, 719, 2257, 663], 2754: [926, 0, 2725, 939, 1697], 2755: [245, 484, 473, 232, 888], 2756: [1918, 876, 1179, 875, 358], 2757: [630, 899, 915, 665, 661], 2758: [875, 1774, 2228, 2018, 2316], 2759: [421, 245, 435, 874, 665], 2760: [484, 2125, 1186, 44, 473], 2761: [958, 875, 902, 20, 2725], 2762: [630, 876, 1016, 874, 886], 2763: [2125, 2056, 2228, 2009, 2198], 2764: [666, 657, 928, 245, 421], 2765: [958, 2125, 2192, 1016, 630], 2766: [672, 2316, 958, 902, 0], 2767: [44, 473, 810, 1186, 232], 2768: [44, 435, 245, 1186, 810], 2769: [44, 672, 473, 1186, 875], 2770: [91, 2125, 1481, 379, 2793], 2771: [358, 1179, 1918, 561, 2421], 2772: [906, 771, 892, 1459, 876], 2773: [872, 421, 630, 245, 665], 2774: [875, 2175, 922, 2079, 2590], 2775: [630, 872, 92, 876, 874], 2776: [91, 1255, 274, 2570, 2079], 2777: [254, 87, 1294, 351, 176], 2778: [2125, 484, 29, 899, 1687], 2779: [661, 915, 899, 630, 958], 2780: [2228, 2056, 181, 2009, 2000], 2781: [666, 630, 1186, 435, 2056], 2782: [274, 1393, 1297, 1774, 2009], 2783: [435, 676, 878, 889, 906], 2784: [484, 245, 232, 888, 421], 2785: [274, 1481, 2125, 1774, 960], 2786: [44, 358, 2079, 1179, 922], 2787: [1481, 245, 91, 2125, 473], 2788: [675, 884, 872, 665, 630], 2789: [874, 470, 906, 1918, 886], 2790: [435, 676, 874, 886, 2125], 2791: [666, 915, 928, 2555, 665], 2792: [91, 1481, 379, 470, 274], 2793: [630, 1421, 2174, 2781, 92], 2794: [630, 421, 2534, 665, 872], 2795: [435, 676, 878, 889, 906], 2796: [1774, 469, 475, 2056, 2316], 2797: [2125, 2079, 922, 91, 661], 2798: [630, 665, 872, 675, 884], 2799: [2316, 0, 2792, 421, 29], 2800: [274, 2342, 2534, 1263, 2056], 2801: [2125, 2056, 2228, 2198, 2009], 2802: [2125, 2228, 1937, 2056, 2198], 2803: [484, 473, 872, 44, 245], 2804: [876, 875, 949, 874, 886], 2805: [665, 421, 884, 675, 630], 2806: [874, 1918, 876, 886, 2316], 2807: [652, 884, 675, 658, 662], 2808: [676, 1918, 435, 1214, 877], 2809: [2087, 931, 875, 2175, 960], 2810: [281, 2056, 1380, 475, 672], 2811: [675, 915, 630, 92, 665], 2812: [876, 1774, 875, 1179, 358], 2813: [435, 874, 878, 906, 876], 2814: [1481, 274, 91, 2056, 421], 2815: [2056, 1774, 473, 2316, 245], 2816: [470, 1918, 91, 379, 1481], 2817: [1481, 0, 1918, 274, 421], 2818: [435, 874, 676, 1918, 878], 2819: [2793, 2897, 2663, 2613, 2534], 2820: [1588, 883, 129, 913, 2776], 2821: [91, 2125, 922, 2079, 379], 2822: [876, 630, 875, 874, 665], 2823: [232, 2125, 44, 484, 888], 2824: [2316, 0, 1393, 2056, 2792], 2825: [196, 776, 1262, 630, 597], 2826: [2555, 944, 928, 915, 657], 2827: [874, 876, 886, 906, 833], 2828: [2125, 2228, 2354, 2198, 232], 2829: [915, 2555, 928, 675, 944], 2830: [630, 1481, 876, 1016, 2125], 2831: [1481, 91, 2125, 245, 421], 2832: [484, 899, 1687, 232, 888], 2833: [2228, 2125, 1774, 1724, 1937], 2834: [665, 652, 661, 675, 666], 2835: [91, 922, 470, 2079, 661], 2836: [2125, 1774, 2228, 2663, 2056], 2837: [421, 1774, 2316, 0, 875], 2838: [872, 630, 421, 484, 245], 2839: [2228, 2056, 1937, 181, 1774], 2840: [1918, 561, 358, 91, 2056], 2841: [2897, 2907, 2590, 2354, 2469], 2842: [232, 91, 484, 2125, 888], 2843: [2125, 91, 1481, 922, 484], 2844: [630, 44, 1186, 2125, 484], 2845: [874, 1918, 886, 470, 435], 2846: [2125, 2228, 1774, 181, 1937], 2847: [2125, 872, 2228, 630, 675], 2848: [874, 875, 876, 886, 1918], 2849: [2125, 899, 1774, 875, 2228], 2850: [876, 874, 875, 949, 886], 2851: [2125, 2228, 1774, 1937, 1724], 2852: [889, 718, 1686, 1456, 1827], 2853: [2079, 2175, 947, 1393, 926], 2854: [2228, 884, 2897, 872, 2354], 2855: [2125, 2897, 2228, 2354, 872], 2856: [2056, 245, 473, 1774, 421], 2857: [1686, 1207, 1283, 2627, 1111], 2858: [433, 274, 477, 1994, 1798], 2859: [421, 245, 1774, 2228, 2897], 2860: [883, 676, 799, 1420, 1588], 2861: [2228, 2125, 181, 2009, 2198], 2862: [630, 876, 958, 1016, 908], 2863: [2168, 2125, 2228, 1937, 1724], 2864: [2056, 2125, 1741, 2228, 2009], 2865: [886, 2056, 2018, 874, 931], 2866: [665, 875, 876, 922, 630], 2867: [2663, 2793, 2897, 2823, 2792], 2868: [2364, 2823, 435, 2663, 833], 2869: [470, 435, 889, 1918, 878], 2870: [245, 484, 232, 1255, 993], 2871: [1016, 921, 1456, 891, 889], 2872: [196, 597, 2316, 843, 1384], 2873: [876, 0, 281, 818, 886], 2874: [666, 899, 915, 663, 675], 2875: [906, 889, 874, 878, 876], 2876: [91, 1918, 470, 1179, 949], 2877: [889, 1918, 676, 470, 435], 2878: [667, 770, 1912, 653, 1415], 2879: [44, 473, 245, 1186, 232], 2880: [947, 2079, 2228, 883, 875], 2881: [2663, 2125, 2056, 2018, 2823], 2882: [2316, 1297, 245, 2342, 2534], 2883: [181, 2009, 2000, 2228, 2198], 2884: [2316, 1774, 421, 1741, 1724], 2885: [2079, 1393, 1110, 2590, 2009], 2886: [561, 1739, 267, 1000, 9], 2887: [1670, 2342, 245, 267, 2291], 2888: [1553, 2125, 936, 949, 876], 2889: [421, 245, 672, 665, 118], 2890: [1918, 470, 906, 876, 874], 2891: [2056, 2009, 2000, 2228, 181], 2892: [876, 874, 421, 665, 875], 2893: [874, 886, 421, 876, 908], 2894: [949, 876, 1179, 771, 561], 2895: [1016, 771, 902, 906, 630], 2896: [2663, 2793, 379, 1918, 470], 2897: [232, 484, 630, 1186, 44], 2898: [2663, 2056, 2125, 2228, 1918], 2899: [1151, 892, 2725, 1433, 524], 2900: [44, 245, 232, 2198, 888], 2901: [44, 915, 630, 657, 888], 2902: [421, 484, 0, 630, 29], 2903: [1918, 2056, 470, 379, 1151], 2904: [2125, 421, 2228, 232, 2663], 2905: [2316, 875, 931, 0, 435], 2906: [874, 886, 906, 876, 1918], 2907: [891, 2431, 244, 1947, 939], 2908: [1445, 921, 1456, 1453, 2603], 2909: [2611, 2793, 1993, 2342, 1778], 2910: [2125, 921, 889, 891, 1456], 2911: [2056, 245, 1774, 421, 473], 2912: [2009, 2018, 2000, 2056, 1741], 2913: [1651, 1918, 2209, 2545, 597], 2914: [2079, 922, 2125, 947, 2590], 2915: [875, 876, 874, 886, 421], 2916: [2228, 1773, 1687, 1060, 1937], 2917: [665, 661, 666, 675, 44], 2918: [196, 1687, 1773, 129, 1384], 2919: [91, 874, 875, 1481, 886], 2920: [91, 2125, 922, 470, 379], 2921: [676, 916, 435, 2583, 955], 2922: [874, 886, 876, 1481, 91], 2923: [874, 931, 470, 906, 886], 2924: [2316, 1741, 2056, 2364, 2018], 2925: [2663, 2793, 2823, 470, 2613], 2926: [274, 433, 1297, 477, 1994], 2927: [876, 875, 665, 886, 874], 2928: [939, 883, 877, 676, 891], 2929: [921, 891, 473, 1456, 889], 2930: [2125, 872, 421, 245, 484], 2931: [245, 1481, 421, 2125, 1255], 2932: [473, 44, 484, 1186, 245], 2933: [245, 1481, 421, 91, 232], 2934: [425, 1380, 818, 1863, 281], 2935: [1918, 874, 886, 2823, 470], 2936: [2316, 0, 672, 29, 245], 2937: [245, 1255, 473, 118, 274], 2938: [875, 931, 960, 818, 876], 2939: [44, 473, 245, 1186, 2056], 2940: [2125, 2228, 181, 2056, 2198], 2941: [435, 666, 653, 657, 665], 2942: [665, 675, 884, 421, 2298], 2943: [889, 878, 906, 874, 630], 2944: [2125, 1774, 875, 2228, 1937], 2945: [484, 245, 44, 232, 1186], 2946: [630, 91, 5, 2188, 1481], 2947: [44, 2228, 484, 232, 2590], 2948: [2590, 2897, 2907, 661, 630], 2949: [2316, 1741, 2056, 2018, 2364], 2950: [421, 1774, 274, 1481, 16], 2951: [2125, 484, 872, 245, 232], 2952: [630, 872, 876, 44, 92], 2953: [2056, 2228, 2000, 2009, 1724], 2954: [2056, 2316, 1741, 2018, 2364], 2955: [421, 2316, 1186, 2056, 473], 2956: [1918, 470, 991, 379, 1151], 2957: [245, 421, 473, 630, 1481], 2958: [2056, 1774, 666, 2018, 1741], 2959: [2056, 1741, 2018, 2316, 2228], 2960: [2125, 484, 872, 245, 232], 2961: [470, 91, 2125, 379, 1918], 2962: [435, 944, 928, 887, 1610], 2963: [245, 473, 872, 421, 630], 2964: [665, 657, 675, 661, 872], 2965: [2125, 872, 245, 421, 484], 2966: [2125, 875, 358, 960, 876], 2967: [913, 2736, 2555, 915, 2776], 2968: [274, 245, 1255, 1297, 473], 2969: [2056, 1918, 2663, 2823, 2364], 2970: [91, 1481, 274, 245, 118], 2971: [630, 484, 435, 470, 2125], 2972: [91, 1481, 2125, 1393, 274], 2973: [2125, 2228, 2056, 2198, 1937], 2974: [2125, 2056, 245, 473, 2198], 2975: [484, 665, 872, 899, 912], 2976: [2125, 2228, 181, 1773, 2079], 2977: [2125, 2228, 2056, 1774, 2198], 2978: [665, 675, 657, 915, 666], 2979: [2316, 0, 1741, 29, 2055], 2980: [421, 245, 1481, 876, 1429], 2981: [2125, 484, 421, 245, 232], 2982: [1186, 915, 928, 666, 44], 2983: [561, 267, 2421, 358, 771], 2984: [91, 379, 470, 2125, 1481], 2985: [874, 876, 886, 1918, 818], 2986: [1326, 2168, 634, 24, 405], 2987: [2228, 2056, 2125, 1774, 245], 2988: [2663, 2009, 2056, 1741, 2228], 2989: [874, 435, 676, 665, 818], 2990: [672, 473, 484, 29, 1415], 2991: [665, 630, 675, 884, 872], 2992: [2793, 2663, 2897, 2613, 2534], 2993: [44, 875, 874, 473, 1918], 2994: [20, 1459, 1460, 295, 9], 2995: [876, 936, 1613, 875, 949], 2996: [561, 1918, 876, 886, 295], 2997: [421, 245, 960, 1774, 875], 2998: [421, 245, 2316, 1481, 274], 2999: [1380, 760, 475, 1539, 281], 3000: [874, 1918, 886, 876, 875], 3001: [810, 473, 44, 358, 5], 3002: [2228, 2125, 899, 1937, 947], 3003: [1918, 470, 874, 379, 91], 3004: [44, 473, 1186, 245, 657], 3005: [676, 889, 435, 874, 878], 3006: [2663, 2125, 1481, 2056, 2198], 3007: [274, 1151, 2125, 1774, 379], 3008: [1918, 470, 1151, 1155, 379], 3009: [274, 876, 771, 886, 960], 3010: [435, 676, 878, 889, 906], 3011: [874, 435, 906, 886, 876], 3012: [1918, 470, 1151, 991, 379], 3013: [763, 770, 667, 1415, 1912], 3014: [2125, 91, 1297, 274, 379], 3015: [630, 2663, 2125, 872, 2897], 3016: [1918, 874, 470, 886, 878], 3017: [1774, 16, 275, 34, 433], 3018: [927, 2307, 2648, 2260, 1223], 3019: [470, 91, 2125, 379, 1151], 3020: [665, 884, 421, 675, 666], 3021: [44, 1186, 473, 657, 915], 3022: [876, 771, 875, 874, 906], 3023: [2056, 2534, 1774, 2663, 2228], 3024: [876, 630, 771, 1918, 906], 3025: [930, 763, 663, 653, 667], 3026: [666, 652, 669, 682, 684], 3027: [91, 2125, 1481, 470, 1918], 3028: [1151, 2364, 1918, 931, 991], 3029: [770, 1415, 672, 667, 942], 3030: [2125, 245, 484, 1255, 473], 3031: [790, 343, 1393, 920, 585], 3032: [1016, 750, 985, 51, 1456], 3033: [1918, 2316, 470, 886, 0], 3034: [2125, 1774, 2228, 2056, 665], 3035: [421, 245, 1481, 473, 1255], 3036: [884, 657, 665, 245, 675], 3037: [245, 1255, 2125, 421, 118], 3038: [676, 883, 2583, 630, 435], 3039: [666, 2555, 944, 682, 1610], 3040: [470, 1918, 379, 1151, 874], 3041: [2534, 2663, 2056, 2125, 2613], 3042: [1255, 2125, 91, 245, 118], 3043: [2897, 2590, 2936, 2907, 2613], 3044: [379, 470, 358, 931, 1918], 3045: [435, 676, 889, 878, 1186], 3046: [2125, 2056, 2228, 2198, 2009], 3047: [630, 906, 876, 874, 889], 3048: [874, 875, 876, 886, 1481], 3049: [665, 16, 1774, 673, 652], 3050: [435, 906, 889, 676, 878], 3051: [1918, 470, 2056, 358, 2198], 3052: [435, 676, 916, 877, 955], 3053: [630, 92, 872, 2125, 484], 3054: [675, 661, 913, 887, 678], 3055: [876, 771, 358, 875, 1918], 3056: [876, 874, 886, 1918, 949], 3057: [2125, 421, 245, 232, 274], 3058: [2175, 2087, 921, 875, 931], 3059: [421, 245, 665, 44, 473], 3060: [2056, 44, 473, 1186, 358], 3061: [876, 874, 886, 630, 949], 3062: [2056, 2009, 1918, 470, 2000], 3063: [876, 874, 886, 630, 875], 3064: [91, 1481, 470, 886, 1918], 3065: [232, 1255, 245, 44, 2198], 3066: [91, 274, 2125, 1393, 1481], 3067: [1724, 2168, 1239, 1238, 432], 3068: [473, 44, 484, 676, 1186], 3069: [2125, 91, 1481, 2663, 2198], 3070: [665, 675, 630, 899, 661], 3071: [2056, 1774, 1741, 2316, 666], 3072: [421, 665, 895, 884, 912], 3073: [876, 875, 886, 1481, 874], 3074: [2663, 2534, 2897, 2125, 2793], 3075: [473, 661, 657, 44, 891], 3076: [1481, 91, 358, 470, 1918], 3077: [1918, 470, 435, 906, 878], 3078: [872, 630, 884, 675, 912], 3079: [2125, 630, 484, 421, 872], 3080: [947, 1512, 92, 898, 899], 3081: [1686, 889, 486, 939, 878], 3082: [245, 473, 1255, 2087, 993], 3083: [630, 470, 874, 889, 886], 3084: [2897, 2793, 2663, 2534, 2613], 3085: [91, 1481, 2663, 874, 876], 3086: [2056, 245, 473, 1255, 2342], 3087: [16, 1263, 274, 433, 960], 3088: [421, 245, 473, 1255, 960], 3089: [1481, 421, 874, 886, 1918], 3090: [874, 876, 875, 931, 1918], 3091: [473, 44, 245, 2056, 1918], 3092: [435, 676, 889, 878, 906], 3093: [2590, 2897, 899, 2792, 2907], 3094: [2056, 2364, 1918, 1741, 833], 3095: [2534, 477, 433, 1994, 274], 3096: [1155, 916, 1151, 676, 1918], 3097: [2125, 484, 1186, 421, 245], 3098: [2125, 2897, 2590, 2663, 2792], 3099: [1151, 1918, 931, 470, 991], 3100: [44, 484, 473, 1186, 232], 3101: [875, 876, 949, 421, 936], 3102: [2125, 2056, 2663, 2198, 1724], 3103: [2125, 630, 922, 1481, 2590], 3104: [44, 1186, 473, 435, 630], 3105: [874, 676, 435, 889, 1918], 3106: [661, 44, 665, 1186, 630], 3107: [274, 931, 91, 379, 2125], 3108: [1421, 923, 933, 914, 881], 3109: [2897, 2590, 2663, 2793, 2792], 3110: [630, 881, 915, 435, 665], 3111: [1085, 1294, 87, 264, 2009], 3112: [245, 44, 2056, 473, 672], 3113: [2125, 2056, 473, 245, 274], 3114: [181, 1773, 2125, 2228, 1937], 3115: [470, 1918, 379, 1151, 91], 3116: [91, 886, 2663, 1481, 874], 3117: [473, 245, 872, 630, 421], 3118: [666, 1186, 435, 928, 944], 3119: [1918, 470, 379, 1151, 874], 3120: [2056, 666, 2228, 2198, 1774], 3121: [2056, 2125, 1918, 470, 473], 3122: [2663, 2897, 2534, 2590, 2793], 3123: [2364, 833, 2056, 2228, 2198], 3124: [470, 91, 874, 1918, 886], 3125: [2056, 358, 1297, 2057, 1179], 3126: [473, 44, 470, 1918, 2056], 3127: [421, 245, 665, 1774, 473], 3128: [1186, 2228, 44, 915, 947], 3129: [2648, 921, 2389, 1223, 1435], 3130: [421, 245, 473, 2125, 484], 3131: [872, 630, 884, 895, 92], 3132: [2897, 2793, 2663, 2613, 2590], 3133: [2663, 2793, 2897, 2613, 2534], 3134: [833, 1918, 2056, 2663, 886], 3135: [630, 232, 888, 92, 872], 3136: [2125, 2228, 1918, 630, 886], 3137: [2056, 2228, 2198, 1724, 1937], 3138: [931, 2056, 1918, 2316, 0], 3139: [876, 875, 874, 2087, 895], 3140: [667, 16, 770, 471, 818], 3141: [1151, 1918, 379, 470, 91], 3142: [484, 232, 473, 44, 888], 3143: [2125, 274, 1774, 1297, 665], 3144: [2663, 2897, 2823, 2793, 2590], 3145: [875, 876, 922, 2087, 874], 3146: [245, 872, 421, 473, 630], 3147: [2125, 181, 2198, 1741, 2056], 3148: [2125, 245, 875, 421, 2228], 3149: [2793, 2897, 2663, 2613, 2534], 3150: [2125, 2228, 2663, 2056, 2534], 3151: [771, 358, 906, 1918, 470], 3152: [2663, 2897, 2823, 2534, 2793], 3153: [421, 274, 2125, 245, 926], 3154: [1774, 2056, 421, 665, 245], 3155: [876, 874, 630, 672, 949], 3156: [91, 2663, 470, 1481, 379], 3157: [931, 1918, 0, 906, 875], 3158: [2198, 2228, 2354, 2823, 2663], 3159: [2125, 2228, 2198, 2056, 2354], 3160: [874, 906, 878, 1918, 889], 3161: [421, 245, 473, 875, 874], 3162: [358, 2125, 1179, 630, 91], 3163: [675, 585, 912, 661, 657], 3164: [2125, 2228, 2663, 2198, 1937], 3165: [2125, 2663, 1481, 630, 91], 3166: [630, 872, 876, 473, 245], 3167: [2228, 947, 875, 1186, 435], 3168: [2056, 2534, 2232, 1724, 2365], 3169: [889, 470, 906, 878, 676], 3170: [922, 931, 874, 876, 875], 3171: [915, 928, 2555, 944, 666], 3172: [2125, 232, 484, 44, 473], 3173: [889, 878, 470, 906, 435], 3174: [274, 421, 1774, 1263, 2056], 3175: [484, 245, 421, 875, 44], 3176: [473, 2534, 2342, 245, 2897], 3177: [421, 245, 473, 1481, 2056], 3178: [874, 435, 876, 875, 886], 3179: [2125, 2228, 2354, 2198, 181], 3180: [630, 872, 92, 885, 888], 3181: [675, 657, 665, 884, 912], 3182: [885, 872, 630, 1718, 2198], 3183: [91, 719, 923, 876, 946], 3184: [2125, 245, 484, 1481, 473], 3185: [44, 2056, 630, 1918, 473], 3186: [666, 1186, 915, 944, 435], 3187: [657, 675, 676, 665, 915], 3188: [2125, 484, 1774, 2228, 421], 3189: [876, 886, 874, 875, 2663], 3190: [2056, 1918, 931, 2316, 0], 3191: [876, 771, 292, 2663, 1918], 3192: [1918, 274, 1481, 245, 0], 3193: [2198, 2056, 2228, 2125, 181], 3194: [2663, 91, 2125, 2793, 1481], 3195: [245, 872, 421, 473, 232], 3196: [922, 875, 1435, 2087, 874], 3197: [630, 875, 665, 1186, 876], 3198: [891, 1456, 1016, 921, 939], 3199: [470, 91, 1918, 379, 1481], 3200: [1186, 1774, 484, 44, 2228], 3201: [91, 914, 933, 2125, 2258], 3202: [2056, 470, 358, 1918, 379], 3203: [2590, 2897, 2125, 2663, 2907], 3204: [960, 1774, 2079, 2087, 902], 3205: [274, 118, 245, 1255, 471], 3206: [2125, 181, 2198, 2228, 1724], 3207: [0, 2056, 473, 926, 921], 3208: [91, 893, 811, 2648, 892], 3209: [1481, 91, 561, 2663, 2793], 3210: [421, 2125, 245, 666, 1774], 3211: [2125, 872, 484, 630, 2228], 3212: [2125, 2228, 1774, 245, 421], 3213: [274, 421, 1297, 245, 0], 3214: [665, 630, 872, 895, 876], 3215: [1774, 2056, 2316, 2534, 421], 3216: [1774, 421, 29, 2228, 926], 3217: [16, 673, 667, 274, 818], 3218: [2228, 2125, 1774, 1937, 2056], 3219: [2663, 2534, 2316, 2793, 1774], 3220: [872, 665, 675, 884, 630], 3221: [1918, 470, 906, 358, 2173], 3222: [1481, 91, 421, 2125, 245], 3223: [2228, 2198, 181, 1937, 2125], 3224: [2168, 1424, 836, 246, 1721], 3225: [926, 29, 0, 875, 2316], 3226: [630, 899, 958, 909, 876], 3227: [1774, 2125, 2228, 421, 245], 3228: [876, 771, 886, 1918, 874], 3229: [2125, 245, 421, 484, 473], 3230: [1918, 470, 2056, 2316, 0], 3231: [1016, 876, 946, 1422, 630], 3232: [2316, 1774, 0, 1741, 1937], 3233: [899, 484, 909, 1687, 872], 3234: [665, 874, 895, 876, 675], 3235: [2056, 2228, 2663, 2534, 2198], 3236: [2079, 931, 922, 875, 2087], 3237: [484, 1186, 232, 44, 473], 3238: [895, 421, 2087, 876, 884], 3239: [2125, 421, 274, 245, 91], 3240: [2228, 2125, 1773, 1937, 181], 3241: [630, 899, 872, 958, 902], 3242: [2193, 876, 949, 2191, 2192], 3243: [473, 245, 44, 1918, 1186], 3244: [245, 2125, 473, 2056, 2663], 3245: [2897, 2793, 2613, 2663, 2936], 3246: [1255, 1863, 245, 1670, 31], 3247: [876, 874, 949, 875, 886], 3248: [2125, 665, 473, 245, 872], 3249: [2056, 2228, 1774, 2125, 872], 3250: [274, 232, 1481, 2125, 421], 3251: [872, 630, 899, 939, 884], 3252: [2125, 2056, 2228, 2198, 2018], 3253: [2125, 2228, 1774, 899, 1937], 3254: [2125, 2079, 922, 484, 939], 3255: [274, 433, 477, 1994, 1774], 3256: [1481, 2125, 886, 874, 91], 3257: [630, 876, 470, 874, 889], 3258: [876, 895, 818, 874, 2087], 3259: [875, 394, 1186, 1774, 653], 3260: [421, 245, 473, 1481, 811], 3261: [29, 1687, 0, 926, 1205], 3262: [2125, 274, 1774, 2228, 2056], 3263: [91, 1481, 2192, 2188, 2663], 3264: [2663, 2534, 2793, 2897, 2613], 3265: [810, 44, 1686, 232, 1186], 3266: [630, 872, 2125, 421, 2534], 3267: [2228, 1937, 1774, 181, 1773], 3268: [1918, 2125, 874, 630, 875], 3269: [875, 922, 1481, 421, 245], 3270: [245, 473, 2087, 875, 44], 3271: [960, 1234, 245, 1263, 473], 3272: [2342, 755, 750, 902, 2598], 3273: [665, 1186, 44, 661, 421], 3274: [435, 874, 878, 906, 1918], 3275: [939, 2018, 2125, 2079, 1016], 3276: [421, 245, 1481, 473, 274], 3277: [245, 872, 484, 232, 888], 3278: [899, 663, 661, 652, 665], 3279: [1481, 91, 630, 470, 874], 3280: [2198, 181, 2009, 1864, 883], 3281: [875, 1459, 876, 358, 892], 3282: [665, 657, 675, 666, 884], 3283: [2364, 435, 1433, 931, 799], 3284: [2125, 484, 245, 473, 232], 3285: [630, 196, 1718, 885, 5], 3286: [770, 672, 763, 1415, 667], 3287: [872, 2125, 245, 665, 884], 3288: [630, 872, 2125, 876, 874], 3289: [421, 1481, 914, 91, 881], 3290: [2056, 2009, 2198, 2000, 2228], 3291: [421, 245, 473, 484, 888], 3292: [930, 2257, 678, 2571, 2293], 3293: [2125, 91, 473, 484, 232], 3294: [44, 630, 810, 232, 473], 3295: [2125, 2663, 2009, 2000, 2056], 3296: [2056, 2125, 2228, 2009, 2000], 3297: [91, 2663, 274, 2793, 379], 3298: [2125, 2228, 2198, 2056, 181], 3299: [2168, 895, 872, 2228, 2125], 3300: [902, 922, 484, 2501, 630], 3301: [2168, 92, 630, 899, 129], 3302: [2056, 2125, 2198, 2228, 473], 3303: [2125, 939, 872, 899, 2228], 3304: [672, 891, 473, 630, 872], 3305: [484, 245, 232, 2125, 888], 3306: [1481, 630, 421, 874, 914], 3307: [91, 470, 379, 473, 1481], 3308: [1575, 1434, 1574, 1589, 1464], 3309: [875, 931, 435, 2079, 1598], 3310: [484, 245, 421, 473, 232], 3311: [2255, 920, 2198, 2272, 1864], 3312: [2198, 1864, 2272, 2354, 875], 3313: [2663, 661, 2125, 939, 2079], 3314: [892, 2018, 2648, 875, 2079], 3315: [470, 1918, 91, 358, 274], 3316: [44, 630, 473, 1186, 876], 3317: [1918, 435, 470, 676, 931], 3318: [665, 915, 675, 657, 884], 3319: [954, 2498, 958, 1421, 900], 3320: [875, 2175, 960, 911, 2082], 3321: [2087, 895, 1429, 900, 931], 3322: [1186, 44, 421, 473, 245], 3323: [2125, 2228, 899, 872, 630], 3324: [435, 889, 676, 878, 906], 3325: [2534, 2663, 2056, 2168, 1724], 3326: [2125, 2897, 2590, 2663, 2793], 3327: [810, 44, 1186, 232, 1918], 3328: [433, 274, 477, 1297, 16], 3329: [421, 665, 630, 872, 915], 3330: [1774, 2056, 1724, 2228, 2018], 3331: [2125, 1774, 421, 875, 1724], 3332: [2663, 2534, 2056, 1741, 2009], 3333: [2125, 2198, 181, 2228, 2056], 3334: [91, 274, 118, 1255, 1481], 3335: [274, 931, 2079, 2175, 1393], 3336: [421, 888, 245, 1481, 665], 3337: [2125, 2228, 2056, 2198, 666], 3338: [2079, 2087, 2056, 2018, 939], 3339: [2125, 245, 484, 473, 421], 3340: [2056, 421, 245, 2125, 1481], 3341: [232, 484, 44, 810, 888], 3342: [2056, 2009, 2000, 2232, 2018], 3343: [2228, 875, 1774, 2125, 2056], 3344: [630, 872, 2125, 484, 232], 3345: [1481, 274, 91, 0, 1459], 3346: [937, 954, 915, 675, 884], 3347: [245, 421, 473, 2125, 2056], 3348: [665, 719, 673, 1774, 274], 3349: [1481, 91, 1918, 245, 379], 3350: [2125, 2228, 1774, 1937, 926], 3351: [2125, 2056, 2663, 2228, 2009], 3352: [1445, 1456, 983, 921, 986], 3353: [2125, 1481, 876, 1459, 630], 3354: [435, 878, 874, 906, 889], 3355: [421, 245, 1481, 473, 872], 3356: [891, 889, 676, 657, 661], 3357: [245, 91, 473, 1481, 922], 3358: [91, 922, 274, 471, 245], 3359: [2125, 630, 484, 872, 2228], 3360: [16, 274, 673, 1774, 665], 3361: [1481, 421, 630, 91, 876], 3362: [274, 1393, 433, 477, 1297], 3363: [433, 16, 1774, 275, 477], 3364: [16, 1774, 864, 1724, 421], 3365: [1784, 931, 1151, 799, 2725], 3366: [876, 874, 886, 949, 908], 3367: [884, 675, 661, 663, 899], 3368: [876, 771, 1918, 358, 470], 3369: [872, 2087, 630, 884, 876], 3370: [1186, 44, 232, 435, 665], 3371: [675, 884, 657, 912, 666], 3372: [666, 661, 657, 665, 1186], 3373: [91, 470, 1918, 379, 1481], 3374: [872, 473, 484, 44, 2056], 3375: [1481, 876, 630, 421, 2663], 3376: [2125, 1481, 421, 91, 2228], 3377: [1918, 2056, 44, 1193, 358], 3378: [0, 874, 2316, 931, 1918], 3379: [2125, 2228, 1774, 1724, 1937], 3380: [2502, 902, 2725, 937, 1421], 3381: [2897, 2534, 2792, 2590, 2613], 3382: [2316, 274, 1741, 1774, 0], 3383: [630, 872, 958, 876, 2125], 3384: [676, 630, 883, 872, 874], 3385: [630, 958, 1016, 876, 1459], 3386: [2056, 245, 2534, 2342, 421], 3387: [44, 1186, 810, 232, 484], 3388: [875, 2087, 2175, 922, 2316], 3389: [876, 874, 421, 875, 949], 3390: [884, 665, 675, 895, 2298], 3391: [1060, 2937, 129, 829, 843], 3392: [245, 473, 2125, 484, 872], 3393: [889, 630, 878, 435, 906], 3394: [630, 915, 92, 891, 876], 3395: [2228, 2056, 2125, 1724, 1774], 3396: [876, 874, 886, 906, 771], 3397: [872, 630, 884, 675, 912], 3398: [2316, 29, 0, 245, 421], 3399: [2316, 0, 1179, 2056, 358], 3400: [630, 876, 872, 771, 1016], 3401: [2725, 902, 2853, 923, 763], 3402: [663, 919, 2555, 658, 944], 3403: [1918, 1481, 358, 470, 876], 3404: [379, 470, 1151, 91, 1918], 3405: [245, 872, 421, 2125, 630], 3406: [245, 2087, 895, 1429, 876], 3407: [1774, 421, 2316, 274, 2056], 3408: [91, 1481, 876, 470, 874], 3409: [44, 473, 2056, 1186, 810], 3410: [2168, 1721, 1456, 1588, 921], 3411: [245, 421, 232, 872, 888], 3412: [1918, 91, 470, 245, 1481], 3413: [872, 665, 421, 630, 245], 3414: [243, 991, 561, 267, 9], 3415: [0, 2316, 931, 1918, 875], 3416: [1918, 1214, 1025, 243, 991], 3417: [663, 899, 2555, 928, 915], 3418: [1774, 2228, 1186, 394, 1937], 3419: [874, 876, 630, 872, 886], 3420: [245, 473, 2125, 872, 484], 3421: [872, 2056, 473, 2125, 931], 3422: [2175, 1023, 801, 2648, 960], 3423: [2079, 922, 2590, 875, 931], 3424: [2056, 2342, 118, 274, 245], 3425: [888, 810, 232, 196, 898], 3426: [657, 44, 915, 656, 1186], 3427: [44, 473, 1186, 630, 810], 3428: [895, 884, 421, 118, 665], 3429: [2125, 2228, 484, 630, 872], 3430: [872, 884, 902, 630, 899], 3431: [876, 886, 874, 949, 719], 3432: [2175, 2079, 2648, 892, 875], 3433: [876, 874, 245, 872, 421], 3434: [2125, 1481, 91, 2198, 2228], 3435: [665, 421, 673, 876, 719], 3436: [1481, 2663, 91, 886, 874], 3437: [2079, 2087, 2175, 875, 245], 3438: [2125, 181, 2228, 91, 1937], 3439: [875, 876, 874, 949, 2175], 3440: [245, 421, 473, 44, 1186], 3441: [2663, 2534, 2793, 2125, 1774], 3442: [473, 2125, 232, 435, 484], 3443: [435, 676, 889, 878, 906], 3444: [926, 275, 915, 899, 1186], 3445: [435, 676, 877, 874, 818], 3446: [1456, 921, 1445, 891, 1453], 3447: [2056, 1918, 2228, 470, 2125], 3448: [91, 470, 1481, 1918, 379], 3449: [630, 889, 676, 435, 874], 3450: [232, 44, 473, 1255, 993], 3451: [0, 926, 29, 1393, 2228], 3452: [421, 245, 2125, 473, 872], 3453: [1481, 421, 914, 274, 471], 3454: [274, 2663, 91, 1918, 2793], 3455: [2125, 484, 2228, 232, 1186], 3456: [1918, 874, 470, 886, 435], 3457: [421, 1481, 232, 245, 1186], 3458: [0, 2316, 29, 1774, 1741], 3459: [630, 874, 876, 2663, 886], 3460: [630, 676, 92, 435, 872], 3461: [630, 91, 1481, 470, 874], 3462: [911, 1241, 1110, 1429, 921], 3463: [876, 875, 2087, 874, 1023], 3464: [2056, 2198, 44, 497, 473], 3465: [874, 876, 886, 1918, 878], 3466: [245, 2125, 872, 473, 232], 3467: [473, 2125, 232, 484, 630], 3468: [872, 675, 665, 884, 630], 3469: [914, 923, 421, 946, 881], 3470: [1774, 0, 926, 2228, 2316], 3471: [1718, 2198, 2453, 1864, 2366], 3472: [421, 245, 876, 630, 872], 3473: [960, 1234, 1651, 16, 1475], 3474: [666, 665, 1774, 2056, 2228], 3475: [1670, 1255, 44, 993, 1718], 3476: [719, 673, 1515, 1412, 91], 3477: [770, 667, 1415, 2125, 653], 3478: [657, 653, 661, 665, 656], 3479: [2056, 2228, 2125, 181, 1774], 3480: [874, 421, 1481, 886, 876], 3481: [630, 876, 874, 665, 872], 3482: [1918, 435, 906, 889, 470], 3483: [2366, 2342, 2911, 2534, 2663], 3484: [931, 1151, 1918, 0, 2316], 3485: [421, 665, 630, 872, 245], 3486: [760, 475, 1539, 474, 764], 3487: [630, 1186, 44, 915, 665], 3488: [1918, 473, 676, 245, 435], 3489: [2018, 875, 2175, 922, 2079], 3490: [665, 915, 928, 2555, 1186], 3491: [91, 985, 1453, 921, 811], 3492: [899, 939, 903, 661, 663], 3493: [1481, 91, 923, 274, 914], 3494: [2056, 666, 2018, 2228, 2009], 3495: [2125, 2663, 2897, 2354, 2590], 3496: [2125, 91, 2228, 181, 1481], 3497: [666, 2228, 1774, 2056, 1724], 3498: [993, 473, 1255, 118, 245], 3499: [875, 435, 810, 44, 927], 3500: [874, 876, 875, 630, 922], 3501: [421, 665, 484, 912, 630], 3502: [245, 421, 44, 473, 232], 3503: [661, 665, 675, 922, 657], 3504: [2125, 2228, 2198, 2354, 2056], 3505: [666, 915, 2228, 661, 1186], 3506: [630, 872, 484, 232, 44], 3507: [885, 928, 666, 811, 675], 3508: [470, 1918, 874, 886, 878], 3509: [245, 1481, 421, 1918, 44], 3510: [2364, 2316, 0, 1918, 931], 3511: [876, 874, 875, 949, 906], 3512: [421, 874, 245, 886, 876], 3513: [0, 1393, 245, 1110, 118], 3514: [630, 872, 915, 44, 665], 3515: [421, 473, 245, 1186, 665], 3516: [874, 435, 2823, 878, 906], 3517: [2175, 875, 2079, 1435, 2648], 3518: [868, 1651, 2168, 1060, 2590], 3519: [1577, 1578, 1651, 960, 477], 3520: [2897, 2590, 2079, 2907, 2936], 3521: [657, 939, 661, 891, 656], 3522: [1918, 876, 358, 470, 874], 3523: [630, 872, 473, 484, 876], 3524: [2228, 2056, 2125, 666, 1774], 3525: [421, 245, 473, 2125, 44], 3526: [44, 1186, 930, 1098, 801], 3527: [630, 2125, 1481, 2056, 872], 3528: [1445, 1456, 921, 1016, 983], 3529: [906, 435, 889, 818, 676], 3530: [876, 875, 874, 886, 2663], 3531: [875, 922, 876, 421, 960], 3532: [245, 421, 274, 473, 1255], 3533: [1774, 1186, 421, 44, 274], 3534: [876, 874, 906, 886, 889], 3535: [91, 876, 1481, 874, 470], 3536: [2663, 2056, 91, 44, 1918], 3537: [2793, 2897, 2663, 2936, 2613], 3538: [44, 232, 993, 484, 810], 3539: [1574, 447, 1434, 1589, 1575], 3540: [2125, 91, 2663, 245, 1481], 3541: [484, 232, 888, 872, 2125], 3542: [2663, 2793, 2534, 2897, 2613], 3543: [665, 675, 884, 421, 915], 3544: [2125, 473, 245, 421, 484], 3545: [1186, 44, 484, 915, 630], 3546: [915, 2555, 630, 899, 928], 3547: [895, 1475, 876, 818, 899], 3548: [2897, 2793, 2663, 2792, 2936], 3549: [2018, 2125, 2316, 931, 875], 3550: [181, 2198, 2228, 232, 872], 3551: [473, 484, 245, 993, 2056], 3552: [2897, 2534, 2663, 2793, 2792], 3553: [470, 1918, 379, 1151, 91], 3554: [2125, 922, 630, 875, 876], 3555: [876, 874, 949, 875, 886], 3556: [1918, 470, 874, 876, 886], 3557: [1110, 790, 181, 1393, 145], 3558: [87, 1110, 91, 1393, 1297], 3559: [2079, 922, 2175, 875, 2087], 3560: [245, 421, 473, 1255, 118], 3561: [2125, 2228, 2009, 2725, 1937], 3562: [1435, 2175, 1651, 911, 1577], 3563: [245, 895, 911, 1651, 811], 3564: [91, 379, 1918, 470, 1481], 3565: [1918, 470, 91, 1481, 379], 3566: [421, 245, 872, 473, 665], 3567: [630, 876, 874, 889, 906], 3568: [878, 91, 1481, 874, 889], 3569: [245, 473, 921, 872, 1456], 3570: [899, 909, 919, 958, 663], 3571: [2663, 2125, 2198, 2056, 2009], 3572: [29, 484, 899, 1687, 902], 3573: [1918, 470, 874, 886, 379], 3574: [2897, 2534, 2663, 2590, 2792], 3575: [921, 1016, 1456, 1445, 2018], 3576: [939, 958, 2502, 923, 902], 3577: [433, 477, 16, 1994, 274], 3578: [926, 665, 875, 1774, 274], 3579: [936, 876, 949, 1918, 874], 3580: [1918, 470, 379, 91, 886], 3581: [470, 1918, 379, 874, 1151], 3582: [876, 875, 874, 949, 886], 3583: [665, 673, 16, 1774, 719], 3584: [44, 810, 232, 888, 484], 3585: [665, 673, 16, 719, 912], 3586: [665, 673, 666, 657, 421], 3587: [470, 1918, 91, 1481, 878], 3588: [914, 630, 923, 893, 1481], 3589: [2853, 2188, 2719, 2278, 923], 3590: [281, 469, 0, 475, 443], 3591: [2125, 91, 232, 274, 473], 3592: [2125, 770, 2343, 2534, 899], 3593: [0, 2316, 1393, 1741, 926], 3594: [358, 1179, 1918, 91, 0], 3595: [876, 2125, 2018, 886, 2056], 3596: [899, 665, 915, 675, 663], 3597: [2316, 0, 1741, 469, 281], 3598: [630, 874, 876, 421, 665], 3599: [561, 379, 1739, 1918, 358], 3600: [2304, 2056, 902, 2502, 2342], 3601: [421, 245, 818, 895, 665], 3602: [2125, 872, 630, 2228, 2056], 3603: [2056, 44, 358, 1918, 2173], 3604: [2316, 0, 1741, 29, 469], 3605: [2125, 2198, 2663, 2228, 181], 3606: [245, 421, 91, 1481, 2125], 3607: [2364, 1151, 435, 676, 2125], 3608: [0, 1393, 2316, 926, 1711], 3609: [274, 1393, 0, 1297, 295], 3610: [561, 1674, 87, 285, 2009], 3611: [1155, 991, 118, 665, 895], 3612: [91, 2125, 1481, 274, 470], 3613: [44, 1186, 888, 232, 630], 3614: [2018, 875, 2056, 1481, 2316], 3615: [484, 939, 919, 672, 663], 3616: [889, 630, 906, 878, 874], 3617: [889, 878, 906, 874, 435], 3618: [1427, 1517, 268, 817, 1184], 3619: [2125, 2056, 2663, 2228, 2534], 3620: [2663, 2793, 630, 91, 1481], 3621: [676, 435, 914, 665, 666], 3622: [665, 1186, 875, 630, 661], 3623: [666, 2555, 944, 1610, 682], 3624: [2056, 1918, 2198, 676, 883], 3625: [91, 358, 2342, 245, 1179], 3626: [1016, 1456, 2793, 1445, 985], 3627: [630, 2125, 2228, 899, 872], 3628: [2125, 2228, 2056, 2198, 2663], 3629: [665, 675, 884, 630, 872], 3630: [2125, 630, 91, 1918, 874], 3631: [91, 874, 876, 886, 1481], 3632: [2009, 2000, 2056, 181, 2228], 3633: [630, 958, 872, 876, 1016], 3634: [2793, 91, 1481, 2663, 922], 3635: [666, 665, 652, 719, 944], 3636: [473, 44, 2056, 1186, 630], 3637: [2228, 2125, 2056, 181, 2198], 3638: [1774, 2018, 833, 2056, 886], 3639: [2018, 2009, 2000, 181, 1741], 3640: [2897, 630, 2534, 2663, 44], 3641: [811, 924, 885, 893, 2611], 3642: [0, 469, 2316, 274, 421], 3643: [1918, 470, 1481, 91, 358], 3644: [232, 1186, 44, 484, 888], 3645: [874, 906, 889, 1918, 876], 3646: [435, 676, 889, 878, 883], 3647: [874, 630, 876, 665, 872], 3648: [91, 2663, 87, 1481, 2009], 3649: [2087, 922, 960, 818, 1234], 3650: [630, 958, 1459, 771, 2191], 3651: [1186, 44, 915, 435, 810], 3652: [524, 1918, 1864, 1110, 1151], 3653: [435, 473, 44, 872, 484], 3654: [1918, 833, 886, 874, 2823], 3655: [421, 245, 473, 44, 1186], 3656: [630, 958, 2125, 872, 484], 3657: [91, 470, 2663, 379, 1918], 3658: [676, 889, 883, 916, 891], 3659: [2125, 232, 2663, 421, 1481], 3660: [470, 889, 878, 1918, 435], 3661: [1016, 876, 889, 958, 878], 3662: [1987, 916, 676, 891, 889], 3663: [1179, 949, 2421, 358, 876], 3664: [875, 665, 2125, 876, 1774], 3665: [878, 889, 1918, 874, 435], 3666: [876, 874, 630, 886, 1016], 3667: [2316, 0, 475, 281, 469], 3668: [1186, 665, 484, 44, 473], 3669: [91, 2009, 893, 811, 630], 3670: [958, 630, 902, 2663, 2125], 3671: [1918, 2663, 886, 876, 833], 3672: [91, 2079, 922, 118, 379], 3673: [2125, 872, 630, 1481, 421], 3674: [630, 876, 874, 875, 665], 3675: [0, 958, 2725, 1741, 469], 3676: [435, 676, 2364, 877, 1918], 3677: [2056, 1031, 473, 2603, 1456], 3678: [435, 676, 878, 1918, 906], 3679: [1179, 358, 2056, 2175, 118], 3680: [421, 245, 895, 872, 1429], 3681: [2342, 2663, 91, 2793, 245], 3682: [665, 657, 652, 912, 653], 3683: [666, 915, 898, 196, 928], 3684: [886, 2663, 1741, 876, 1481], 3685: [196, 1233, 2590, 2897, 810], 3686: [630, 872, 473, 958, 484], 3687: [245, 118, 473, 274, 421], 3688: [630, 675, 872, 914, 884], 3689: [1393, 274, 15, 473, 44], 3690: [2009, 2198, 1393, 1864, 1718], 3691: [2663, 2198, 44, 2823, 2056], 3692: [876, 889, 921, 1016, 421], 3693: [44, 657, 1186, 656, 666], 3694: [421, 245, 1481, 1774, 875], 3695: [232, 875, 484, 44, 1186], 3696: [0, 2316, 29, 484, 1481], 3697: [876, 886, 874, 949, 833], 3698: [2228, 2056, 2198, 2125, 181], 3699: [665, 884, 675, 666, 661], 3700: [91, 421, 245, 1255, 1481], 3701: [876, 874, 421, 886, 1481], 3702: [676, 435, 1918, 877, 889], 3703: [958, 902, 2792, 2725, 630], 3704: [484, 232, 993, 473, 44], 3705: [2639, 2276, 2607, 735, 2501], 3706: [2175, 2079, 875, 2018, 2087], 3707: [44, 1186, 810, 232, 484], 3708: [1481, 91, 922, 2125, 630], 3709: [274, 421, 245, 1297, 91], 3710: [2009, 1110, 931, 2000, 87], 3711: [1918, 470, 2316, 1481, 473], 3712: [876, 875, 949, 874, 1918], 3713: [960, 477, 433, 10, 2175], 3714: [2125, 484, 232, 44, 1186], 3715: [2364, 1575, 2055, 2823, 1772], 3716: [1481, 91, 888, 232, 87], 3717: [245, 2087, 2056, 421, 2175], 3718: [899, 909, 484, 92, 915], 3719: [2056, 2228, 2125, 2009, 2000], 3720: [421, 29, 1255, 16, 245], 3721: [2125, 484, 232, 888, 2228], 3722: [921, 1445, 1456, 1453, 889], 3723: [2056, 2018, 2009, 2000, 181], 3724: [274, 0, 2725, 469, 902], 3725: [2663, 1481, 245, 421, 2125], 3726: [2364, 875, 2316, 2018, 991], 3727: [2125, 91, 924, 885, 630], 3728: [2056, 2009, 2018, 2663, 2000], 3729: [1670, 911, 1255, 245, 1718], 3730: [874, 91, 886, 1481, 876], 3731: [435, 676, 878, 889, 916], 3732: [665, 657, 672, 661, 915], 3733: [2125, 232, 484, 245, 888], 3734: [630, 2056, 1016, 872, 2663], 3735: [1023, 947, 1512, 2087, 898], 3736: [91, 1481, 379, 245, 421], 3737: [876, 875, 421, 630, 1481], 3738: [2316, 2018, 931, 875, 2087], 3739: [421, 245, 665, 872, 473], 3740: [421, 245, 1481, 872, 2125], 3741: [1918, 470, 875, 358, 1481], 3742: [1918, 470, 906, 874, 886], 3743: [91, 1481, 274, 421, 470], 3744: [2125, 872, 245, 2228, 473], 3745: [2009, 2000, 1741, 1919, 2062], 3746: [922, 2648, 811, 1435, 91], 3747: [2125, 2056, 2228, 1774, 473], 3748: [2079, 2175, 922, 2087, 2018], 3749: [926, 1393, 0, 1205, 275], 3750: [875, 2316, 2087, 2125, 2018], 3751: [665, 719, 673, 1774, 876], 3752: [421, 0, 245, 29, 2316], 3753: [1481, 245, 421, 473, 91], 3754: [1738, 900, 2648, 906, 1223], 3755: [665, 245, 872, 2125, 421], 3756: [281, 469, 0, 118, 876], 3757: [473, 44, 358, 470, 1918], 3758: [473, 245, 2125, 484, 232], 3759: [1393, 1110, 2009, 2000, 274], 3760: [1016, 958, 889, 876, 630], 3761: [874, 435, 878, 876, 886], 3762: [889, 1987, 891, 1686, 718], 3763: [875, 876, 874, 1918, 922], 3764: [675, 884, 872, 665, 912], 3765: [1774, 2056, 274, 421, 245], 3766: [433, 477, 1294, 274, 342], 3767: [2125, 1724, 91, 1774, 2228], 3768: [1186, 2663, 44, 2228, 2198], 3769: [1060, 2526, 947, 1773, 394], 3770: [2125, 1774, 2228, 868, 875], 3771: [1016, 1445, 1746, 1686, 876], 3772: [470, 379, 1918, 91, 1151], 3773: [2079, 2087, 2725, 872, 939], 3774: [245, 44, 473, 232, 484], 3775: [2316, 0, 939, 926, 2725], 3776: [2175, 2079, 922, 801, 1023], 3777: [876, 875, 874, 886, 630], 3778: [888, 630, 15, 1207, 473], 3779: [16, 665, 1774, 673, 960], 3780: [435, 1575, 818, 874, 886], 3781: [91, 1255, 245, 421, 473], 3782: [2175, 922, 2087, 875, 1023], 3783: [2125, 2079, 922, 1481, 484], 3784: [421, 245, 1481, 29, 274], 3785: [1918, 874, 2823, 2663, 470], 3786: [484, 2125, 232, 473, 245], 3787: [876, 874, 630, 875, 886], 3788: [875, 876, 960, 922, 874], 3789: [44, 1186, 810, 630, 484], 3790: [435, 676, 877, 883, 889], 3791: [421, 2125, 245, 1255, 232], 3792: [2793, 2911, 703, 2613, 1670], 3793: [2009, 2000, 1110, 87, 591], 3794: [2125, 2228, 181, 2009, 2198], 3795: [2125, 91, 245, 922, 1481], 3796: [2502, 958, 902, 872, 630], 3797: [874, 876, 886, 875, 630], 3798: [630, 44, 484, 232, 1186], 3799: [2364, 931, 991, 435, 1005], 3800: [876, 1016, 771, 949, 874], 3801: [1445, 1456, 985, 921, 983], 3802: [2897, 2663, 2793, 2613, 2936], 3803: [630, 958, 876, 1016, 872], 3804: [891, 718, 939, 1456, 1445], 3805: [2056, 473, 44, 657, 889], 3806: [1445, 1456, 985, 983, 718], 3807: [718, 1456, 889, 2125, 1445], 3808: [2611, 924, 810, 906, 15], 3809: [874, 876, 906, 878, 886], 3810: [630, 1481, 421, 665, 914], 3811: [876, 906, 874, 889, 630], 3812: [1918, 874, 886, 1481, 470], 3813: [421, 872, 245, 884, 665], 3814: [630, 2125, 958, 872, 876], 3815: [875, 892, 876, 1459, 958], 3816: [892, 2175, 763, 949, 2526], 3817: [91, 1481, 470, 421, 379], 3818: [2663, 1741, 2009, 1481, 2316], 3819: [874, 1918, 886, 1481, 876], 3820: [470, 1918, 906, 878, 379], 3821: [913, 675, 887, 928, 1610], 3822: [630, 872, 484, 232, 92], 3823: [2719, 2278, 933, 946, 2188], 3824: [2611, 2378, 2188, 2853, 2257], 3825: [675, 885, 657, 884, 703], 3826: [2125, 484, 232, 2228, 888], 3827: [473, 44, 484, 232, 2056], 3828: [878, 889, 435, 906, 874], 3829: [197, 634, 246, 1651, 2736], 3830: [44, 1186, 484, 232, 245], 3831: [2056, 473, 245, 44, 1918], 3832: [872, 484, 245, 899, 421], 3833: [44, 2228, 1186, 666, 875], 3834: [254, 281, 1718, 176, 87], 3835: [2125, 484, 232, 2228, 44], 3836: [421, 1774, 1481, 274, 2056], 3837: [872, 630, 473, 245, 484], 3838: [2125, 2228, 2354, 2663, 2590], 3839: [561, 358, 1918, 245, 1481], 3840: [875, 2087, 922, 245, 931], 3841: [478, 1621, 2378, 860, 2504], 3842: [939, 1588, 891, 1972, 663], 3843: [274, 433, 477, 1393, 0], 3844: [921, 1016, 1456, 891, 1445], 3845: [876, 875, 874, 421, 2316], 3846: [2079, 1023, 922, 2175, 801], 3847: [874, 886, 875, 893, 878], 3848: [2125, 245, 473, 484, 872], 3849: [435, 878, 889, 676, 906], 3850: [2198, 1718, 1272, 44, 1926], 3851: [2228, 2125, 2198, 181, 1724], 3852: [872, 2125, 665, 421, 630], 3853: [2125, 876, 875, 1016, 2228], 3854: [473, 245, 44, 232, 1481], 3855: [1918, 2056, 470, 358, 473], 3856: [470, 1918, 886, 676, 874], 3857: [2079, 1393, 181, 2175, 1110], 3858: [672, 667, 1415, 665, 763], 3859: [91, 1918, 470, 1481, 379], 3860: [91, 1481, 886, 274, 2663], 3861: [2125, 91, 245, 1481, 232], 3862: [2316, 0, 421, 29, 1774], 3863: [470, 1918, 91, 379, 358], 3864: [675, 657, 884, 665, 661], 3865: [2125, 2228, 1774, 2663, 2354], 3866: [666, 2056, 1186, 44, 665], 3867: [875, 876, 2125, 874, 886], 3868: [473, 1918, 44, 2056, 245], 3869: [2056, 2125, 1741, 2009, 2000], 3870: [2125, 2663, 2897, 2590, 2534], 3871: [1393, 1110, 2009, 2000, 181], 3872: [2056, 2228, 2125, 473, 44], 3873: [421, 1481, 274, 245, 91], 3874: [889, 878, 906, 874, 435], 3875: [2316, 1741, 2056, 2018, 2364], 3876: [421, 245, 2125, 484, 232], 3877: [630, 876, 872, 912, 899], 3878: [630, 924, 811, 885, 893], 3879: [630, 2056, 2228, 958, 44], 3880: [245, 473, 872, 2125, 421], 3881: [1393, 1110, 181, 1773, 2418], 3882: [888, 232, 993, 484, 31], 3883: [2125, 2228, 1774, 1937, 2056], 3884: [947, 1512, 1773, 129, 188], 3885: [435, 928, 944, 2736, 666], 3886: [676, 1918, 484, 473, 2056], 3887: [2316, 2055, 29, 2198, 2228], 3888: [665, 675, 657, 884, 915], 3889: [891, 630, 1016, 92, 872], 3890: [2056, 2228, 2079, 2125, 181], 3891: [2125, 484, 473, 44, 630], 3892: [666, 881, 875, 719, 923], 3893: [2897, 2792, 2590, 2936, 2613], 3894: [875, 876, 895, 872, 2087], 3895: [16, 1774, 275, 433, 620], 3896: [91, 1481, 889, 470, 878], 3897: [630, 872, 876, 884, 912], 3898: [665, 421, 872, 245, 884], 3899: [2228, 2125, 181, 1937, 2198], 3900: [2125, 875, 274, 1459, 960], 3901: [2125, 2228, 2009, 181, 2198], 3902: [876, 949, 1553, 936, 2193], 3903: [1016, 771, 876, 630, 1422], 3904: [0, 2316, 274, 1918, 469], 3905: [630, 874, 876, 886, 1918], 3906: [91, 630, 1016, 1422, 771], 3907: [274, 433, 1393, 1297, 477], 3908: [1186, 899, 484, 1687, 926], 3909: [2228, 2056, 181, 2125, 2198], 3910: [1774, 1481, 719, 875, 881], 3911: [875, 892, 2228, 876, 2175], 3912: [630, 1186, 665, 876, 915], 3913: [274, 91, 1393, 1481, 0], 3914: [889, 906, 878, 470, 1918], 3915: [2125, 2056, 2228, 1481, 2663], 3916: [877, 2198, 883, 921, 874], 3917: [358, 473, 274, 1186, 292], 3918: [2056, 2018, 2228, 2198, 666], 3919: [2316, 2534, 2663, 2056, 2792], 3920: [2125, 2056, 2228, 1481, 1741], 3921: [245, 421, 1255, 274, 473], 3922: [874, 886, 91, 1918, 2009], 3923: [676, 916, 955, 435, 877], 3924: [44, 657, 473, 1186, 915], 3925: [2056, 2125, 2228, 2198, 181], 3926: [2056, 630, 44, 2228, 1186], 3927: [274, 91, 1179, 1297, 1670], 3928: [470, 1918, 2125, 379, 91], 3929: [2648, 1223, 1025, 91, 2627], 3930: [719, 665, 666, 653, 661], 3931: [666, 435, 1186, 1774, 665], 3932: [958, 818, 876, 630, 902], 3933: [245, 473, 421, 872, 484], 3934: [2018, 2364, 875, 931, 2316], 3935: [1186, 44, 484, 926, 958], 3936: [1774, 421, 245, 2056, 274], 3937: [91, 470, 922, 875, 1918], 3938: [2125, 2228, 2663, 1774, 1724], 3939: [630, 872, 876, 92, 665], 3940: [29, 0, 2316, 196, 954], 3941: [91, 470, 379, 1481, 1918], 3942: [921, 810, 891, 232, 885], 3943: [29, 274, 1774, 1297, 926], 3944: [2087, 2175, 1023, 922, 960], 3945: [672, 703, 770, 872, 667], 3946: [875, 960, 245, 2175, 926], 3947: [676, 889, 2583, 891, 883], 3948: [2079, 939, 801, 2087, 663], 3949: [1481, 421, 91, 914, 274], 3950: [2125, 1774, 274, 2228, 2009], 3951: [876, 949, 874, 875, 1918], 3952: [2125, 274, 91, 1481, 1151], 3953: [875, 874, 876, 949, 1918], 3954: [874, 1918, 886, 470, 906], 3955: [561, 267, 2421, 9, 1000], 3956: [2125, 2228, 1774, 2056, 2663], 3957: [471, 91, 274, 665, 811], 3958: [0, 274, 421, 29, 2316], 3959: [2897, 2793, 2663, 2613, 2534], 3960: [922, 91, 245, 1481, 473], 3961: [718, 889, 1987, 1686, 676], 3962: [876, 906, 771, 949, 874], 3963: [421, 884, 672, 653, 914], 3964: [630, 2191, 1422, 876, 958], 3965: [630, 1481, 2663, 5, 771], 3966: [421, 1481, 245, 0, 2316], 3967: [245, 2125, 421, 1255, 232], 3968: [561, 358, 470, 1179, 91], 3969: [2125, 2228, 2354, 2198, 2663], 3970: [2056, 44, 473, 1193, 2342], 3971: [1393, 1110, 790, 1297, 2125], 3972: [2125, 2056, 2228, 2009, 2000], 3973: [2125, 2228, 2056, 1937, 181], 3974: [2316, 421, 0, 1186, 44], 3975: [876, 771, 0, 1016, 2087], 3976: [1724, 421, 1429, 245, 1774], 3977: [44, 473, 245, 484, 232], 3978: [889, 630, 1481, 878, 435], 3979: [2316, 0, 475, 469, 281], 3980: [1016, 1031, 1445, 921, 1456], 3981: [665, 884, 675, 912, 657], 3982: [665, 421, 274, 673, 886], 3983: [1774, 274, 275, 875, 665], 3984: [91, 1481, 470, 1918, 1032], 3985: [1774, 484, 16, 2125, 2228], 3986: [2125, 1393, 2009, 2228, 181], 3987: [2125, 2228, 2663, 2198, 2009], 3988: [274, 477, 433, 1393, 1294], 3989: [960, 421, 16, 1429, 274], 3990: [939, 875, 876, 421, 2018], 3991: [2125, 2056, 2228, 2009, 2198], 3992: [1459, 821, 936, 892, 949], 3993: [181, 2125, 2009, 1864, 1110], 3994: [931, 1151, 2079, 676, 2364], 3995: [1918, 470, 379, 2056, 358], 3996: [1918, 470, 874, 379, 1151], 3997: [295, 876, 561, 1387, 9], 3998: [718, 1686, 1456, 1445, 1987], 3999: [630, 1016, 1459, 872, 473], 4000: [889, 470, 1016, 1686, 1456], 4001: [477, 433, 274, 2420, 10], 4002: [630, 876, 1016, 958, 874], 4003: [915, 928, 666, 1186, 2555], 4004: [561, 379, 1151, 1739, 267], 4005: [771, 2793, 960, 1459, 2534], 4006: [1918, 906, 1151, 991, 874], 4007: [274, 421, 1481, 2793, 2316], 4008: [2793, 2897, 2663, 2613, 2936], 4009: [921, 1456, 421, 891, 1016], 4010: [2018, 2056, 181, 1741, 2009], 4011: [473, 245, 421, 921, 891], 4012: [874, 886, 1918, 1481, 876], 4013: [91, 1918, 470, 1481, 379], 4014: [2009, 2018, 874, 274, 886], 4015: [657, 884, 665, 675, 672], 4016: [2378, 933, 946, 923, 358], 4017: [2228, 2125, 2056, 1937, 2198], 4018: [1179, 876, 949, 2421, 771], 4019: [891, 675, 657, 872, 884], 4020: [876, 874, 906, 886, 949], 4021: [2257, 944, 919, 2610, 930], 4022: [2056, 435, 666, 676, 473], 4023: [889, 939, 1016, 2056, 921], 4024: [2125, 2009, 181, 2000, 2198], 4025: [2897, 2590, 2663, 2793, 2534], 4026: [91, 232, 44, 2125, 181], 4027: [435, 889, 676, 874, 906], 4028: [1393, 20, 1110, 343, 591], 4029: [872, 630, 899, 672, 884], 4030: [630, 876, 1016, 874, 906], 4031: [1456, 1445, 1016, 921, 891], 4032: [91, 949, 876, 908, 1614], 4033: [2175, 1651, 875, 960, 447], 4034: [872, 876, 630, 2087, 473], 4035: [91, 2125, 470, 1481, 379], 4036: [274, 1481, 1393, 926, 1297], 4037: [665, 2125, 661, 872, 719], 4038: [2125, 872, 421, 245, 665], 4039: [2663, 876, 2792, 2823, 875], 4040: [484, 232, 44, 473, 888], 4041: [935, 596, 59, 1434, 718], 4042: [2056, 1774, 1724, 1186, 2663], 4043: [91, 274, 1481, 1774, 421], 4044: [2056, 1774, 666, 2228, 2125], 4045: [2663, 630, 473, 872, 2793], 4046: [2125, 630, 484, 232, 872], 4047: [470, 1918, 379, 358, 1179], 4048: [763, 1380, 672, 1912, 760], 4049: [2752, 1883, 1985, 2627, 1005], 4050: [630, 473, 1016, 872, 889], 4051: [2125, 872, 245, 891, 421], 4052: [2125, 91, 2663, 2590, 2354], 4053: [630, 883, 2135, 232, 484], 4054: [930, 2611, 916, 2380, 2602], 4055: [91, 1481, 232, 274, 1255], 4056: [1481, 421, 2316, 2663, 2792], 4057: [958, 902, 630, 0, 2316], 4058: [1670, 245, 91, 2175, 1255], 4059: [2079, 922, 2125, 2087, 2175], 4060: [473, 921, 245, 2056, 876], 4061: [630, 2663, 2793, 876, 874], 4062: [44, 2342, 1193, 2056, 497], 4063: [421, 1481, 245, 473, 2342], 4064: [2316, 2055, 0, 1741, 29], 4065: [906, 889, 878, 435, 470], 4066: [473, 245, 91, 1481, 2125], 4067: [2056, 1741, 1774, 2316, 1724], 4068: [2056, 1774, 666, 2018, 2228], 4069: [2590, 2897, 2663, 875, 2792], 4070: [1918, 630, 470, 44, 889], 4071: [91, 274, 1481, 2125, 2079], 4072: [245, 473, 118, 274, 993], 4073: [1481, 91, 421, 908, 811], 4074: [1186, 44, 421, 245, 274], 4075: [473, 44, 245, 484, 232], 4076: [245, 1255, 421, 118, 473], 4077: [875, 931, 886, 960, 2364], 4078: [245, 421, 811, 888, 1023], 4079: [933, 2188, 2611, 923, 946], 4080: [630, 876, 1481, 874, 886], 4081: [245, 421, 2087, 875, 876], 4082: [245, 2056, 1774, 421, 473], 4083: [944, 684, 666, 930, 2480], 4084: [2897, 872, 630, 661, 2125], 4085: [2793, 2634, 2663, 911, 2911], 4086: [0, 1741, 2316, 469, 281], 4087: [2056, 2009, 2000, 2018, 2198], 4088: [2198, 2354, 2228, 2125, 2168], 4089: [2663, 91, 419, 2793, 2342], 4090: [958, 902, 630, 937, 2502], 4091: [2125, 2079, 872, 2228, 922], 4092: [2175, 960, 801, 1023, 2087], 4093: [473, 2056, 921, 939, 891], 4094: [1481, 2793, 470, 1918, 2342], 4095: [2663, 2125, 2056, 358, 1918], 4096: [876, 875, 0, 672, 630], 4097: [2125, 245, 1481, 421, 473], 4098: [630, 1016, 2191, 1422, 876], 4099: [2125, 630, 484, 872, 245], 4100: [876, 630, 958, 1016, 2191], 4101: [91, 1481, 470, 2663, 1918], 4102: [1445, 921, 1456, 891, 985], 4103: [872, 245, 421, 888, 895], 4104: [1918, 889, 906, 470, 876], 4105: [2009, 1393, 1110, 2000, 1697], 4106: [0, 2316, 274, 29, 926], 4107: [2125, 875, 876, 874, 630], 4108: [245, 421, 884, 872, 665], 4109: [889, 906, 878, 435, 874], 4110: [665, 675, 657, 884, 915], 4111: [1481, 91, 421, 274, 811], 4112: [939, 2018, 926, 0, 1016], 4113: [630, 958, 876, 902, 1459], 4114: [630, 889, 878, 1481, 893], 4115: [1005, 342, 991, 1465, 1783], 4116: [2056, 2342, 44, 2534, 1186], 4117: [2125, 44, 232, 2663, 2198], 4118: [473, 2087, 245, 0, 872], 4119: [1774, 958, 1186, 2228, 2056], 4120: [2175, 2079, 2018, 2087, 1023], 4121: [889, 676, 1686, 916, 1987], 4122: [630, 2125, 1773, 2228, 1687], 4123: [473, 245, 484, 921, 891], 4124: [2009, 931, 886, 2000, 874], 4125: [245, 2125, 473, 2056, 484], 4126: [1918, 379, 875, 2823, 2316], 4127: [1918, 470, 1151, 379, 874], 4128: [2125, 2079, 91, 922, 484], 4129: [872, 884, 665, 675, 912], 4130: [2191, 771, 2193, 876, 2192], 4131: [889, 878, 874, 886, 1481], 4132: [2663, 833, 2009, 1741, 2056], 4133: [0, 2316, 29, 926, 274], 4134: [665, 675, 630, 884, 872], 4135: [2663, 2056, 2534, 2228, 2198], 4136: [944, 666, 2555, 913, 661], 4137: [947, 2175, 1023, 926, 801], 4138: [874, 886, 435, 1918, 931], 4139: [1724, 1774, 421, 864, 2152], 4140: [471, 811, 2188, 2611, 933], 4141: [421, 1481, 245, 993, 1255], 4142: [874, 889, 630, 876, 906], 4143: [876, 874, 906, 889, 886], 4144: [1481, 874, 435, 91, 878], 4145: [2056, 2534, 2018, 2663, 1724], 4146: [1481, 421, 91, 893, 630], 4147: [91, 876, 949, 1179, 470], 4148: [876, 91, 1918, 470, 1179], 4149: [2056, 2316, 1774, 421, 0], 4150: [872, 630, 937, 933, 885], 4151: [2228, 2125, 630, 1937, 2056], 4152: [630, 872, 937, 92, 885], 4153: [1151, 0, 295, 561, 1481], 4154: [421, 245, 473, 1255, 665], 4155: [473, 245, 484, 872, 676], 4156: [1481, 630, 232, 888, 91], 4157: [2125, 2228, 1774, 1937, 2018], 4158: [421, 1481, 245, 876, 874], 4159: [421, 245, 1481, 0, 473], 4160: [916, 676, 955, 435, 889], 4161: [2590, 1186, 1384, 2125, 2663], 4162: [2125, 1255, 274, 1297, 245], 4163: [1774, 2056, 2018, 2228, 2125], 4164: [435, 1918, 874, 931, 676], 4165: [2228, 1937, 2125, 1773, 181], 4166: [770, 475, 91, 760, 281], 4167: [939, 902, 915, 937, 676], 4168: [2125, 484, 421, 245, 16], 4169: [720, 678, 1943, 1566, 2296], 4170: [872, 630, 245, 884, 665], 4171: [274, 2125, 1297, 1393, 473], 4172: [2125, 421, 245, 232, 473], 4173: [358, 91, 1179, 470, 1918], 4174: [435, 676, 666, 915, 883], 4175: [2175, 2079, 2648, 1223, 2389], 4176: [676, 889, 435, 2583, 906], 4177: [1016, 876, 921, 939, 889], 4178: [274, 421, 1774, 433, 16], 4179: [665, 1186, 484, 2125, 661], 4180: [2125, 2663, 661, 2056, 379], 4181: [274, 433, 1774, 477, 1393], 4182: [1918, 2823, 470, 2125, 874], 4183: [5, 447, 810, 888, 1918], 4184: [2897, 2793, 2792, 2663, 2936], 4185: [1445, 1456, 921, 1016, 983], 4186: [672, 2055, 942, 675, 421], 4187: [665, 666, 675, 661, 657], 4188: [2663, 2793, 2823, 1481, 2534], 4189: [665, 675, 657, 666, 928], 4190: [1774, 886, 874, 274, 875], 4191: [2056, 2316, 245, 421, 473], 4192: [2342, 2056, 2534, 44, 473], 4193: [1186, 435, 676, 665, 44], 4194: [2125, 2228, 1937, 245, 232], 4195: [675, 884, 665, 657, 666], 4196: [891, 872, 884, 630, 939], 4197: [1481, 91, 274, 2316, 421], 4198: [889, 1456, 921, 1445, 718], 4199: [421, 1774, 245, 2125, 1481], 4200: [470, 1918, 435, 889, 676], 4201: [875, 874, 876, 2823, 886], 4202: [876, 874, 630, 875, 886], 4203: [1481, 421, 232, 888, 245], 4204: [889, 1016, 906, 630, 878], 4205: [2316, 1741, 2018, 2364, 2056], 4206: [475, 281, 474, 0, 763], 4207: [895, 876, 874, 884, 951], 4208: [1774, 16, 665, 673, 719], 4209: [2056, 2228, 2125, 2198, 1724], 4210: [435, 1918, 991, 676, 1155], 4211: [630, 958, 2125, 811, 2853], 4212: [91, 1481, 2188, 2278, 2719], 4213: [1459, 1179, 771, 267, 2421], 4214: [2663, 421, 2534, 2897, 2125], 4215: [2087, 1023, 947, 245, 888], 4216: [2316, 2663, 2534, 2793, 1741], 4217: [91, 245, 1481, 2056, 274], 4218: [274, 433, 477, 886, 1994], 4219: [676, 916, 470, 889, 435], 4220: [926, 1205, 275, 1393, 1546], 4221: [665, 675, 915, 657, 928], 4222: [421, 245, 872, 895, 665], 4223: [1155, 818, 874, 2583, 245], 4224: [666, 657, 763, 653, 667], 4225: [888, 232, 1687, 484, 196], 4226: [2316, 2056, 1741, 1774, 2018], 4227: [939, 2502, 1987, 1421, 891], 4228: [473, 245, 44, 484, 2056], 4229: [2125, 1393, 274, 1297, 1110], 4230: [2793, 2663, 2897, 2792, 2534], 4231: [1481, 0, 421, 245, 876], 4232: [2056, 1774, 2228, 2316, 1741], 4233: [630, 876, 958, 899, 902], 4234: [875, 665, 939, 672, 663], 4235: [245, 2125, 2342, 473, 421], 4236: [2056, 2018, 1741, 1774, 666], 4237: [2056, 0, 358, 1179, 2316], 4238: [2611, 2648, 1686, 916, 955], 4239: [889, 676, 435, 878, 906], 4240: [876, 875, 949, 771, 874], 4241: [2056, 2316, 2364, 666, 1918], 4242: [91, 1151, 379, 295, 1481], 4243: [876, 949, 630, 771, 2191], 4244: [2316, 1741, 2056, 2364, 2055], 4245: [676, 435, 889, 916, 878], 4246: [2125, 875, 958, 1481, 630], 4247: [676, 874, 991, 435, 1918], 4248: [91, 1481, 358, 876, 1179], 4249: [44, 473, 2056, 358, 1186], 4250: [2421, 267, 1032, 1168, 1178], 4251: [44, 245, 484, 473, 1186], 4252: [44, 473, 358, 2056, 470], 4253: [914, 954, 1481, 435, 933], 4254: [2079, 2175, 2087, 922, 931], 4255: [665, 675, 884, 672, 653], 4256: [44, 657, 665, 473, 915], 4257: [1774, 433, 477, 16, 274], 4258: [892, 2725, 2191, 763, 2526], 4259: [2125, 2663, 2534, 2228, 2793], 4260: [91, 274, 2079, 939, 2018], 4261: [949, 936, 9, 2193, 1179], 4262: [2792, 875, 2663, 421, 2823], 4263: [2228, 181, 2125, 1937, 2009], 4264: [91, 1481, 274, 2793, 1263], 4265: [763, 892, 949, 1523, 936], 4266: [2056, 2534, 2663, 2232, 2009], 4267: [2125, 2228, 181, 1937, 2056], 4268: [770, 667, 930, 1415, 763], 4269: [799, 931, 2079, 1433, 947], 4270: [2663, 2793, 2897, 2613, 2534], 4271: [902, 923, 2502, 937, 933], 4272: [1918, 435, 889, 878, 991], 4273: [2079, 2725, 939, 902, 2502], 4274: [245, 473, 2056, 2342, 1255], 4275: [2056, 473, 245, 2342, 44], 4276: [91, 1481, 274, 630, 421], 4277: [2294, 890, 2055, 2170, 241], 4278: [1918, 358, 876, 561, 470], 4279: [1016, 1445, 1686, 939, 1746], 4280: [1774, 2316, 2228, 2056, 1937], 4281: [960, 1738, 2283, 1429, 2500], 4282: [630, 958, 1016, 902, 872], 4283: [2079, 875, 2087, 960, 2175], 4284: [561, 9, 267, 379, 1739], 4285: [285, 444, 244, 875, 433], 4286: [630, 958, 937, 872, 672], 4287: [936, 991, 243, 1005, 250], 4288: [876, 874, 886, 908, 906], 4289: [875, 953, 2648, 2175, 936], 4290: [421, 245, 1481, 473, 1255], 4291: [906, 1005, 876, 991, 1918], 4292: [91, 2125, 379, 470, 1481], 4293: [630, 899, 958, 872, 902], 4294: [2316, 0, 1741, 2534, 2056], 4295: [2056, 473, 245, 2125, 872], 4296: [2056, 1774, 1724, 2228, 1741], 4297: [875, 876, 922, 931, 2087], 4298: [947, 875, 922, 1023, 661], 4299: [274, 1263, 2056, 1297, 118], 4300: [1918, 470, 475, 0, 281], 4301: [1481, 421, 91, 908, 811], 4302: [245, 421, 960, 911, 1234], 4303: [1016, 876, 630, 1481, 1421], 4304: [2125, 245, 484, 232, 473], 4305: [2056, 718, 891, 2290, 1031], 4306: [2056, 473, 889, 470, 44], 4307: [2125, 91, 1481, 2663, 922], 4308: [630, 872, 421, 876, 245], 4309: [91, 1481, 2125, 274, 2663], 4310: [44, 1186, 473, 232, 810], 4311: [875, 958, 630, 876, 902], 4312: [810, 921, 44, 232, 1207], 4313: [630, 876, 872, 2125, 874], 4314: [2316, 2792, 2823, 2364, 2534], 4315: [1241, 1918, 245, 118, 1110], 4316: [2125, 473, 484, 232, 2056], 4317: [435, 676, 889, 878, 906], 4318: [630, 473, 274, 91, 872], 4319: [2125, 2056, 872, 245, 473], 4320: [876, 874, 949, 886, 91], 4321: [2590, 2897, 2792, 2534, 2079], 4322: [1429, 118, 703, 1263, 274], 4323: [91, 281, 469, 0, 1481], 4324: [630, 2125, 872, 665, 484], 4325: [2125, 181, 2009, 2228, 2198], 4326: [31, 1255, 245, 421, 118], 4327: [435, 676, 906, 889, 1918], 4328: [630, 1016, 1421, 958, 889], 4329: [2056, 358, 2342, 91, 1481], 4330: [421, 872, 245, 630, 484], 4331: [2663, 630, 876, 875, 2125], 4332: [2125, 2228, 1481, 232, 91], 4333: [916, 676, 435, 991, 955], 4334: [889, 1686, 470, 718, 878], 4335: [274, 128, 421, 1481, 1459], 4336: [433, 477, 274, 1798, 1145], 4337: [921, 1456, 1016, 1445, 891], 4338: [2663, 2793, 2534, 2316, 2823], 4339: [2125, 379, 2663, 1918, 1151], 4340: [44, 232, 484, 1186, 421], 4341: [91, 379, 470, 1151, 1481], 4342: [922, 2079, 1435, 435, 875], 4343: [1393, 44, 274, 1297, 497], 4344: [860, 478, 890, 1968, 1972], 4345: [1415, 667, 652, 655, 669], 4346: [2228, 2125, 1186, 1937, 44], 4347: [2125, 2056, 1918, 274, 2009], 4348: [2663, 245, 2125, 421, 2534], 4349: [657, 630, 891, 665, 44], 4350: [874, 906, 889, 876, 878], 4351: [1918, 91, 874, 886, 2823], 4352: [87, 1110, 145, 874, 0], 4353: [2663, 876, 771, 949, 906], 4354: [2725, 2258, 2257, 937, 923], 4355: [906, 676, 889, 435, 878], 4356: [245, 676, 872, 421, 914], 4357: [475, 770, 281, 469, 763], 4358: [1456, 1016, 1445, 891, 921], 4359: [2056, 2125, 2198, 473, 245], 4360: [0, 2316, 1741, 469, 1697], 4361: [44, 0, 473, 1186, 421], 4362: [232, 2125, 888, 810, 484], 4363: [1016, 958, 630, 872, 0], 4364: [876, 874, 421, 875, 1481], 4365: [421, 245, 1481, 665, 274], 4366: [876, 630, 875, 874, 886], 4367: [872, 245, 473, 421, 630], 4368: [1918, 906, 470, 771, 889], 4369: [630, 872, 912, 92, 2125], 4370: [245, 484, 421, 473, 2125], 4371: [1774, 1724, 666, 2663, 16], 4372: [2125, 2228, 2056, 2198, 630], 4373: [719, 891, 923, 914, 665], 4374: [358, 470, 876, 1179, 1918], 4375: [274, 468, 477, 1297, 2603], 4376: [2125, 473, 91, 245, 1481], 4377: [561, 1947, 1134, 1387, 1739], 4378: [2056, 630, 2125, 473, 181], 4379: [874, 245, 473, 274, 1918], 4380: [2056, 2018, 2534, 2663, 2613], 4381: [2125, 630, 2228, 665, 232], 4382: [2125, 232, 484, 2228, 473], 4383: [2125, 2228, 484, 232, 473], 4384: [2648, 91, 1435, 2389, 893], 4385: [2125, 2228, 484, 2056, 232], 4386: [939, 2648, 2018, 2725, 1456], 4387: [667, 1415, 770, 1525, 2723], 4388: [267, 2421, 1178, 2310, 1179], 4389: [630, 872, 2125, 937, 2009], 4390: [295, 561, 1151, 1918, 1000], 4391: [2125, 872, 91, 2663, 1481], 4392: [2009, 2056, 886, 181, 2000], 4393: [2125, 630, 484, 232, 872], 4394: [2009, 2000, 181, 591, 2198], 4395: [91, 1481, 470, 1918, 379], 4396: [44, 245, 1186, 473, 421], 4397: [2056, 2228, 2125, 2009, 2000], 4398: [245, 473, 421, 484, 44], 4399: [0, 2316, 469, 475, 281], 4400: [274, 433, 477, 1263, 421], 4401: [630, 876, 2555, 719, 891], 4402: [473, 245, 421, 872, 630], 4403: [630, 2125, 484, 1186, 1918], 4404: [2198, 2125, 1718, 232, 181], 4405: [630, 665, 872, 675, 912], 4406: [2056, 676, 2364, 2125, 435], 4407: [245, 2198, 2056, 1255, 1718], 4408: [954, 817, 1705, 1424, 703], 4409: [1741, 2009, 181, 2000, 2056], 4410: [245, 473, 484, 872, 421], 4411: [667, 1415, 653, 770, 719], 4412: [2009, 2125, 181, 2000, 2056], 4413: [1774, 2056, 2018, 1724, 666], 4414: [2009, 2000, 1741, 2005, 2056], 4415: [886, 1481, 91, 874, 2663], 4416: [91, 1481, 2125, 893, 922], 4417: [771, 876, 1918, 906, 949], 4418: [899, 675, 915, 928, 909], 4419: [2125, 2663, 2793, 2534, 2009], 4420: [665, 666, 657, 928, 2555], 4421: [2897, 2663, 2793, 2590, 2700], 4422: [91, 2079, 922, 2342, 931], 4423: [473, 630, 44, 484, 872], 4424: [630, 876, 874, 889, 906], 4425: [703, 2056, 1430, 2039, 974], 4426: [663, 899, 666, 652, 926], 4427: [0, 274, 926, 2316, 1393], 4428: [2125, 2018, 2056, 2009, 2000], 4429: [915, 435, 657, 666, 1186], 4430: [2125, 2168, 1724, 1297, 1774], 4431: [872, 484, 2125, 473, 630], 4432: [665, 16, 1774, 960, 661], 4433: [435, 878, 889, 906, 470], 4434: [2125, 2228, 2056, 1937, 630], 4435: [2056, 2198, 2009, 2228, 2125], 4436: [2056, 2228, 2125, 1937, 181], 4437: [771, 2056, 1459, 876, 2057], 4438: [1481, 908, 91, 914, 876], 4439: [2056, 2018, 2009, 1741, 2000], 4440: [922, 2125, 872, 2087, 2079], 4441: [1481, 91, 1918, 470, 379], 4442: [672, 630, 653, 719, 1415], 4443: [2125, 666, 661, 2228, 663], 4444: [2125, 2056, 1741, 2018, 2198], 4445: [2125, 2897, 2590, 2663, 2534], 4446: [2125, 874, 232, 181, 91], 4447: [2555, 944, 1972, 1987, 919], 4448: [2940, 2100, 2806, 2611, 2475], 4449: [2364, 2792, 2316, 2228, 2823], 4450: [676, 435, 916, 2583, 889], 4451: [888, 232, 630, 872, 92], 4452: [2125, 91, 1255, 1233, 2198], 4453: [1918, 470, 2125, 1151, 2056], 4454: [44, 810, 1186, 484, 232], 4455: [2056, 2316, 1774, 2018, 1741], 4456: [484, 0, 44, 475, 232], 4457: [435, 915, 630, 1186, 878], 4458: [2125, 232, 484, 810, 2228], 4459: [421, 2316, 1774, 1773, 1937], 4460: [2125, 2009, 91, 1481, 181], 4461: [1918, 991, 874, 470, 1005], 4462: [2009, 181, 2198, 2228, 2125], 4463: [484, 232, 888, 245, 473], 4464: [663, 902, 661, 665, 899], 4465: [2125, 872, 630, 484, 232], 4466: [630, 876, 958, 2639, 872], 4467: [665, 931, 895, 960, 876], 4468: [665, 673, 421, 657, 661], 4469: [630, 889, 874, 676, 435], 4470: [1179, 931, 1459, 1178, 821], 4471: [2087, 245, 895, 872, 884], 4472: [821, 2421, 2057, 267, 1032], 4473: [902, 958, 876, 630, 1016], 4474: [484, 630, 44, 888, 232], 4475: [1918, 470, 1481, 1151, 435], 4476: [2125, 665, 676, 899, 435], 4477: [2663, 1918, 470, 886, 2056], 4478: [675, 657, 1110, 2228, 1060], 4479: [630, 1016, 958, 876, 2188], 4480: [888, 630, 232, 92, 810], 4481: [2125, 473, 2056, 1918, 358], 4482: [2174, 657, 2304, 703, 1423], 4483: [16, 421, 245, 2125, 433], 4484: [667, 653, 1415, 770, 672], 4485: [2125, 232, 2228, 484, 2198], 4486: [473, 470, 1918, 484, 2125], 4487: [91, 379, 470, 358, 1481], 4488: [2192, 1016, 2191, 2193, 2188], 4489: [2228, 2364, 2125, 181, 2198], 4490: [666, 435, 889, 1186, 676], 4491: [561, 1387, 379, 1918, 243], 4492: [2125, 2228, 1774, 2056, 181], 4493: [661, 666, 665, 657, 682], 4494: [630, 876, 874, 886, 470], 4495: [630, 874, 1918, 886, 906], 4496: [2125, 2056, 473, 1588, 891], 4497: [889, 718, 435, 2056, 1016], 4498: [2663, 2534, 1774, 2793, 2316], 4499: [44, 1186, 232, 473, 810], 4500: [2125, 2228, 2663, 2534, 2354], 4501: [874, 906, 886, 1918, 470], 4502: [872, 885, 630, 92, 924], 4503: [2056, 2228, 2125, 1774, 630], 4504: [2056, 473, 245, 1774, 876], 4505: [473, 274, 91, 1263, 1481], 4506: [933, 881, 923, 2378, 954], 4507: [2125, 91, 232, 630, 44], 4508: [129, 935, 913, 1433, 890], 4509: [274, 473, 630, 885, 245], 4510: [2316, 2257, 2378, 476, 1972], 4511: [1016, 630, 889, 876, 2191], 4512: [908, 1481, 876, 1614, 893], 4513: [473, 2056, 245, 2342, 1255], 4514: [2125, 2056, 2228, 473, 872], 4515: [630, 876, 665, 719, 672], 4516: [232, 872, 888, 484, 630], 4517: [2079, 2087, 2897, 245, 1429], 4518: [484, 232, 44, 2125, 888], 4519: [44, 1186, 484, 630, 473], 4520: [2056, 1016, 921, 630, 889], 4521: [872, 2056, 2125, 473, 484], 4522: [630, 958, 899, 2897, 2792], 4523: [876, 949, 908, 874, 421], 4524: [874, 876, 886, 931, 906], 4525: [421, 1481, 914, 881, 885], 4526: [872, 630, 484, 899, 92], 4527: [2663, 2793, 2897, 2823, 2590], 4528: [2663, 2125, 2534, 1774, 2228], 4529: [1016, 891, 1456, 921, 889], 4530: [1186, 665, 661, 484, 44], 4531: [630, 876, 899, 657, 875], 4532: [1179, 358, 1918, 91, 2056], 4533: [2056, 44, 1186, 473, 2228], 4534: [91, 1481, 1179, 2663, 358], 4535: [876, 630, 1459, 892, 875], 4536: [630, 874, 473, 1918, 886], 4537: [665, 16, 1774, 960, 421], 4538: [245, 473, 421, 872, 665], 4539: [1186, 2125, 484, 44, 473], 4540: [2175, 1023, 2087, 801, 947], 4541: [2316, 0, 1741, 2055, 469], 4542: [2228, 2125, 899, 630, 1937], 4543: [2209, 898, 1705, 1512, 843], 4544: [665, 675, 884, 912, 630], 4545: [91, 1481, 886, 379, 470], 4546: [473, 245, 44, 484, 872], 4547: [2125, 2663, 2228, 2534, 2354], 4548: [2125, 2228, 2198, 181, 2056], 4549: [1031, 274, 2603, 421, 2290], 4550: [2056, 2009, 2000, 2232, 2018], 4551: [484, 232, 888, 630, 92], 4552: [1481, 91, 2125, 421, 245], 4553: [874, 421, 876, 886, 1481], 4554: [874, 876, 818, 676, 665], 4555: [274, 1774, 886, 2125, 874], 4556: [876, 672, 2316, 0, 874], 4557: [2228, 232, 484, 888, 630], 4558: [876, 630, 874, 872, 2056], 4559: [2228, 899, 939, 1774, 2316], 4560: [44, 473, 245, 810, 2056], 4561: [0, 2316, 469, 274, 1741], 4562: [2316, 1937, 1774, 2228, 1773], 4563: [421, 245, 2125, 1481, 484], 4564: [630, 872, 484, 888, 245], 4565: [1186, 2056, 245, 44, 421], 4566: [2316, 2055, 435, 0, 875], 4567: [2228, 2125, 1186, 44, 484], 4568: [1774, 1724, 2056, 1427, 2534], 4569: [561, 91, 358, 1179, 1739], 4570: [2228, 2056, 630, 1186, 44], 4571: [0, 274, 29, 2316, 926], 4572: [475, 1380, 469, 281, 0], 4573: [2125, 872, 914, 630, 661], 4574: [2125, 2228, 232, 484, 245], 4575: [939, 2018, 921, 1016, 876], 4576: [874, 876, 818, 906, 886], 4577: [630, 891, 665, 719, 673], 4578: [15, 790, 5, 2198, 1393], 4579: [653, 667, 666, 1415, 680], 4580: [1774, 2228, 2125, 1937, 29], 4581: [2079, 801, 2175, 1023, 2087], 4582: [876, 874, 875, 886, 949], 4583: [630, 665, 872, 874, 876], 4584: [675, 665, 2555, 657, 928], 4585: [1918, 2056, 2364, 470, 243], 4586: [2228, 181, 2125, 1937, 1773], 4587: [2663, 2125, 91, 2793, 470], 4588: [274, 0, 421, 29, 926], 4589: [29, 899, 0, 875, 926], 4590: [245, 421, 2125, 232, 484], 4591: [876, 672, 875, 949, 1918], 4592: [875, 876, 949, 892, 874], 4593: [2534, 421, 16, 2897, 2343], 4594: [876, 949, 875, 719, 630], 4595: [874, 435, 889, 818, 906], 4596: [875, 922, 421, 960, 876], 4597: [2056, 2018, 833, 2364, 1918], 4598: [661, 630, 675, 665, 657], 4599: [0, 2316, 875, 672, 1774], 4600: [874, 630, 886, 1918, 889], 4601: [1481, 379, 91, 561, 1918], 4602: [484, 232, 44, 888, 2228], 4603: [876, 875, 630, 874, 949], 4604: [876, 875, 630, 874, 895], 4605: [421, 1255, 245, 31, 2125], 4606: [2125, 1774, 274, 1481, 1741], 4607: [2168, 1937, 2228, 1721, 1724], 4608: [1774, 926, 421, 275, 274], 4609: [2125, 1918, 874, 886, 875], 4610: [875, 1918, 874, 470, 1151], 4611: [16, 433, 477, 1239, 10], 4612: [665, 421, 2663, 661, 2125], 4613: [358, 561, 2056, 1739, 470], 4614: [1186, 915, 44, 657, 928], 4615: [484, 44, 473, 232, 888], 4616: [2125, 484, 232, 473, 630], 4617: [473, 358, 1918, 1186, 44], 4618: [1918, 470, 906, 435, 878], 4619: [16, 1774, 2125, 620, 275], 4620: [2125, 1724, 2198, 2056, 245], 4621: [470, 874, 1918, 886, 878], 4622: [906, 470, 874, 1918, 876], 4623: [2056, 2009, 2018, 1724, 1774], 4624: [2316, 1741, 1774, 2663, 2534], 4625: [931, 470, 1918, 906, 878], 4626: [44, 358, 15, 1179, 1193], 4627: [2079, 801, 2725, 902, 1023], 4628: [2056, 1774, 2534, 1724, 2316], 4629: [2056, 2125, 2228, 1774, 1741], 4630: [2125, 245, 232, 484, 421], 4631: [874, 630, 876, 886, 2056], 4632: [876, 875, 2175, 874, 949], 4633: [2316, 0, 1380, 469, 281], 4634: [630, 421, 665, 1186, 1481], 4635: [2125, 245, 875, 473, 672], 4636: [2663, 2125, 2793, 2009, 2534], 4637: [473, 245, 2056, 872, 0], 4638: [874, 1918, 886, 876, 818], 4639: [2125, 2079, 2590, 922, 2228], 4640: [1918, 470, 876, 874, 358], 4641: [421, 0, 29, 2316, 926], 4642: [874, 876, 886, 630, 906], 4643: [2316, 0, 29, 1741, 2055], 4644: [1186, 2125, 44, 484, 1481], 4645: [657, 2056, 667, 665, 473], 4646: [2125, 245, 421, 473, 484], 4647: [843, 898, 910, 2736, 2776], 4648: [2056, 2009, 666, 2000, 1741], 4649: [421, 1481, 914, 665, 881], 4650: [2056, 245, 473, 2342, 931], 4651: [484, 44, 899, 196, 630], 4652: [484, 473, 872, 630, 44], 4653: [665, 421, 884, 675, 657], 4654: [1774, 2125, 421, 899, 665], 4655: [16, 665, 394, 620, 868], 4656: [473, 0, 245, 44, 2056], 4657: [421, 1481, 473, 245, 1186], 4658: [889, 1016, 878, 0, 876], 4659: [274, 433, 16, 477, 1263], 4660: [922, 1429, 911, 2087, 2175], 4661: [923, 630, 2188, 881, 1179], 4662: [274, 433, 421, 477, 1994], 4663: [877, 883, 1060, 799, 874], 4664: [2125, 2228, 1774, 1937, 2168], 4665: [876, 874, 875, 886, 906], 4666: [2502, 950, 902, 2607, 939], 4667: [630, 872, 665, 44, 92], 4668: [906, 889, 470, 1918, 878], 4669: [2316, 0, 876, 1741, 874], 4670: [435, 676, 1918, 877, 874], 4671: [1918, 470, 1151, 379, 2173], 4672: [666, 2228, 1724, 2056, 2198], 4673: [2663, 2534, 1863, 2342, 1670], 4674: [876, 949, 771, 875, 906], 4675: [665, 2228, 875, 2125, 1186], 4676: [245, 484, 2125, 473, 232], 4677: [630, 958, 1016, 876, 872], 4678: [2228, 2056, 2125, 1937, 1774], 4679: [2056, 1774, 2228, 1724, 2125], 4680: [1687, 1773, 196, 790, 2228], 4681: [2125, 484, 899, 872, 888], 4682: [2907, 2469, 894, 2204, 2792], 4683: [876, 874, 886, 949, 875], 4684: [2125, 484, 630, 872, 232], 4685: [665, 912, 421, 884, 895], 4686: [630, 421, 874, 872, 665], 4687: [473, 2056, 245, 421, 44], 4688: [2018, 2125, 2087, 872, 2056], 4689: [2125, 630, 44, 1918, 2056], 4690: [1918, 889, 874, 886, 470], 4691: [274, 1297, 358, 118, 1263], 4692: [1481, 91, 421, 908, 922], 4693: [421, 1481, 91, 2125, 245], 4694: [665, 630, 675, 657, 914], 4695: [2056, 274, 1774, 2316, 0], 4696: [2663, 2792, 2897, 2793, 2823], 4697: [1741, 886, 2316, 874, 2364], 4698: [2125, 2228, 1774, 1937, 2198], 4699: [1481, 91, 561, 2143, 379], 4700: [672, 874, 876, 875, 886], 4701: [245, 2056, 473, 421, 1774], 4702: [245, 421, 872, 473, 665], 4703: [2125, 2056, 2228, 2198, 2009], 4704: [818, 672, 931, 876, 874], 4705: [274, 469, 673, 1263, 667], 4706: [245, 421, 872, 2125, 473], 4707: [2228, 1774, 1937, 2316, 1773], 4708: [630, 885, 196, 893, 2191], 4709: [922, 876, 875, 245, 895], 4710: [2228, 2056, 2125, 899, 1937], 4711: [1481, 91, 874, 886, 1918], 4712: [630, 872, 884, 912, 672], 4713: [2056, 1774, 2663, 274, 2534], 4714: [675, 665, 884, 872, 899], 4715: [2648, 1393, 790, 1110, 2175], 4716: [2125, 872, 895, 912, 884], 4717: [630, 915, 958, 666, 902], 4718: [2316, 0, 469, 475, 1741], 4719: [1918, 379, 1151, 243, 991], 4720: [2056, 2125, 2228, 1774, 1937], 4721: [2056, 2009, 2000, 181, 2228], 4722: [874, 876, 886, 875, 906], 4723: [2056, 2228, 2125, 872, 899], 4724: [2125, 421, 245, 484, 232], 4725: [1589, 513, 2588, 1, 1434], 4726: [16, 274, 421, 1255, 245], 4727: [2792, 2897, 2534, 2590, 2663], 4728: [447, 91, 893, 2125, 2311], 4729: [421, 245, 16, 1863, 29], 4730: [902, 958, 2725, 2792, 2502], 4731: [875, 876, 1481, 630, 2125], 4732: [1186, 44, 810, 927, 1686], 4733: [874, 876, 875, 421, 886], 4734: [676, 872, 435, 484, 630], 4735: [915, 1186, 44, 928, 484], 4736: [421, 245, 232, 888, 473], 4737: [435, 1023, 906, 875, 947], 4738: [665, 672, 630, 719, 661], 4739: [2316, 876, 949, 0, 874], 4740: [274, 477, 433, 630, 421], 4741: [484, 44, 630, 232, 1186], 4742: [2056, 891, 473, 657, 44], 4743: [665, 666, 675, 2555, 917], 4744: [630, 872, 876, 672, 665], 4745: [245, 895, 872, 2087, 672], 4746: [908, 1481, 91, 876, 421], 4747: [1481, 91, 876, 421, 949], 4748: [274, 1297, 433, 10, 1774], 4749: [2125, 2228, 2056, 1774, 2663], 4750: [1526, 469, 0, 281, 475], 4751: [2228, 2534, 1937, 2792, 1774], 4752: [875, 665, 960, 1774, 876], 4753: [872, 630, 2125, 661, 665], 4754: [2018, 2175, 2389, 2648, 1435], 4755: [421, 1481, 245, 2056, 473], 4756: [2125, 2228, 2056, 1774, 1937], 4757: [245, 872, 421, 2125, 484], 4758: [421, 245, 1255, 473, 1481], 4759: [2125, 630, 484, 872, 2228], 4760: [2125, 630, 2663, 1186, 2056], 4761: [2125, 872, 630, 245, 232], 4762: [872, 884, 665, 675, 245], 4763: [2125, 2228, 484, 232, 872], 4764: [2316, 1774, 0, 421, 29], 4765: [421, 665, 672, 653, 666], 4766: [2125, 2228, 2056, 2198, 1937], 4767: [2316, 1741, 2056, 2055, 0], 4768: [2125, 421, 245, 1481, 484], 4769: [435, 676, 878, 906, 931], 4770: [2125, 1774, 2228, 2056, 1937], 4771: [2168, 895, 776, 1262, 912], 4772: [665, 657, 884, 675, 666], 4773: [2056, 274, 245, 2316, 421], 4774: [1186, 44, 630, 484, 810], 4775: [2056, 2228, 1774, 245, 2125], 4776: [118, 274, 1297, 0, 1255], 4777: [876, 874, 886, 949, 875], 4778: [0, 818, 245, 931, 960], 4779: [665, 421, 884, 914, 675], 4780: [915, 1186, 44, 435, 928], 4781: [421, 876, 874, 665, 630], 4782: [676, 630, 665, 889, 661], 4783: [358, 44, 2056, 1193, 473], 4784: [899, 875, 663, 958, 960], 4785: [16, 1774, 2056, 667, 275], 4786: [1155, 1918, 118, 818, 471], 4787: [2125, 2228, 2897, 2354, 872], 4788: [931, 1151, 2364, 1468, 1784], 4789: [484, 232, 245, 473, 1186], 4790: [2125, 1233, 2354, 630, 585], 4791: [630, 876, 872, 874, 665], 4792: [2125, 1774, 665, 245, 2056], 4793: [2125, 245, 421, 232, 473], 4794: [876, 874, 2316, 875, 931], 4795: [630, 657, 676, 675, 872], 4796: [2228, 2125, 484, 868, 1774], 4797: [274, 0, 433, 477, 926], 4798: [889, 676, 878, 906, 1918], 4799: [2125, 245, 484, 922, 473], 4800: [421, 245, 875, 1481, 91], 4801: [771, 1016, 889, 906, 1918], 4802: [902, 2502, 661, 950, 2725], 4803: [2056, 2125, 1774, 1724, 2228], 4804: [958, 1421, 2501, 630, 2258], 4805: [1774, 2228, 2056, 2125, 1937], 4806: [1476, 991, 1005, 1155, 676], 4807: [876, 665, 630, 874, 672], 4808: [1589, 244, 1434, 1, 1772], 4809: [630, 912, 665, 719, 1415], 4810: [1918, 876, 2823, 874, 875], 4811: [2555, 928, 944, 887, 666], 4812: [44, 810, 1186, 888, 232], 4813: [1774, 16, 275, 433, 394], 4814: [2079, 2175, 922, 2087, 245], 4815: [676, 872, 2583, 675, 883], 4816: [2233, 2534, 1863, 1670, 2366], 4817: [421, 665, 1481, 245, 1774], 4818: [874, 435, 886, 876, 818], 4819: [2626, 2082, 960, 818, 245], 4820: [676, 2897, 872, 2583, 630], 4821: [245, 911, 1255, 421, 1429], 4822: [2079, 922, 2087, 2175, 1023], 4823: [630, 872, 675, 885, 92], 4824: [245, 421, 1481, 922, 872], 4825: [2125, 91, 379, 470, 1918], 4826: [630, 2125, 872, 2056, 876], 4827: [1741, 2056, 2316, 2228, 1774], 4828: [433, 477, 1994, 16, 620], 4829: [1918, 2364, 1151, 1214, 1155], 4830: [2316, 0, 1918, 874, 1741], 4831: [884, 245, 872, 895, 421], 4832: [875, 922, 245, 421, 2175], 4833: [2056, 2316, 876, 874, 2018], 4834: [2056, 2534, 2316, 473, 2663], 4835: [473, 44, 245, 1186, 2056], 4836: [2125, 245, 421, 2228, 872], 4837: [939, 2018, 1462, 1445, 921], 4838: [421, 245, 1255, 1481, 118], 4839: [2056, 2125, 1481, 245, 1774], 4840: [2056, 1774, 2316, 118, 245], 4841: [2228, 630, 2125, 2056, 876], 4842: [2125, 630, 2228, 872, 665], 4843: [872, 895, 884, 912, 1420], 4844: [245, 2056, 473, 421, 1774], 4845: [1774, 16, 868, 275, 665], 4846: [2125, 2228, 2056, 1937, 1774], 4847: [44, 484, 1186, 630, 872], 4848: [876, 1481, 91, 874, 886], 4849: [2018, 1435, 1429, 245, 2056], 4850: [421, 245, 2316, 2056, 473], 4851: [2125, 2663, 2354, 91, 2793], 4852: [421, 914, 933, 954, 1481], 4853: [874, 876, 1481, 91, 886], 4854: [665, 661, 666, 653, 930], 4855: [0, 118, 245, 274, 1918], 4856: [665, 666, 915, 675, 657], 4857: [470, 473, 1918, 358, 91], 4858: [872, 630, 665, 421, 884], 4859: [1774, 875, 274, 960, 421], 4860: [44, 1186, 2056, 484, 473], 4861: [630, 876, 872, 874, 44], 4862: [889, 876, 874, 906, 878], 4863: [0, 2316, 926, 274, 931], 4864: [2316, 0, 1481, 1774, 91], 4865: [884, 675, 872, 2298, 1413], 4866: [2079, 2175, 2725, 931, 960], 4867: [2228, 2526, 181, 1773, 443], 4868: [889, 1918, 676, 435, 2056], 4869: [2125, 2228, 2056, 872, 895], 4870: [630, 661, 676, 665, 872], 4871: [2125, 2056, 2228, 2198, 473], 4872: [470, 358, 379, 1179, 91], 4873: [630, 665, 666, 874, 881], 4874: [484, 44, 630, 1186, 232], 4875: [2125, 421, 245, 484, 2228], 4876: [421, 29, 245, 0, 1481], 4877: [2316, 0, 1741, 2055, 44], 4878: [2316, 0, 1774, 274, 1741], 4879: [657, 653, 661, 656, 665], 4880: [2125, 421, 1774, 245, 2228], 4881: [1774, 2056, 2228, 1724, 421], 4882: [958, 799, 1421, 902, 1016], 4883: [475, 770, 469, 281, 763], 4884: [0, 1481, 274, 2316, 927], 4885: [876, 630, 665, 872, 672], 4886: [2364, 1918, 833, 435, 878], 4887: [1651, 790, 2175, 2626, 911], 4888: [2555, 944, 665, 666, 915], 4889: [1179, 358, 949, 91, 876], 4890: [421, 245, 960, 895, 16], 4891: [2125, 899, 630, 958, 872], 4892: [1918, 470, 1151, 379, 1155], 4893: [1918, 470, 874, 886, 379], 4894: [470, 91, 1918, 379, 874], 4895: [2056, 473, 44, 484, 245], 4896: [2897, 2663, 2793, 2792, 2590], 4897: [1016, 1686, 889, 939, 91], 4898: [891, 630, 1016, 884, 657], 4899: [947, 1023, 44, 1186, 484], 4900: [2056, 2228, 872, 2125, 630], 4901: [470, 876, 906, 379, 889], 4902: [874, 886, 818, 876, 672], 4903: [2125, 484, 473, 232, 872], 4904: [916, 676, 435, 877, 2364], 4905: [421, 245, 872, 895, 1481], 4906: [245, 876, 657, 2056, 358], 4907: [884, 245, 895, 880, 872], 4908: [931, 2316, 2364, 874, 818], 4909: [875, 2087, 1023, 2175, 960], 4910: [874, 886, 1918, 876, 833], 4911: [2125, 1774, 274, 2228, 433], 4912: [2056, 2228, 1774, 2125, 1937], 4913: [2125, 872, 484, 2228, 232], 4914: [0, 421, 274, 29, 245], 4915: [1918, 473, 470, 245, 2056], 4916: [2125, 2228, 1937, 1773, 1774], 4917: [799, 947, 435, 1512, 877], 4918: [2056, 2228, 181, 2018, 2198], 4919: [245, 872, 421, 473, 630], 4920: [666, 665, 2555, 661, 657], 4921: [44, 1186, 2056, 473, 810], 4922: [2175, 44, 181, 2087, 1435], 4923: [2125, 484, 2228, 421, 232], 4924: [421, 245, 665, 888, 484], 4925: [29, 926, 0, 2316, 939], 4926: [0, 2316, 875, 29, 1774], 4927: [29, 118, 421, 245, 1481], 4928: [2125, 484, 899, 630, 2228], 4929: [2125, 666, 665, 2228, 872], 4930: [653, 667, 1415, 719, 672], 4931: [2056, 666, 1774, 2018, 2228], 4932: [2175, 0, 1918, 1651, 1435], 4933: [435, 665, 928, 915, 676], 4934: [421, 2316, 1774, 0, 875], 4935: [2125, 421, 245, 484, 232], 4936: [245, 473, 484, 872, 44], 4937: [2228, 2168, 1724, 2125, 2354], 4938: [2056, 1741, 2009, 2534, 2000], 4939: [421, 908, 875, 960, 1481], 4940: [657, 666, 652, 2555, 944], 4941: [2125, 2228, 484, 245, 2056], 4942: [2583, 676, 818, 916, 1155], 4943: [874, 876, 818, 895, 435], 4944: [435, 676, 874, 906, 889], 4945: [872, 876, 818, 630, 874], 4946: [665, 2555, 652, 657, 666], 4947: [665, 421, 915, 232, 888], 4948: [666, 675, 2298, 703, 880], 4949: [2125, 245, 473, 2228, 2056], 4950: [666, 661, 657, 928, 915], 4951: [2228, 1937, 899, 666, 1774], 4952: [2125, 2228, 1774, 245, 2056], 4953: [473, 44, 484, 993, 232], 4954: [2316, 0, 29, 926, 1774], 4955: [653, 672, 667, 1415, 474], 4956: [630, 2125, 872, 676, 958], 4957: [675, 703, 884, 672, 912], 4958: [672, 653, 675, 884, 703], 4959: [421, 1481, 91, 245, 874], 4960: [2316, 0, 1774, 2228, 29], 4961: [771, 630, 1016, 1614, 274], 4962: [421, 665, 245, 895, 673], 4963: [421, 1481, 245, 274, 91], 4964: [484, 883, 232, 877, 676], 4965: [2125, 379, 561, 1387, 1918], 4966: [91, 470, 874, 630, 876], 4967: [2125, 421, 245, 1481, 2228], 4968: [435, 666, 657, 915, 676], 4969: [2125, 2228, 872, 630, 665], 4970: [421, 1481, 91, 914, 665], 4971: [630, 958, 902, 899, 872], 4972: [718, 1987, 1686, 955, 889], 4973: [421, 2316, 1429, 245, 895], 4974: [666, 2555, 944, 928, 1186], 4975: [818, 118, 931, 876, 1429], 4976: [2056, 2663, 2534, 2823, 2613], 4977: [676, 435, 883, 877, 889], 4978: [676, 435, 889, 878, 883], 4979: [2725, 2191, 2077, 2192, 892], 4980: [245, 1255, 895, 421, 118], 4981: [484, 899, 665, 1687, 815], 4982: [876, 874, 906, 878, 886], 4983: [2316, 0, 29, 1741, 2055], 4984: [776, 872, 895, 884, 912], 4985: [876, 906, 1918, 874, 889], 4986: [1918, 470, 435, 906, 889], 4987: [91, 470, 379, 1918, 1151], 4988: [484, 630, 421, 232, 872], 4989: [484, 245, 232, 473, 888], 4990: [44, 484, 1186, 473, 232], 4991: [2056, 473, 872, 245, 2228], 4992: [435, 889, 874, 906, 878], 4993: [1774, 665, 421, 673, 16], 4994: [676, 435, 883, 877, 2583], 4995: [597, 1687, 868, 29, 196], 4996: [44, 1186, 232, 810, 484], 4997: [87, 1393, 1110, 874, 1294], 4998: [44, 232, 473, 245, 484], 4999: [2316, 0, 1774, 1481, 2018], 5000: [911, 471, 821, 118, 951], 5001: [667, 16, 1415, 653, 1526], 5002: [876, 874, 245, 672, 421], 5003: [1918, 470, 379, 1151, 2173], 5004: [2125, 899, 484, 2079, 922], 5005: [2125, 2056, 630, 2228, 1724], 5006: [666, 2555, 661, 944, 653], 5007: [2125, 2228, 484, 245, 421], 5008: [435, 630, 874, 885, 878], 5009: [875, 876, 2087, 922, 939], 5010: [421, 1481, 914, 881, 665], 5011: [1575, 394, 1434, 2588, 1589], 5012: [958, 1481, 923, 914, 933], 5013: [872, 630, 675, 884, 665], 5014: [676, 435, 665, 915, 666], 5015: [960, 275, 1738, 342, 902], 5016: [245, 2125, 1255, 484, 232], 5017: [630, 874, 876, 889, 906], 5018: [665, 421, 914, 884, 954], 5019: [630, 665, 675, 876, 657], 5020: [876, 875, 874, 886, 949], 5021: [676, 435, 665, 915, 2583], 5022: [876, 630, 874, 886, 875], 5023: [2125, 770, 942, 474, 760], 5024: [663, 665, 899, 666, 652], 5025: [630, 876, 665, 675, 874], 5026: [923, 946, 666, 2188, 943], 5027: [2125, 2228, 2056, 1774, 2018], 5028: [763, 475, 2316, 942, 672], 5029: [2056, 1297, 358, 118, 1179], 5030: [2000, 2009, 181, 2056, 2228], 5031: [421, 2125, 1774, 245, 484], 5032: [2228, 2125, 181, 2018, 2175], 5033: [653, 661, 1415, 667, 930], 5034: [876, 630, 872, 874, 473], 5035: [875, 960, 1783, 931, 2175], 5036: [2056, 1741, 2316, 2018, 666], 5037: [1774, 421, 2056, 274, 2316], 5038: [876, 899, 875, 665, 895], 5039: [44, 1186, 915, 810, 2056], 5040: [889, 470, 379, 878, 1918], 5041: [876, 875, 895, 2056, 2018], 5042: [394, 1435, 1689, 1724, 2311], 5043: [274, 433, 477, 1774, 1994], 5044: [895, 2087, 2283, 960, 1738], 5045: [2079, 899, 947, 1023, 2087], 5046: [2307, 913, 843, 2736, 2555], 5047: [44, 1186, 484, 232, 810], 5048: [960, 1234, 895, 2283, 902], 5049: [2316, 2792, 2056, 0, 947], 5050: [274, 2125, 421, 1774, 1263], 5051: [2056, 2125, 2228, 2168, 2198], 5052: [874, 876, 818, 421, 886], 5053: [2823, 676, 2897, 435, 1214], 5054: [678, 667, 16, 652, 720], 5055: [665, 719, 1186, 666, 1774], 5056: [2364, 799, 926, 931, 2725], 5057: [630, 484, 872, 2125, 232], 5058: [666, 657, 928, 915, 656], 5059: [44, 473, 810, 484, 2056], 5060: [939, 902, 947, 2725, 2079], 5061: [0, 469, 1918, 1151, 874], 5062: [2125, 2228, 872, 484, 245], 5063: [421, 1774, 274, 665, 673], 5064: [888, 232, 484, 245, 872], 5065: [0, 2316, 469, 475, 281], 5066: [2125, 245, 2056, 872, 473], 5067: [665, 675, 672, 884, 657], 5068: [922, 1738, 1429, 900, 895], 5069: [666, 928, 915, 2555, 944], 5070: [947, 1512, 1023, 2545, 1651], 5071: [876, 875, 949, 1918, 886], 5072: [931, 874, 886, 1918, 435], 5073: [435, 1186, 676, 657, 915], 5074: [843, 898, 196, 1016, 2234], 5075: [435, 676, 889, 878, 470], 5076: [2125, 2079, 91, 922, 875], 5077: [891, 921, 657, 2736, 915], 5078: [931, 1151, 379, 991, 1918], 5079: [245, 872, 473, 2056, 421], 5080: [2056, 2228, 2018, 44, 1774], 5081: [2316, 421, 274, 0, 1774], 5082: [899, 2228, 663, 652, 2639], 5083: [1670, 473, 245, 274, 1255], 5084: [87, 274, 1085, 1110, 874], 5085: [884, 665, 912, 663, 872], 5086: [421, 876, 665, 895, 872], 5087: [2534, 2793, 876, 2663, 2316], 5088: [889, 470, 906, 435, 878], 5089: [1774, 2316, 29, 899, 2792], 5090: [922, 818, 872, 895, 876], 5091: [421, 245, 2056, 1774, 1234], 5092: [770, 274, 91, 630, 1415], 5093: [91, 421, 1481, 245, 118], 5094: [1481, 91, 630, 473, 421], 5095: [675, 665, 884, 630, 872], 5096: [2228, 2639, 1186, 2198, 2125], 5097: [2125, 2228, 1774, 2056, 872], 5098: [891, 657, 974, 676, 916], 5099: [1110, 1393, 87, 2009, 1031], 5100: [2641, 817, 2208, 2607, 2498], 5101: [435, 878, 906, 877, 889], 5102: [874, 876, 886, 91, 818], 5103: [1025, 1918, 243, 44, 1186], 5104: [876, 630, 874, 886, 1918], 5105: [665, 872, 676, 2056, 421], 5106: [0, 2316, 469, 29, 1741], 5107: [895, 735, 2168, 817, 776], 5108: [29, 423, 410, 818, 0], 5109: [672, 770, 1415, 719, 667], 5110: [421, 874, 1481, 665, 876], 5111: [817, 678, 720, 1705, 1424], 5112: [666, 435, 2056, 833, 676], 5113: [665, 915, 928, 675, 887], 5114: [0, 469, 475, 2316, 281], 5115: [421, 245, 2125, 473, 484], 5116: [2125, 2228, 1774, 2056, 1937], 5117: [2056, 1774, 2228, 2009, 2000], 5118: [561, 379, 358, 1179, 1739], 5119: [2125, 2228, 1774, 1937, 484], 5120: [630, 1186, 44, 889, 906], 5121: [2125, 1151, 91, 295, 1393], 5122: [2125, 1918, 470, 379, 2056], 5123: [2897, 2534, 2663, 2613, 2792], 5124: [666, 2316, 1774, 657, 665], 5125: [666, 2555, 665, 887, 944], 5126: [875, 960, 2175, 1651, 2087], 5127: [906, 435, 878, 1918, 889], 5128: [630, 876, 665, 1481, 473], 5129: [1918, 676, 435, 470, 889], 5130: [421, 665, 872, 245, 884], 5131: [421, 875, 960, 1481, 874], 5132: [675, 665, 884, 912, 630], 5133: [2663, 2897, 2534, 2613, 2590], 5134: [245, 421, 2056, 473, 872], 5135: [2087, 2175, 421, 931, 245], 5136: [1918, 874, 274, 931, 435], 5137: [2125, 2228, 2018, 181, 1481], 5138: [0, 91, 1179, 358, 2316], 5139: [245, 421, 1255, 872, 118], 5140: [1429, 118, 911, 421, 908], 5141: [1918, 470, 906, 889, 874], 5142: [875, 876, 949, 922, 908], 5143: [2125, 91, 181, 2056, 2198], 5144: [2663, 2793, 2897, 2534, 2613], 5145: [2056, 2228, 2198, 2125, 1937], 5146: [2056, 2168, 2228, 2233, 1937], 5147: [44, 1186, 810, 473, 484], 5148: [2125, 2228, 245, 232, 2056], 5149: [876, 875, 874, 630, 886], 5150: [421, 1774, 926, 875, 0], 5151: [2125, 2056, 2290, 2018, 421], 5152: [874, 906, 889, 878, 886], 5153: [1738, 937, 900, 895, 2087], 5154: [2125, 2663, 2823, 91, 2793], 5155: [91, 470, 379, 1481, 1918], 5156: [630, 876, 893, 958, 906], 5157: [665, 657, 666, 661, 675], 5158: [421, 2056, 2316, 630, 876], 5159: [2663, 2793, 2823, 2125, 2534], 5160: [2125, 484, 232, 872, 473], 5161: [888, 232, 810, 44, 484], 5162: [358, 1179, 1918, 470, 379], 5163: [0, 274, 931, 1151, 2316], 5164: [421, 1481, 245, 665, 914], 5165: [872, 899, 2228, 421, 1774], 5166: [665, 915, 630, 661, 914], 5167: [676, 435, 889, 883, 877], 5168: [0, 274, 2316, 926, 1297], 5169: [358, 1179, 1918, 470, 245], 5170: [2125, 484, 44, 232, 473], 5171: [876, 630, 874, 958, 886], 5172: [899, 868, 1687, 652, 926], 5173: [1918, 2663, 470, 379, 358], 5174: [2228, 2125, 1937, 2168, 2354], 5175: [2125, 2663, 2228, 2354, 2198], 5176: [2316, 2663, 2823, 1481, 1918], 5177: [561, 358, 292, 1179, 295], 5178: [2316, 2639, 2018, 1741, 2725], 5179: [473, 44, 484, 232, 245], 5180: [665, 666, 657, 915, 421], 5181: [2663, 1774, 2534, 2316, 1741], 5182: [931, 274, 886, 91, 874], 5183: [2056, 2125, 2228, 1918, 473], 5184: [2897, 2590, 2907, 2469, 2792], 5185: [872, 245, 473, 1429, 2342], 5186: [676, 435, 2583, 877, 1155], 5187: [676, 435, 877, 2583, 2056], 5188: [2316, 0, 274, 931, 118], 5189: [676, 435, 883, 889, 470], 5190: [2316, 0, 1741, 469, 475], 5191: [358, 245, 1918, 473, 2056], 5192: [1741, 2056, 1774, 2316, 2364], 5193: [931, 2316, 875, 2364, 874], 5194: [2316, 2018, 2056, 875, 2175], 5195: [675, 665, 657, 915, 884], 5196: [2125, 2228, 1774, 1937, 484], 5197: [666, 944, 923, 1186, 915], 5198: [181, 2125, 1773, 2228, 1937], 5199: [1481, 91, 922, 245, 473], 5200: [1918, 874, 818, 906, 435], 5201: [665, 630, 872, 421, 661], 5202: [630, 1186, 44, 232, 484], 5203: [421, 1481, 91, 1186, 274], 5204: [906, 1918, 874, 889, 470], 5205: [2316, 2056, 0, 1031, 2603], 5206: [1481, 2125, 421, 245, 630], 5207: [875, 960, 1651, 1234, 876], 5208: [2056, 1918, 2663, 2125, 2823], 5209: [630, 872, 876, 1421, 902], 5210: [876, 665, 895, 874, 657], 5211: [435, 906, 874, 931, 878], 5212: [665, 630, 872, 661, 912], 5213: [2663, 2793, 2534, 2823, 2613], 5214: [245, 473, 872, 665, 895], 5215: [630, 665, 872, 899, 912], 5216: [2125, 2228, 2056, 181, 2198], 5217: [1918, 2056, 470, 2364, 435], 5218: [874, 875, 1575, 1434, 886], 5219: [1918, 470, 886, 874, 906], 5220: [921, 1453, 1738, 2545, 1705], 5221: [915, 676, 657, 666, 435], 5222: [672, 939, 931, 875, 960], 5223: [2228, 1773, 181, 874, 1937], 5224: [2316, 1741, 1774, 2018, 2056], 5225: [181, 2228, 2198, 1773, 1918], 5226: [630, 876, 886, 91, 874], 5227: [1918, 561, 470, 243, 1387], 5228: [2125, 2228, 2056, 245, 473], 5229: [2056, 1741, 2364, 2018, 2316], 5230: [358, 876, 771, 1179, 1918], 5231: [1481, 874, 886, 878, 91], 5232: [2316, 1918, 2364, 0, 878], 5233: [245, 872, 421, 484, 232], 5234: [899, 947, 1512, 1023, 2590], 5235: [1481, 2316, 0, 1918, 874], 5236: [245, 473, 2056, 2342, 1255], 5237: [876, 874, 886, 949, 1918], 5238: [672, 473, 245, 665, 44], 5239: [922, 1738, 2087, 960, 1023], 5240: [2125, 1774, 2228, 1937, 2056], 5241: [421, 875, 665, 1774, 245], 5242: [676, 2897, 435, 2823, 883], 5243: [874, 1918, 886, 876, 906], 5244: [2056, 473, 245, 44, 2125], 5245: [630, 872, 676, 899, 92], 5246: [2125, 2228, 181, 2009, 2198], 5247: [2125, 2228, 2056, 181, 1937], 5248: [1774, 960, 2125, 875, 275], 5249: [292, 267, 2421, 561, 2056], 5250: [2125, 91, 421, 1481, 473], 5251: [1774, 2228, 245, 2056, 926], 5252: [872, 630, 484, 92, 473], 5253: [672, 665, 630, 673, 891], 5254: [91, 470, 379, 1918, 1179], 5255: [665, 421, 881, 630, 675], 5256: [433, 471, 1670, 274, 468], 5257: [657, 661, 665, 675, 663], 5258: [2056, 1186, 1774, 44, 1918], 5259: [872, 245, 473, 630, 2125], 5260: [899, 2087, 939, 663, 884], 5261: [421, 630, 245, 872, 473], 5262: [2056, 2018, 2228, 666, 1774], 5263: [906, 878, 876, 470, 771], 5264: [2056, 2087, 2018, 931, 875], 5265: [915, 657, 899, 928, 666], 5266: [2125, 484, 473, 232, 44], 5267: [2125, 2228, 2590, 2897, 899], 5268: [875, 1651, 960, 1783, 1459], 5269: [484, 44, 888, 232, 810], 5270: [889, 878, 906, 874, 1918], 5271: [1186, 665, 657, 928, 661], 5272: [2125, 875, 1435, 922, 2175], 5273: [652, 658, 663, 2555, 919], 5274: [2125, 872, 630, 473, 484], 5275: [245, 1255, 421, 473, 31], 5276: [0, 1481, 2316, 1774, 274], 5277: [958, 876, 1016, 630, 2316], 5278: [435, 676, 906, 1918, 874], 5279: [1774, 16, 665, 421, 673], 5280: [2228, 2125, 2198, 2354, 2663], 5281: [876, 908, 1459, 2648, 949], 5282: [2316, 0, 469, 1741, 763], 5283: [2823, 2792, 875, 2055, 874], 5284: [1481, 421, 245, 876, 875], 5285: [2009, 2000, 181, 2198, 2228], 5286: [899, 958, 926, 939, 2725], 5287: [2648, 960, 2175, 1223, 2260], 5288: [665, 661, 2897, 2590, 2534], 5289: [661, 930, 653, 678, 944], 5290: [2125, 484, 872, 245, 473], 5291: [484, 421, 245, 2125, 473], 5292: [630, 665, 872, 675, 884], 5293: [245, 421, 1481, 2316, 875], 5294: [2228, 1918, 2125, 875, 877], 5295: [2056, 2316, 2018, 1741, 875], 5296: [2125, 484, 630, 872, 232], 5297: [2056, 358, 1918, 473, 470], 5298: [435, 676, 874, 1918, 906], 5299: [435, 889, 676, 878, 883], 5300: [899, 799, 883, 877, 435], 5301: [1918, 886, 2056, 874, 818], 5302: [469, 475, 433, 0, 281], 5303: [245, 421, 1481, 1255, 922], 5304: [2125, 2897, 2534, 2663, 2228], 5305: [2125, 2228, 2198, 232, 2056], 5306: [2056, 292, 16, 2264, 342], 5307: [874, 1918, 435, 886, 931], 5308: [470, 1918, 874, 886, 379], 5309: [1741, 2056, 2009, 181, 1774], 5310: [666, 944, 2555, 682, 1610], 5311: [675, 657, 665, 676, 915], 5312: [939, 2175, 2018, 2876, 926], 5313: [661, 665, 666, 653, 944], 5314: [2125, 2228, 1937, 2354, 2590], 5315: [1774, 666, 2125, 2228, 665], 5316: [2316, 1741, 2228, 1774, 1937], 5317: [1475, 912, 895, 911, 655], 5318: [876, 1918, 949, 874, 886], 5319: [181, 2198, 935, 1918, 1391], 5320: [2316, 0, 469, 475, 281], 5321: [630, 872, 484, 92, 888], 5322: [2316, 1774, 2792, 875, 0], 5323: [666, 2228, 2316, 2364, 1937], 5324: [91, 1481, 245, 274, 473], 5325: [245, 118, 421, 473, 1255], 5326: [1023, 947, 2087, 2175, 875], 5327: [2018, 2175, 875, 1741, 2316], 5328: [2125, 484, 232, 872, 473], 5329: [895, 872, 884, 912, 1424], 5330: [2125, 484, 232, 2228, 630], 5331: [274, 245, 421, 118, 1481], 5332: [470, 358, 1179, 1918, 379], 5333: [1239, 809, 620, 16, 2615], 5334: [2897, 2534, 2590, 2613, 2793], 5335: [876, 0, 875, 2087, 2316], 5336: [1016, 876, 630, 1422, 771], 5337: [875, 876, 763, 2082, 892], 5338: [676, 435, 1918, 916, 889], 5339: [1918, 874, 886, 876, 875], 5340: [1774, 1724, 2168, 16, 2228], 5341: [876, 630, 672, 875, 895], 5342: [1481, 91, 274, 1918, 886], 5343: [473, 2056, 44, 0, 2316], 5344: [884, 421, 118, 29, 895], 5345: [20, 1773, 295, 1110, 181], 5346: [2125, 2056, 2228, 473, 44], 5347: [2009, 1393, 1297, 1110, 1151], 5348: [921, 421, 1456, 891, 1445], 5349: [1774, 960, 16, 29, 2283], 5350: [630, 876, 1918, 874, 886], 5351: [876, 874, 886, 949, 875], 5352: [672, 763, 770, 667, 1415], 5353: [421, 245, 872, 630, 876], 5354: [358, 1179, 470, 379, 561], 5355: [2125, 2056, 872, 2018, 1774], 5356: [1456, 891, 1016, 921, 1445], 5357: [2056, 2228, 2198, 2125, 181], 5358: [630, 876, 958, 874, 1016], 5359: [876, 2792, 2663, 358, 281], 5360: [2125, 2663, 2228, 2823, 2354], 5361: [0, 281, 763, 469, 475], 5362: [666, 2555, 944, 682, 665], 5363: [1918, 470, 874, 886, 876], 5364: [630, 876, 358, 771, 2056], 5365: [2056, 2009, 2198, 44, 1393], 5366: [181, 232, 245, 2056, 44], 5367: [675, 881, 884, 887, 656], 5368: [1918, 435, 470, 676, 1186], 5369: [902, 899, 630, 876, 909], 5370: [2009, 2000, 2056, 2018, 1741], 5371: [947, 196, 1512, 2545, 993], 5372: [2056, 2125, 473, 245, 44], 5373: [91, 2663, 470, 1481, 874], 5374: [2009, 2056, 2000, 2228, 2125], 5375: [0, 2316, 1741, 2228, 2056], 5376: [435, 893, 874, 811, 878], 5377: [245, 473, 484, 232, 44], 5378: [666, 2125, 2228, 1774, 2056], 5379: [2056, 2125, 2663, 2018, 2228], 5380: [2125, 2228, 2056, 2354, 2663], 5381: [0, 2316, 2087, 2079, 931], 5382: [876, 949, 875, 886, 874], 5383: [2056, 666, 2018, 657, 931], 5384: [2316, 0, 763, 475, 469], 5385: [876, 630, 874, 886, 906], 5386: [2663, 1918, 2823, 833, 2364], 5387: [680, 891, 868, 16, 669], 5388: [876, 771, 949, 1016, 874], 5389: [2364, 676, 833, 435, 2056], 5390: [630, 958, 1481, 888, 484], 5391: [2056, 2228, 872, 1774, 1186], 5392: [274, 1774, 2056, 421, 245], 5393: [421, 895, 245, 872, 954], 5394: [675, 1060, 2907, 585, 2937], 5395: [666, 2228, 2056, 1774, 2125], 5396: [874, 906, 1918, 878, 886], 5397: [232, 661, 888, 2125, 44], 5398: [2125, 2228, 2056, 2198, 2168], 5399: [1918, 2364, 2056, 2125, 379], 5400: [2663, 2793, 2897, 2613, 2534], 5401: [2125, 245, 421, 232, 1255], 5402: [421, 874, 818, 665, 876], 5403: [1918, 876, 2056, 886, 874], 5404: [931, 2316, 1429, 2056, 818], 5405: [2125, 473, 484, 2056, 245], 5406: [0, 2316, 29, 421, 960], 5407: [1186, 44, 484, 630, 473], 5408: [818, 435, 942, 770, 763], 5409: [2056, 2228, 1774, 2125, 1937], 5410: [2056, 2228, 2639, 2125, 2364], 5411: [2056, 1724, 1774, 2228, 2125], 5412: [874, 421, 886, 1774, 435], 5413: [630, 883, 676, 889, 435], 5414: [470, 931, 922, 2079, 379], 5415: [875, 960, 876, 1774, 926], 5416: [2125, 922, 484, 2079, 91], 5417: [874, 435, 886, 818, 1575], 5418: [875, 876, 874, 630, 947], 5419: [630, 92, 665, 876, 44], 5420: [760, 1539, 1380, 475, 281], 5421: [245, 473, 421, 888, 484], 5422: [899, 663, 939, 903, 2125], 5423: [473, 44, 1186, 245, 484], 5424: [2125, 2056, 1774, 2534, 2228], 5425: [2125, 2228, 872, 2198, 232], 5426: [931, 470, 274, 771, 358], 5427: [484, 1186, 630, 232, 44], 5428: [1255, 274, 1022, 471, 421], 5429: [872, 245, 421, 895, 884], 5430: [1774, 667, 673, 2125, 1415], 5431: [0, 2316, 1774, 29, 274], 5432: [665, 884, 421, 872, 895], 5433: [2056, 993, 484, 2586, 2233], 5434: [435, 877, 1918, 657, 947], 5435: [91, 2125, 379, 470, 1151], 5436: [470, 91, 379, 1918, 1151], 5437: [435, 906, 876, 878, 875], 5438: [245, 421, 1255, 473, 993], 5439: [2125, 2228, 872, 630, 484], 5440: [2228, 926, 1937, 1186, 484], 5441: [630, 473, 470, 872, 1481], 5442: [44, 473, 2056, 245, 232], 5443: [91, 274, 421, 471, 1155], 5444: [2056, 2228, 1774, 2125, 1724], 5445: [630, 876, 889, 906, 958], 5446: [665, 675, 884, 912, 915], 5447: [895, 884, 912, 872, 2125], 5448: [899, 903, 2502, 912, 872], 5449: [2057, 2663, 2125, 1179, 2056], 5450: [665, 895, 874, 2125, 875], 5451: [630, 876, 874, 886, 875], 5452: [484, 1918, 630, 2228, 1186], 5453: [2056, 1918, 2663, 473, 245], 5454: [630, 665, 872, 672, 891], 5455: [2056, 2125, 245, 1481, 886], 5456: [2316, 29, 0, 1774, 926], 5457: [1918, 435, 470, 877, 874], 5458: [630, 196, 876, 44, 2897], 5459: [2009, 2000, 2005, 1919, 274], 5460: [245, 872, 484, 473, 421], 5461: [2316, 0, 1774, 29, 926], 5462: [2009, 2663, 2000, 1741, 2018], 5463: [675, 884, 665, 657, 880], 5464: [665, 872, 899, 675, 884], 5465: [2125, 2228, 1937, 1774, 181], 5466: [1186, 1774, 2228, 1687, 232], 5467: [1186, 421, 665, 666, 1481], 5468: [675, 657, 877, 435, 876], 5469: [1186, 44, 435, 915, 666], 5470: [630, 872, 665, 912, 675], 5471: [91, 1481, 2125, 421, 245], 5472: [876, 949, 719, 875, 886], 5473: [906, 876, 771, 889, 1918], 5474: [1918, 470, 874, 889, 886], 5475: [947, 1023, 801, 2175, 1512], 5476: [666, 665, 1186, 915, 1774], 5477: [874, 886, 876, 889, 906], 5478: [91, 1918, 1481, 886, 274], 5479: [960, 875, 1651, 1023, 2175], 5480: [2125, 960, 667, 1774, 875], 5481: [2056, 2228, 2663, 2534, 2125], 5482: [91, 893, 885, 15, 1179], 5483: [29, 421, 0, 274, 1297], 5484: [435, 874, 878, 676, 886], 5485: [874, 435, 886, 906, 878], 5486: [44, 1186, 810, 232, 888], 5487: [874, 886, 1918, 470, 1481], 5488: [2125, 2228, 245, 895, 2198], 5489: [2125, 1481, 91, 245, 421], 5490: [1918, 358, 2056, 473, 0], 5491: [245, 473, 232, 274, 44], 5492: [1918, 2056, 931, 274, 886], 5493: [196, 597, 1687, 2897, 0], 5494: [630, 876, 958, 899, 875], 5495: [2125, 2228, 2198, 2056, 181], 5496: [2056, 1774, 2316, 2228, 1741], 5497: [875, 892, 1459, 771, 876], 5498: [484, 29, 421, 245, 473], 5499: [91, 470, 274, 379, 1151], 5500: [2125, 2228, 1774, 484, 245], 5501: [666, 435, 1774, 926, 274], 5502: [2125, 421, 1774, 2228, 245], 5503: [2125, 2228, 1774, 2056, 484], 5504: [2853, 2188, 958, 2278, 923], 5505: [470, 1918, 358, 91, 475], 5506: [2125, 2056, 2228, 872, 2198], 5507: [2125, 2056, 2228, 2009, 2000], 5508: [2056, 2228, 2125, 2009, 2000], 5509: [895, 908, 874, 876, 1428], 5510: [1481, 91, 876, 908, 874], 5511: [684, 652, 1186, 902, 666], 5512: [876, 875, 1459, 630, 949], 5513: [884, 895, 421, 872, 665], 5514: [2056, 2228, 2125, 2198, 2534], 5515: [874, 630, 876, 875, 886], 5516: [245, 2342, 960, 922, 2056], 5517: [666, 2555, 887, 944, 1610], 5518: [874, 886, 876, 1918, 875], 5519: [939, 931, 2018, 672, 895], 5520: [2056, 245, 1774, 421, 473], 5521: [0, 2316, 245, 2056, 473], 5522: [1060, 1651, 1512, 585, 1233], 5523: [763, 469, 1179, 475, 1005], 5524: [763, 770, 667, 930, 653], 5525: [2316, 0, 1741, 469, 118], 5526: [1413, 675, 898, 915, 888], 5527: [2056, 118, 245, 473, 1255], 5528: [630, 872, 665, 92, 675], 5529: [2663, 2793, 2897, 2590, 91], 5530: [2125, 585, 872, 1060, 672], 5531: [1179, 91, 2421, 561, 267], 5532: [2056, 245, 473, 421, 1481], 5533: [630, 876, 874, 886, 1481], 5534: [2125, 876, 2663, 886, 874], 5535: [421, 1481, 245, 874, 893], 5536: [906, 771, 44, 1193, 497], 5537: [675, 665, 884, 657, 912], 5538: [666, 2018, 2175, 2079, 931], 5539: [652, 702, 666, 705, 682], 5540: [874, 630, 889, 886, 676], 5541: [630, 876, 874, 421, 1481], 5542: [630, 675, 915, 92, 872], 5543: [1918, 1575, 935, 2364, 2198], 5544: [2125, 2056, 2228, 2198, 181], 5545: [665, 435, 876, 872, 630], 5546: [891, 1456, 921, 1016, 1445], 5547: [1774, 2125, 275, 433, 477], 5548: [2125, 2228, 2168, 1724, 1937], 5549: [630, 872, 876, 958, 899], 5550: [471, 421, 118, 245, 1670], 5551: [891, 921, 889, 1456, 1445], 5552: [958, 630, 902, 2125, 2228], 5553: [876, 665, 435, 874, 630], 5554: [889, 676, 878, 435, 1686], 5555: [421, 245, 876, 2056, 44], 5556: [435, 874, 878, 889, 676], 5557: [630, 872, 874, 1481, 484], 5558: [2364, 874, 1918, 2316, 876], 5559: [2125, 421, 245, 232, 91], 5560: [2056, 1918, 931, 435, 906], 5561: [421, 274, 118, 1774, 1481], 5562: [2056, 1774, 2316, 2018, 245], 5563: [421, 2125, 245, 1481, 473], 5564: [2056, 2228, 666, 2018, 2125], 5565: [874, 886, 876, 875, 1918], 5566: [665, 676, 881, 675, 914], 5567: [937, 2257, 665, 884, 663], 5568: [1947, 243, 876, 1594, 874], 5569: [433, 477, 960, 10, 342], 5570: [876, 875, 358, 672, 949], 5571: [657, 675, 891, 665, 915], 5572: [630, 1481, 2125, 91, 876], 5573: [657, 665, 891, 915, 884], 5574: [889, 921, 1016, 718, 874], 5575: [1774, 2316, 1741, 2018, 2364], 5576: [1465, 991, 667, 949, 770], 5577: [872, 484, 630, 473, 1186], 5578: [2125, 875, 876, 2056, 886], 5579: [245, 421, 473, 872, 1481], 5580: [872, 884, 895, 902, 2087], 5581: [771, 876, 358, 906, 949], 5582: [665, 675, 666, 719, 884], 5583: [1481, 91, 886, 2663, 874], 5584: [891, 939, 1456, 921, 718], 5585: [1186, 44, 484, 810, 630], 5586: [2125, 245, 484, 473, 232], 5587: [2056, 2009, 91, 1724, 181], 5588: [2125, 484, 872, 245, 232], 5589: [1186, 44, 666, 661, 657], 5590: [421, 245, 484, 888, 872], 5591: [2228, 44, 2125, 232, 1186], 5592: [435, 676, 1918, 874, 906], 5593: [906, 1918, 889, 931, 876], 5594: [872, 665, 884, 912, 630], 5595: [1918, 874, 889, 886, 2125], 5596: [630, 473, 676, 889, 872], 5597: [891, 1456, 2125, 473, 1588], 5598: [886, 2663, 874, 421, 274], 5599: [1774, 1724, 2125, 2057, 2663], 5600: [960, 926, 1297, 1774, 433], 5601: [44, 1186, 358, 915, 657], 5602: [2316, 2792, 2663, 1481, 1774], 5603: [1774, 960, 421, 876, 2018], 5604: [421, 665, 16, 673, 473], 5605: [2125, 1689, 443, 770, 1539], 5606: [421, 1774, 274, 245, 2125], 5607: [1393, 181, 2316, 1937, 0], 5608: [2125, 484, 872, 245, 232], 5609: [891, 872, 630, 675, 884], 5610: [245, 473, 421, 1255, 993], 5611: [470, 379, 1918, 889, 91], 5612: [2056, 2018, 2228, 2000, 2009], 5613: [2125, 2228, 2079, 1937, 1774], 5614: [2056, 40, 2586, 939, 2311], 5615: [2316, 0, 29, 2056, 1741], 5616: [872, 630, 958, 2125, 902], 5617: [1918, 906, 874, 889, 878], 5618: [2056, 0, 2316, 1918, 1741], 5619: [1774, 665, 1186, 2228, 2056], 5620: [771, 2793, 2342, 1429, 931], 5621: [630, 2125, 232, 883, 885], 5622: [899, 947, 1023, 903, 902], 5623: [2175, 875, 960, 1435, 908], 5624: [1481, 874, 875, 91, 886], 5625: [947, 899, 484, 1186, 44], 5626: [91, 1481, 2793, 914, 2663], 5627: [939, 1746, 891, 974, 881], 5628: [876, 874, 630, 889, 1016], 5629: [630, 665, 872, 915, 92], 5630: [0, 29, 1918, 196, 484], 5631: [435, 676, 818, 874, 473], 5632: [91, 1481, 2125, 876, 875], 5633: [676, 874, 630, 435, 872], 5634: [875, 931, 874, 886, 2018], 5635: [0, 672, 475, 281, 2316], 5636: [2736, 129, 910, 843, 1421], 5637: [1918, 875, 931, 470, 358], 5638: [421, 245, 91, 1481, 1255], 5639: [2125, 2228, 2056, 872, 484], 5640: [2125, 2228, 2056, 2198, 1937], 5641: [274, 433, 477, 1297, 10], 5642: [2316, 475, 281, 0, 1380], 5643: [1427, 2534, 2283, 667, 241], 5644: [0, 2316, 469, 1741, 274], 5645: [2056, 358, 1179, 379, 1918], 5646: [876, 874, 630, 875, 886], 5647: [630, 872, 876, 2125, 44], 5648: [876, 886, 874, 1918, 875], 5649: [473, 274, 245, 421, 1481], 5650: [763, 2316, 0, 475, 1526], 5651: [2056, 44, 473, 2316, 1741], 5652: [245, 232, 888, 473, 484], 5653: [473, 245, 2897, 44, 2534], 5654: [2316, 2590, 1918, 2228, 2823], 5655: [91, 274, 1481, 118, 1263], 5656: [2125, 630, 1481, 91, 872], 5657: [358, 118, 274, 1297, 0], 5658: [881, 923, 630, 666, 914], 5659: [2056, 1918, 358, 292, 561], 5660: [435, 874, 2056, 886, 833], 5661: [672, 665, 630, 657, 881], 5662: [2056, 1918, 561, 358, 0], 5663: [1481, 245, 421, 2056, 473], 5664: [2228, 2125, 1918, 181, 2056], 5665: [245, 473, 421, 44, 484], 5666: [2125, 1481, 91, 421, 484], 5667: [630, 915, 958, 899, 1421], 5668: [876, 91, 886, 949, 874], 5669: [926, 1205, 275, 899, 34], 5670: [889, 1918, 470, 874, 379], 5671: [876, 1429, 895, 818, 908], 5672: [2056, 2228, 1774, 2125, 1937], 5673: [665, 875, 652, 661, 960], 5674: [421, 1481, 245, 29, 484], 5675: [2056, 2174, 2100, 1421, 358], 5676: [2125, 876, 875, 874, 2228], 5677: [118, 245, 884, 703, 1255], 5678: [889, 470, 1918, 676, 874], 5679: [1179, 2421, 267, 561, 9], 5680: [666, 665, 944, 2555, 928], 5681: [2125, 2228, 484, 2056, 872], 5682: [1718, 5, 44, 810, 15], 5683: [91, 2125, 1481, 274, 421], 5684: [939, 892, 947, 2307, 1016], 5685: [2228, 2125, 2056, 181, 1937], 5686: [915, 1186, 889, 435, 928], 5687: [876, 874, 886, 949, 875], 5688: [473, 245, 44, 232, 484], 5689: [911, 1429, 118, 956, 1241], 5690: [245, 421, 872, 473, 232], 5691: [875, 876, 0, 2316, 931], 5692: [2056, 2125, 1774, 421, 2018], 5693: [665, 675, 876, 874, 895], 5694: [1774, 2228, 1741, 181, 1937], 5695: [676, 435, 874, 2583, 906], 5696: [889, 906, 878, 435, 874], 5697: [2663, 2534, 2056, 2793, 2613], 5698: [473, 889, 921, 891, 676], 5699: [2056, 1186, 435, 44, 939], 5700: [2056, 245, 473, 274, 0], 5701: [874, 1918, 886, 470, 876], 5702: [421, 2316, 29, 0, 245], 5703: [915, 891, 928, 666, 657], 5704: [1774, 421, 665, 2125, 875], 5705: [0, 2316, 469, 1741, 281], 5706: [2316, 1741, 0, 1774, 2018], 5707: [0, 2316, 29, 926, 2792], 5708: [435, 676, 877, 883, 878], 5709: [876, 630, 874, 906, 949], 5710: [2125, 2056, 473, 245, 232], 5711: [2056, 473, 44, 2057, 2232], 5712: [876, 906, 874, 878, 771], 5713: [1774, 0, 29, 2316, 926], 5714: [2534, 2663, 2613, 2056, 2793], 5715: [876, 874, 886, 630, 906], 5716: [874, 886, 2228, 2125, 181], 5717: [1614, 893, 771, 908, 1422], 5718: [993, 1255, 118, 245, 29], 5719: [44, 473, 245, 2056, 875], 5720: [1918, 906, 470, 1151, 2173], 5721: [884, 675, 872, 665, 657], 5722: [899, 630, 909, 2607, 872], 5723: [435, 1918, 44, 2823, 874], 5724: [630, 876, 872, 874, 665], 5725: [2125, 2663, 2228, 2354, 2534], 5726: [1481, 91, 630, 908, 958], 5727: [2663, 2534, 2125, 2793, 2613], 5728: [875, 960, 2082, 2725, 1783], 5729: [921, 718, 1445, 1456, 2018], 5730: [1774, 2056, 274, 886, 1481], 5731: [876, 771, 949, 630, 906], 5732: [875, 665, 1774, 876, 719], 5733: [630, 473, 484, 2125, 872], 5734: [665, 1774, 673, 875, 421], 5735: [91, 2125, 1481, 379, 922], 5736: [665, 657, 675, 666, 435], 5737: [473, 245, 484, 872, 44], 5738: [1481, 421, 1686, 2018, 718], 5739: [630, 2125, 1481, 473, 484], 5740: [1918, 874, 886, 379, 876], 5741: [676, 889, 883, 916, 2583], 5742: [672, 665, 653, 884, 673], 5743: [421, 245, 665, 473, 872], 5744: [667, 770, 2125, 1415, 653], 5745: [876, 874, 886, 875, 630], 5746: [1481, 874, 91, 886, 421], 5747: [421, 471, 91, 245, 1032], 5748: [1481, 91, 245, 473, 421], 5749: [597, 1384, 861, 1186, 810], 5750: [630, 915, 665, 92, 675], 5751: [2316, 1741, 2056, 2364, 2055], 5752: [484, 421, 665, 2125, 245], 5753: [1016, 876, 889, 921, 874], 5754: [875, 421, 245, 874, 895], 5755: [1428, 1705, 954, 924, 908], 5756: [2125, 1774, 665, 872, 2228], 5757: [630, 889, 874, 676, 876], 5758: [657, 1186, 915, 666, 902], 5759: [358, 1918, 906, 2264, 597], 5760: [2125, 2228, 181, 1937, 1774], 5761: [926, 1393, 0, 2725, 1697], 5762: [763, 818, 281, 475, 672], 5763: [1687, 909, 2461, 678, 735], 5764: [665, 657, 666, 673, 656], 5765: [876, 874, 875, 1918, 906], 5766: [91, 2125, 2793, 1481, 2663], 5767: [922, 470, 473, 2079, 1459], 5768: [665, 16, 652, 669, 673], 5769: [1186, 44, 484, 630, 676], 5770: [872, 895, 884, 245, 912], 5771: [942, 883, 676, 763, 474], 5772: [2793, 91, 2663, 1481, 2650], 5773: [2125, 2056, 2228, 473, 872], 5774: [421, 245, 2125, 1481, 473], 5775: [484, 888, 232, 44, 473], 5776: [1918, 874, 886, 435, 1481], 5777: [421, 245, 665, 872, 473], 5778: [470, 889, 1918, 676, 435], 5779: [44, 771, 810, 657, 2175], 5780: [561, 5, 15, 358, 1507], 5781: [2056, 2228, 2663, 2198, 2125], 5782: [818, 1429, 473, 245, 2342], 5783: [433, 477, 274, 1994, 259], 5784: [2056, 2000, 2009, 2018, 1741], 5785: [91, 358, 1481, 1918, 274], 5786: [232, 484, 888, 44, 2125], 5787: [942, 944, 930, 661, 719], 5788: [1016, 939, 2018, 1393, 1445], 5789: [2056, 666, 2228, 2018, 2639], 5790: [872, 2056, 473, 245, 876], 5791: [2228, 2056, 245, 2125, 44], 5792: [2198, 2168, 1724, 2354, 1718], 5793: [881, 666, 923, 915, 719], 5794: [960, 875, 801, 2283, 2082], 5795: [2723, 1474, 703, 474, 667], 5796: [2228, 2125, 1937, 2056, 1774], 5797: [435, 833, 2364, 877, 883], 5798: [958, 875, 2125, 960, 1774], 5799: [44, 1186, 473, 435, 2056], 5800: [2056, 2316, 2018, 1741, 1774], 5801: [2056, 473, 245, 1918, 676], 5802: [665, 661, 675, 657, 666], 5803: [2125, 2228, 181, 1773, 1937], 5804: [2125, 421, 245, 665, 872], 5805: [665, 672, 875, 653, 661], 5806: [675, 1413, 884, 678, 665], 5807: [421, 1481, 29, 0, 2316], 5808: [876, 874, 630, 1481, 875], 5809: [2087, 1023, 939, 947, 931], 5810: [630, 872, 2125, 473, 484], 5811: [2228, 2125, 657, 891, 2056], 5812: [770, 16, 1239, 620, 809], 5813: [876, 771, 949, 886, 874], 5814: [473, 245, 484, 872, 421], 5815: [676, 435, 889, 883, 906], 5816: [2056, 666, 1186, 2228, 44], 5817: [2056, 2018, 1741, 2009, 886], 5818: [1774, 2056, 666, 2228, 2316], 5819: [91, 470, 379, 1151, 1481], 5820: [245, 473, 2056, 872, 421], 5821: [421, 1186, 875, 245, 473], 5822: [1456, 891, 1445, 1016, 921], 5823: [874, 876, 875, 886, 1918], 5824: [2056, 2198, 991, 1864, 1179], 5825: [2228, 2897, 2125, 2792, 2534], 5826: [2125, 2228, 232, 2198, 181], 5827: [1918, 1151, 274, 358, 295], 5828: [2056, 2125, 2228, 2198, 245], 5829: [875, 876, 630, 958, 922], 5830: [2316, 2792, 2079, 2087, 958], 5831: [2723, 894, 1776, 2610, 119], 5832: [421, 1481, 245, 875, 874], 5833: [1774, 421, 2056, 245, 2125], 5834: [2125, 666, 2228, 665, 1774], 5835: [872, 245, 421, 895, 884], 5836: [421, 245, 1481, 2056, 473], 5837: [2421, 267, 374, 1179, 5], 5838: [665, 421, 16, 719, 1774], 5839: [421, 1481, 245, 665, 91], 5840: [433, 960, 477, 10, 274], 5841: [763, 667, 1415, 653, 960], 5842: [876, 874, 630, 906, 889], 5843: [672, 653, 2316, 818, 703], 5844: [2364, 2316, 1918, 874, 886], 5845: [666, 2228, 2056, 1937, 1774], 5846: [872, 2125, 665, 484, 245], 5847: [875, 2125, 672, 394, 1435], 5848: [881, 421, 914, 719, 923], 5849: [421, 1481, 874, 876, 886], 5850: [665, 719, 672, 876, 673], 5851: [874, 876, 91, 886, 1481], 5852: [665, 912, 884, 245, 673], 5853: [435, 676, 666, 665, 878], 5854: [1031, 1947, 1207, 1594, 59], 5855: [2125, 1774, 1724, 421, 2228], 5856: [876, 875, 949, 874, 886], 5857: [672, 876, 818, 245, 874], 5858: [421, 665, 1481, 630, 914], 5859: [630, 872, 421, 473, 245], 5860: [2079, 960, 2725, 0, 274], 5861: [666, 1186, 657, 2056, 915], 5862: [991, 949, 876, 243, 875], 5863: [2056, 1774, 2018, 1741, 2009], 5864: [421, 1481, 245, 91, 473], 5865: [874, 435, 1918, 421, 886], 5866: [473, 657, 891, 245, 872], 5867: [2056, 1724, 1774, 2009, 1741], 5868: [872, 245, 421, 2125, 2056], 5869: [1918, 470, 886, 91, 379], 5870: [2125, 2228, 232, 245, 473], 5871: [473, 2125, 245, 2056, 665], 5872: [2663, 2125, 2056, 2228, 2057], 5873: [874, 1918, 470, 876, 906], 5874: [630, 665, 2056, 876, 1186], 5875: [1918, 473, 630, 1481, 874], 5876: [876, 630, 874, 1016, 886], 5877: [2056, 2316, 2018, 1741, 1774], 5878: [1651, 16, 1475, 680, 1234], 5879: [876, 1918, 874, 886, 906], 5880: [1773, 2228, 1060, 1272, 947], 5881: [274, 433, 477, 1297, 468], 5882: [470, 1918, 906, 435, 2173], 5883: [2125, 2228, 181, 2198, 2009], 5884: [874, 889, 906, 878, 470], 5885: [44, 1186, 473, 232, 484], 5886: [1186, 44, 875, 232, 1774], 5887: [0, 2316, 245, 29, 421], 5888: [663, 899, 652, 902, 919], 5889: [899, 421, 872, 2087, 665], 5890: [914, 2087, 937, 1481, 902], 5891: [2009, 2000, 2056, 1741, 181], 5892: [676, 435, 874, 889, 883], 5893: [947, 1512, 1023, 801, 899], 5894: [1481, 91, 630, 876, 358], 5895: [44, 810, 1186, 232, 484], 5896: [1393, 1110, 1937, 1294, 1773], 5897: [2228, 2125, 1937, 2056, 2168], 5898: [2125, 2228, 2056, 2198, 1774], 5899: [2056, 2018, 2316, 473, 245], 5900: [2125, 872, 630, 895, 31], 5901: [630, 2125, 876, 872, 874], 5902: [665, 1186, 661, 421, 473], 5903: [1918, 1481, 91, 470, 358], 5904: [874, 886, 1918, 435, 878], 5905: [939, 931, 0, 2079, 926], 5906: [245, 473, 44, 875, 672], 5907: [657, 675, 665, 666, 915], 5908: [876, 91, 1481, 949, 875], 5909: [921, 1016, 891, 1456, 1445], 5910: [16, 421, 245, 895, 1724], 5911: [435, 676, 1186, 44, 2056], 5912: [2056, 245, 2018, 2087, 1429], 5913: [245, 473, 44, 232, 484], 5914: [44, 1186, 810, 232, 888], 5915: [274, 91, 1481, 1918, 886], 5916: [891, 1987, 1972, 657, 656], 5917: [876, 875, 874, 949, 931], 5918: [630, 876, 874, 872, 886], 5919: [2009, 2000, 181, 2056, 2018], 5920: [245, 421, 960, 274, 1255], 5921: [874, 1481, 876, 886, 421], 5922: [672, 245, 2087, 484, 884], 5923: [245, 2125, 91, 473, 1481], 5924: [949, 1179, 876, 771, 2421], 5925: [875, 922, 2087, 947, 672], 5926: [1179, 949, 358, 771, 876], 5927: [484, 815, 29, 421, 2125], 5928: [666, 435, 1918, 470, 874], 5929: [1445, 1456, 921, 983, 891], 5930: [0, 2316, 2056, 926, 1774], 5931: [876, 874, 886, 875, 949], 5932: [91, 470, 1481, 1918, 379], 5933: [2056, 2009, 2000, 1741, 2018], 5934: [872, 665, 630, 421, 2125], 5935: [0, 926, 1393, 2316, 274], 5936: [630, 876, 874, 1481, 421], 5937: [245, 435, 875, 473, 818], 5938: [2228, 1937, 630, 1773, 876], 5939: [872, 630, 473, 245, 665], 5940: [2056, 2009, 2000, 1724, 1774], 5941: [44, 1186, 473, 657, 435], 5942: [484, 915, 657, 675, 899], 5943: [421, 245, 2316, 29, 0], 5944: [665, 1774, 960, 875, 673], 5945: [630, 958, 92, 899, 872], 5946: [274, 1774, 433, 477, 16], 5947: [889, 1987, 676, 1686, 718], 5948: [652, 663, 899, 658, 719], 5949: [232, 2125, 888, 44, 245], 5950: [630, 885, 872, 92, 883], 5951: [876, 875, 874, 931, 818], 5952: [665, 719, 666, 435, 630], 5953: [1918, 2056, 2364, 2316, 435], 5954: [1972, 939, 1968, 2298, 1573], 5955: [875, 1186, 665, 44, 1774], 5956: [2125, 874, 630, 473, 876], 5957: [874, 435, 875, 1918, 886], 5958: [630, 876, 874, 958, 1481], 5959: [1393, 274, 1297, 1110, 926], 5960: [1774, 274, 2018, 960, 931], 5961: [1186, 44, 484, 1193, 5], 5962: [630, 2125, 484, 872, 232], 5963: [630, 1186, 876, 44, 874], 5964: [675, 2198, 810, 585, 1773], 5965: [2000, 2009, 2125, 181, 2228], 5966: [2125, 484, 245, 232, 2228], 5967: [1481, 2125, 2056, 421, 245], 5968: [630, 876, 874, 889, 1016], 5969: [2316, 2079, 875, 801, 960], 5970: [676, 2583, 435, 906, 889], 5971: [1774, 960, 421, 274, 0], 5972: [2175, 1435, 2648, 875, 2018], 5973: [1918, 470, 906, 435, 878], 5974: [421, 888, 484, 245, 665], 5975: [245, 473, 2056, 44, 818], 5976: [245, 473, 421, 484, 232], 5977: [630, 872, 1016, 92, 958], 5978: [474, 672, 476, 760, 923], 5979: [666, 2056, 435, 665, 657], 5980: [915, 665, 661, 719, 630], 5981: [666, 657, 675, 653, 917], 5982: [876, 771, 358, 949, 1179], 5983: [470, 874, 1918, 906, 886], 5984: [906, 889, 435, 878, 874], 5985: [245, 2056, 473, 1774, 421], 5986: [665, 16, 673, 895, 884], 5987: [2125, 484, 232, 473, 44], 5988: [421, 29, 926, 0, 274], 5989: [2316, 0, 1741, 1774, 274], 5990: [2639, 899, 958, 630, 903], 5991: [2316, 0, 29, 1774, 875], 5992: [2056, 1774, 1741, 2316, 2018], 5993: [657, 656, 44, 666, 665], 5994: [771, 1918, 876, 949, 470], 5995: [2056, 886, 1918, 818, 906], 5996: [763, 1526, 667, 770, 672], 5997: [889, 470, 878, 435, 676], 5998: [2125, 91, 1255, 421, 31], 5999: [666, 928, 2555, 915, 944], 6000: [118, 1863, 421, 1297, 245], 6001: [44, 1186, 484, 473, 2056], 6002: [872, 914, 1420, 933, 937], 6003: [2125, 1481, 484, 421, 888], 6004: [875, 2055, 874, 1741, 886], 6005: [1445, 1456, 921, 983, 891], 6006: [1526, 475, 672, 281, 763], 6007: [1016, 292, 876, 889, 295], 6008: [470, 1918, 906, 771, 358], 6009: [2125, 473, 91, 245, 2056], 6010: [876, 908, 1459, 949, 875], 6011: [876, 1179, 1918, 949, 991], 6012: [2198, 2056, 2228, 2168, 1724], 6013: [2125, 2056, 245, 1774, 2228], 6014: [657, 676, 630, 672, 661], 6015: [2316, 0, 1741, 469, 29], 6016: [909, 735, 2607, 868, 899], 6017: [2056, 666, 2316, 2534, 1774], 6018: [874, 886, 876, 906, 889], 6019: [1918, 2056, 473, 245, 2125], 6020: [470, 889, 630, 874, 1918], 6021: [876, 875, 949, 874, 771], 6022: [876, 874, 906, 931, 875], 6023: [876, 561, 1481, 949, 771], 6024: [1918, 876, 771, 886, 949], 6025: [1774, 274, 477, 433, 275], 6026: [676, 435, 874, 889, 906], 6027: [91, 1481, 274, 358, 1179], 6028: [876, 906, 771, 874, 889], 6029: [2056, 2018, 1741, 818, 931], 6030: [435, 676, 1918, 874, 1476], 6031: [874, 1918, 876, 931, 818], 6032: [899, 630, 939, 672, 872], 6033: [91, 1481, 470, 379, 876], 6034: [666, 915, 1186, 928, 435], 6035: [1155, 421, 1214, 991, 245], 6036: [1721, 1724, 2168, 241, 410], 6037: [872, 915, 675, 676, 665], 6038: [1774, 421, 274, 875, 665], 6039: [653, 652, 666, 663, 930]}\n"
     ]
    }
   ],
   "source": [
    "def generate_recommendations(\n",
    "    user_features: np.ndarray,\n",
    "    item_features: np.ndarray,\n",
    "    user_item_matrix: np.ndarray,\n",
    "    top_n: int = 5,\n",
    ") -> dict:\n",
    "    \"\"\"\n",
    "    Generate recommendations for each user.\n",
    "\n",
    "    Parameters\n",
    "    ----------\n",
    "    user_features : np.ndarray\n",
    "        Matrix containing the latent features for each user.\n",
    "    item_features : np.ndarray\n",
    "        Matrix containing the latent features for each item.\n",
    "    user_item_matrix : np.ndarray\n",
    "        Original matrix of users and items with missing values.\n",
    "    top_n : int\n",
    "        Number of recommendations to return for each user.\n",
    "\n",
    "    Returns\n",
    "    -------\n",
    "    dict\n",
    "        A dictionary where keys are user indices and values are lists of recommended item indices.\n",
    "    \"\"\"\n",
    "    # Compute full matrix of predicted ratings\n",
    "    predicted_ratings = np.dot(user_features, item_features.T)\n",
    "\n",
    "    # Generate recommendations\n",
    "    recommendations = {}\n",
    "    for user_index in range(1, user_item_matrix.shape[0]):\n",
    "        # Get top N item indices\n",
    "        recommended_items = np.argsort(predicted_ratings[user_index - 1])[-top_n:][::-1]\n",
    "        recommendations[user_index] = recommended_items.tolist()\n",
    "\n",
    "    return recommendations\n",
    "\n",
    "\n",
    "recommendations = generate_recommendations(\n",
    "    user_features, item_features, df_matrix_train.values, top_n=5\n",
    ")\n",
    "print(\"Recommendations (user: [items]):\", recommendations)"
   ],
   "metadata": {
    "collapsed": false,
    "ExecuteTime": {
     "end_time": "2024-07-07T17:55:29.535459300Z",
     "start_time": "2024-07-07T17:55:28.298391700Z"
    }
   },
   "id": "e7f7e60e0a1b65f8"
  },
  {
   "cell_type": "markdown",
   "source": [
    "# Matrix factorization Rating Prediction"
   ],
   "metadata": {
    "collapsed": false
   },
   "id": "ee3c9904eae77212"
  },
  {
   "cell_type": "code",
   "execution_count": 229,
   "outputs": [],
   "source": [
    "def matrix_factorization(R, P, Q, K, steps=10, alpha=0.0002, beta=0.02):\n",
    "    '''\n",
    "    R: rating matrix\n",
    "    P: |U| * K (User features matrix)\n",
    "    Q: |D| * K (Item features matrix)\n",
    "    K: latent features\n",
    "    steps: iterations\n",
    "    alpha: learning rate\n",
    "    beta: regularization parameter\n",
    "    '''\n",
    "    Q = Q.T\n",
    "\n",
    "    for step in range(steps):\n",
    "        print(f'step {step}')\n",
    "        for i in range(len(R)):\n",
    "            for j in range(len(R[i])):\n",
    "                if R[i][j] > 0:\n",
    "                    # calculate error\n",
    "                    eij = R[i][j] - np.dot(P[i,:],Q[:,j])\n",
    "                    for k in range(K):\n",
    "                        # calculate gradient with a and beta parameter\n",
    "                        P[i][k] = P[i][k] + alpha * (2 * eij * Q[k][j] - beta * P[i][k])\n",
    "                        Q[k][j] = Q[k][j] + alpha * (2 * eij * P[i][k] - beta * Q[k][j])\n",
    "\n",
    "        e = 0\n",
    "        for i in range(len(R)):\n",
    "            for j in range(len(R[i])):\n",
    "                if R[i][j] > 0:\n",
    "                    e = e + pow(R[i][j] - np.dot(P[i,:],Q[:,j]), 2)\n",
    "                    for k in range(K):\n",
    "                        e = e + (beta/2) * (pow(P[i][k],2) + pow(Q[k][j],2))\n",
    "\n",
    "        # 0.001: local minimum\n",
    "        if e < 0.001:\n",
    "            break\n",
    "\n",
    "    return P, Q.T"
   ],
   "metadata": {
    "collapsed": false,
    "ExecuteTime": {
     "end_time": "2024-07-07T18:57:35.555091200Z",
     "start_time": "2024-07-07T18:57:35.386287700Z"
    }
   },
   "id": "f7b3f8dcf0cf6f9a"
  },
  {
   "cell_type": "code",
   "execution_count": 204,
   "outputs": [
    {
     "name": "stdout",
     "output_type": "stream",
     "text": [
      "step 0\n",
      "step 1\n",
      "step 2\n",
      "step 3\n",
      "step 4\n",
      "step 5\n",
      "step 6\n",
      "step 7\n",
      "step 8\n",
      "step 9\n"
     ]
    }
   ],
   "source": [
    "nP, nQ = matrix_factorization(df_matrix_train.values, user_features, item_features, 20)"
   ],
   "metadata": {
    "collapsed": false,
    "ExecuteTime": {
     "start_time": "2024-07-07T17:39:43.304537700Z"
    }
   },
   "id": "d586e28afd808df9"
  },
  {
   "cell_type": "code",
   "execution_count": 205,
   "outputs": [
    {
     "name": "stdout",
     "output_type": "stream",
     "text": [
      "[[4.21894678 2.20567027 1.24939046 ... 0.6130792  0.39590729 1.52663447]\n",
      " [2.98310849 2.52426446 2.26517352 ... 0.76308519 0.33861339 1.66322228]\n",
      " [2.81438319 1.91831974 1.57376331 ... 0.39890701 0.19117785 1.08234458]\n",
      " ...\n",
      " [1.25694956 0.5486279  0.60756261 ... 0.19632009 0.12638608 0.42093436]\n",
      " [3.25003271 1.9453285  1.70200207 ... 0.62457283 0.35222086 1.13186761]\n",
      " [3.13895777 1.45550542 0.18751011 ... 1.22208847 0.809031   1.94767856]]\n"
     ]
    }
   ],
   "source": [
    "nR = np.dot(nP, nQ.T)\n",
    "print(nR)"
   ],
   "metadata": {
    "collapsed": false,
    "ExecuteTime": {
     "start_time": "2024-07-07T17:55:22.486392100Z"
    }
   },
   "id": "1af6434a000f7f99"
  }
 ],
 "metadata": {
  "kernelspec": {
   "display_name": "Python 3",
   "language": "python",
   "name": "python3"
  },
  "language_info": {
   "codemirror_mode": {
    "name": "ipython",
    "version": 2
   },
   "file_extension": ".py",
   "mimetype": "text/x-python",
   "name": "python",
   "nbconvert_exporter": "python",
   "pygments_lexer": "ipython2",
   "version": "2.7.6"
  }
 },
 "nbformat": 4,
 "nbformat_minor": 5
}
